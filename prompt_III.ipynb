{
 "cells": [
  {
   "cell_type": "markdown",
   "metadata": {},
   "source": [
    "# Practical Application III: Comparing Classifiers\n",
    "\n",
    "**Overview**: In this practical application, your goal is to compare the performance of the classifiers we encountered in this section, namely K Nearest Neighbor, Logistic Regression, Decision Trees, and Support Vector Machines.  We will utilize a dataset related to marketing bank products over the telephone.  \n",
    "\n"
   ]
  },
  {
   "cell_type": "markdown",
   "metadata": {},
   "source": [
    "### Getting Started\n",
    "\n",
    "Our dataset comes from the UCI Machine Learning repository [link](https://archive.ics.uci.edu/ml/datasets/bank+marketing).  The data is from a Portugese banking institution and is a collection of the results of multiple marketing campaigns.  We will make use of the article accompanying the dataset [here](CRISP-DM-BANK.pdf) for more information on the data and features.\n",
    "\n"
   ]
  },
  {
   "cell_type": "markdown",
   "metadata": {},
   "source": [
    "### Problem 1: Understanding the Data\n",
    "\n",
    "To gain a better understanding of the data, please read the information provided in the UCI link above, and examine the **Materials and Methods** section of the paper.  How many marketing campaigns does this data represent?"
   ]
  },
  {
   "cell_type": "markdown",
   "metadata": {},
   "source": [
    "The dataset collected is related to 17 campaigns that occurred between May 2008 and November 2010, corresponding to a total of 79354 contacts. During these phone campaigns, an attractive long-term deposit application, with good interest rates, was offered. For the whole database considered, there were 6499 successes (8% success rate)."
   ]
  },
  {
   "cell_type": "markdown",
   "metadata": {},
   "source": [
    "### Problem 2: Read in the Data\n",
    "\n",
    "Use pandas to read in the dataset `bank-additional-full.csv` and assign to a meaningful variable name."
   ]
  },
  {
   "cell_type": "code",
   "execution_count": 117,
   "metadata": {
    "tags": []
   },
   "outputs": [],
   "source": [
    "import pandas as pd\n",
    "\n",
    "import numpy as np\n",
    "\n",
    "from sklearn.linear_model import LogisticRegression, LinearRegression, Ridge\n",
    "from sklearn.decomposition import PCA\n",
    "from sklearn.preprocessing import StandardScaler, PolynomialFeatures\n",
    "from sklearn.preprocessing import OneHotEncoder\n",
    "from sklearn.pipeline import Pipeline\n",
    "from sklearn.model_selection import train_test_split,GridSearchCV\n",
    "from sklearn.svm import SVC\n",
    "from sklearn.neighbors import KNeighborsClassifier\n",
    "from sklearn.feature_selection import SequentialFeatureSelector\n",
    "from sklearn.metrics import mean_squared_error\n",
    "from sklearn.pipeline import Pipeline\n",
    "from sklearn.tree import DecisionTreeClassifier, export_text, plot_tree\n",
    "from time import process_time\n",
    "import matplotlib.pyplot as plt\n",
    "\n",
    "\n",
    "from sklearn import set_config\n",
    "set_config(display=\"diagram\")\n",
    "import seaborn as sns"
   ]
  },
  {
   "cell_type": "code",
   "execution_count": 7,
   "metadata": {
    "tags": []
   },
   "outputs": [],
   "source": [
    "df = pd.read_csv('data/bank-additional-full.csv', sep = ';')"
   ]
  },
  {
   "cell_type": "code",
   "execution_count": 8,
   "metadata": {
    "tags": []
   },
   "outputs": [
    {
     "data": {
      "text/html": [
       "<div>\n",
       "<style scoped>\n",
       "    .dataframe tbody tr th:only-of-type {\n",
       "        vertical-align: middle;\n",
       "    }\n",
       "\n",
       "    .dataframe tbody tr th {\n",
       "        vertical-align: top;\n",
       "    }\n",
       "\n",
       "    .dataframe thead th {\n",
       "        text-align: right;\n",
       "    }\n",
       "</style>\n",
       "<table border=\"1\" class=\"dataframe\">\n",
       "  <thead>\n",
       "    <tr style=\"text-align: right;\">\n",
       "      <th></th>\n",
       "      <th>age</th>\n",
       "      <th>job</th>\n",
       "      <th>marital</th>\n",
       "      <th>education</th>\n",
       "      <th>default</th>\n",
       "      <th>housing</th>\n",
       "      <th>loan</th>\n",
       "      <th>contact</th>\n",
       "      <th>month</th>\n",
       "      <th>day_of_week</th>\n",
       "      <th>...</th>\n",
       "      <th>campaign</th>\n",
       "      <th>pdays</th>\n",
       "      <th>previous</th>\n",
       "      <th>poutcome</th>\n",
       "      <th>emp.var.rate</th>\n",
       "      <th>cons.price.idx</th>\n",
       "      <th>cons.conf.idx</th>\n",
       "      <th>euribor3m</th>\n",
       "      <th>nr.employed</th>\n",
       "      <th>y</th>\n",
       "    </tr>\n",
       "  </thead>\n",
       "  <tbody>\n",
       "    <tr>\n",
       "      <th>0</th>\n",
       "      <td>56</td>\n",
       "      <td>housemaid</td>\n",
       "      <td>married</td>\n",
       "      <td>basic.4y</td>\n",
       "      <td>no</td>\n",
       "      <td>no</td>\n",
       "      <td>no</td>\n",
       "      <td>telephone</td>\n",
       "      <td>may</td>\n",
       "      <td>mon</td>\n",
       "      <td>...</td>\n",
       "      <td>1</td>\n",
       "      <td>999</td>\n",
       "      <td>0</td>\n",
       "      <td>nonexistent</td>\n",
       "      <td>1.1</td>\n",
       "      <td>93.994</td>\n",
       "      <td>-36.4</td>\n",
       "      <td>4.857</td>\n",
       "      <td>5191.0</td>\n",
       "      <td>no</td>\n",
       "    </tr>\n",
       "    <tr>\n",
       "      <th>1</th>\n",
       "      <td>57</td>\n",
       "      <td>services</td>\n",
       "      <td>married</td>\n",
       "      <td>high.school</td>\n",
       "      <td>unknown</td>\n",
       "      <td>no</td>\n",
       "      <td>no</td>\n",
       "      <td>telephone</td>\n",
       "      <td>may</td>\n",
       "      <td>mon</td>\n",
       "      <td>...</td>\n",
       "      <td>1</td>\n",
       "      <td>999</td>\n",
       "      <td>0</td>\n",
       "      <td>nonexistent</td>\n",
       "      <td>1.1</td>\n",
       "      <td>93.994</td>\n",
       "      <td>-36.4</td>\n",
       "      <td>4.857</td>\n",
       "      <td>5191.0</td>\n",
       "      <td>no</td>\n",
       "    </tr>\n",
       "    <tr>\n",
       "      <th>2</th>\n",
       "      <td>37</td>\n",
       "      <td>services</td>\n",
       "      <td>married</td>\n",
       "      <td>high.school</td>\n",
       "      <td>no</td>\n",
       "      <td>yes</td>\n",
       "      <td>no</td>\n",
       "      <td>telephone</td>\n",
       "      <td>may</td>\n",
       "      <td>mon</td>\n",
       "      <td>...</td>\n",
       "      <td>1</td>\n",
       "      <td>999</td>\n",
       "      <td>0</td>\n",
       "      <td>nonexistent</td>\n",
       "      <td>1.1</td>\n",
       "      <td>93.994</td>\n",
       "      <td>-36.4</td>\n",
       "      <td>4.857</td>\n",
       "      <td>5191.0</td>\n",
       "      <td>no</td>\n",
       "    </tr>\n",
       "    <tr>\n",
       "      <th>3</th>\n",
       "      <td>40</td>\n",
       "      <td>admin.</td>\n",
       "      <td>married</td>\n",
       "      <td>basic.6y</td>\n",
       "      <td>no</td>\n",
       "      <td>no</td>\n",
       "      <td>no</td>\n",
       "      <td>telephone</td>\n",
       "      <td>may</td>\n",
       "      <td>mon</td>\n",
       "      <td>...</td>\n",
       "      <td>1</td>\n",
       "      <td>999</td>\n",
       "      <td>0</td>\n",
       "      <td>nonexistent</td>\n",
       "      <td>1.1</td>\n",
       "      <td>93.994</td>\n",
       "      <td>-36.4</td>\n",
       "      <td>4.857</td>\n",
       "      <td>5191.0</td>\n",
       "      <td>no</td>\n",
       "    </tr>\n",
       "    <tr>\n",
       "      <th>4</th>\n",
       "      <td>56</td>\n",
       "      <td>services</td>\n",
       "      <td>married</td>\n",
       "      <td>high.school</td>\n",
       "      <td>no</td>\n",
       "      <td>no</td>\n",
       "      <td>yes</td>\n",
       "      <td>telephone</td>\n",
       "      <td>may</td>\n",
       "      <td>mon</td>\n",
       "      <td>...</td>\n",
       "      <td>1</td>\n",
       "      <td>999</td>\n",
       "      <td>0</td>\n",
       "      <td>nonexistent</td>\n",
       "      <td>1.1</td>\n",
       "      <td>93.994</td>\n",
       "      <td>-36.4</td>\n",
       "      <td>4.857</td>\n",
       "      <td>5191.0</td>\n",
       "      <td>no</td>\n",
       "    </tr>\n",
       "  </tbody>\n",
       "</table>\n",
       "<p>5 rows × 21 columns</p>\n",
       "</div>"
      ],
      "text/plain": [
       "   age        job  marital    education  default housing loan    contact  \\\n",
       "0   56  housemaid  married     basic.4y       no      no   no  telephone   \n",
       "1   57   services  married  high.school  unknown      no   no  telephone   \n",
       "2   37   services  married  high.school       no     yes   no  telephone   \n",
       "3   40     admin.  married     basic.6y       no      no   no  telephone   \n",
       "4   56   services  married  high.school       no      no  yes  telephone   \n",
       "\n",
       "  month day_of_week  ...  campaign  pdays  previous     poutcome emp.var.rate  \\\n",
       "0   may         mon  ...         1    999         0  nonexistent          1.1   \n",
       "1   may         mon  ...         1    999         0  nonexistent          1.1   \n",
       "2   may         mon  ...         1    999         0  nonexistent          1.1   \n",
       "3   may         mon  ...         1    999         0  nonexistent          1.1   \n",
       "4   may         mon  ...         1    999         0  nonexistent          1.1   \n",
       "\n",
       "   cons.price.idx  cons.conf.idx  euribor3m  nr.employed   y  \n",
       "0          93.994          -36.4      4.857       5191.0  no  \n",
       "1          93.994          -36.4      4.857       5191.0  no  \n",
       "2          93.994          -36.4      4.857       5191.0  no  \n",
       "3          93.994          -36.4      4.857       5191.0  no  \n",
       "4          93.994          -36.4      4.857       5191.0  no  \n",
       "\n",
       "[5 rows x 21 columns]"
      ]
     },
     "execution_count": 8,
     "metadata": {},
     "output_type": "execute_result"
    }
   ],
   "source": [
    "df.head()"
   ]
  },
  {
   "cell_type": "markdown",
   "metadata": {},
   "source": [
    "### Problem 3: Understanding the Features\n",
    "\n",
    "\n",
    "Examine the data description below, and determine if any of the features are missing values or need to be coerced to a different data type.\n",
    "\n",
    "\n",
    "```\n",
    "Input variables:\n",
    "# bank client data:\n",
    "1 - age (numeric)\n",
    "2 - job : type of job (categorical: 'admin.','blue-collar','entrepreneur','housemaid','management','retired','self-employed','services','student','technician','unemployed','unknown')\n",
    "3 - marital : marital status (categorical: 'divorced','married','single','unknown'; note: 'divorced' means divorced or widowed)\n",
    "4 - education (categorical: 'basic.4y','basic.6y','basic.9y','high.school','illiterate','professional.course','university.degree','unknown')\n",
    "5 - default: has credit in default? (categorical: 'no','yes','unknown')\n",
    "6 - housing: has housing loan? (categorical: 'no','yes','unknown')\n",
    "7 - loan: has personal loan? (categorical: 'no','yes','unknown')\n",
    "# related with the last contact of the current campaign:\n",
    "8 - contact: contact communication type (categorical: 'cellular','telephone')\n",
    "9 - month: last contact month of year (categorical: 'jan', 'feb', 'mar', ..., 'nov', 'dec')\n",
    "10 - day_of_week: last contact day of the week (categorical: 'mon','tue','wed','thu','fri')\n",
    "11 - duration: last contact duration, in seconds (numeric). Important note: this attribute highly affects the output target (e.g., if duration=0 then y='no'). Yet, the duration is not known before a call is performed. Also, after the end of the call y is obviously known. Thus, this input should only be included for benchmark purposes and should be discarded if the intention is to have a realistic predictive model.\n",
    "# other attributes:\n",
    "12 - campaign: number of contacts performed during this campaign and for this client (numeric, includes last contact)\n",
    "13 - pdays: number of days that passed by after the client was last contacted from a previous campaign (numeric; 999 means client was not previously contacted)\n",
    "14 - previous: number of contacts performed before this campaign and for this client (numeric)\n",
    "15 - poutcome: outcome of the previous marketing campaign (categorical: 'failure','nonexistent','success')\n",
    "# social and economic context attributes\n",
    "16 - emp.var.rate: employment variation rate - quarterly indicator (numeric)\n",
    "17 - cons.price.idx: consumer price index - monthly indicator (numeric)\n",
    "18 - cons.conf.idx: consumer confidence index - monthly indicator (numeric)\n",
    "19 - euribor3m: euribor 3 month rate - daily indicator (numeric)\n",
    "20 - nr.employed: number of employees - quarterly indicator (numeric)\n",
    "\n",
    "Output variable (desired target):\n",
    "21 - y - has the client subscribed a term deposit? (binary: 'yes','no')\n",
    "```\n",
    "\n"
   ]
  },
  {
   "cell_type": "code",
   "execution_count": 10,
   "metadata": {
    "tags": []
   },
   "outputs": [
    {
     "data": {
      "text/plain": [
       "age               0\n",
       "job               0\n",
       "marital           0\n",
       "education         0\n",
       "default           0\n",
       "housing           0\n",
       "loan              0\n",
       "contact           0\n",
       "month             0\n",
       "day_of_week       0\n",
       "duration          0\n",
       "campaign          0\n",
       "pdays             0\n",
       "previous          0\n",
       "poutcome          0\n",
       "emp.var.rate      0\n",
       "cons.price.idx    0\n",
       "cons.conf.idx     0\n",
       "euribor3m         0\n",
       "nr.employed       0\n",
       "y                 0\n",
       "dtype: int64"
      ]
     },
     "execution_count": 10,
     "metadata": {},
     "output_type": "execute_result"
    }
   ],
   "source": [
    "df.isna().sum()"
   ]
  },
  {
   "cell_type": "code",
   "execution_count": 11,
   "metadata": {
    "tags": []
   },
   "outputs": [
    {
     "data": {
      "text/plain": [
       "<Axes: ylabel='y'>"
      ]
     },
     "execution_count": 11,
     "metadata": {},
     "output_type": "execute_result"
    },
    {
     "data": {
      "image/png": "[encoded data removed]",
      "text/plain": [
       "<Figure size 640x480 with 1 Axes>"
      ]
     },
     "metadata": {},
     "output_type": "display_data"
    }
   ],
   "source": [
    "# Imbalanced class\n",
    "df['y'].value_counts().plot(kind='pie', autopct='%1.0f%%')"
   ]
  },
  {
   "cell_type": "markdown",
   "metadata": {},
   "source": [
    "#### Finding\n",
    "The dataset is clean.  The classes is imbalanced with 89% 'No' and 11% 'Yes' answers.  The 'Yes' percentage was higher than the original dataset where 'Yes' comprises only 8% of the dataset."
   ]
  },
  {
   "cell_type": "markdown",
   "metadata": {},
   "source": [
    "### Problem 4: Understanding the Task\n",
    "\n",
    "After examining the description and data, your goal now is to clearly state the *Business Objective* of the task.  State the objective below."
   ]
  },
  {
   "cell_type": "code",
   "execution_count": 13,
   "metadata": {
    "tags": []
   },
   "outputs": [
    {
     "name": "stdout",
     "output_type": "stream",
     "text": [
      "<class 'pandas.core.frame.DataFrame'>\n",
      "RangeIndex: 41188 entries, 0 to 41187\n",
      "Data columns (total 21 columns):\n",
      " #   Column          Non-Null Count  Dtype  \n",
      "---  ------          --------------  -----  \n",
      " 0   age             41188 non-null  int64  \n",
      " 1   job             41188 non-null  object \n",
      " 2   marital         41188 non-null  object \n",
      " 3   education       41188 non-null  object \n",
      " 4   default         41188 non-null  object \n",
      " 5   housing         41188 non-null  object \n",
      " 6   loan            41188 non-null  object \n",
      " 7   contact         41188 non-null  object \n",
      " 8   month           41188 non-null  object \n",
      " 9   day_of_week     41188 non-null  object \n",
      " 10  duration        41188 non-null  int64  \n",
      " 11  campaign        41188 non-null  int64  \n",
      " 12  pdays           41188 non-null  int64  \n",
      " 13  previous        41188 non-null  int64  \n",
      " 14  poutcome        41188 non-null  object \n",
      " 15  emp.var.rate    41188 non-null  float64\n",
      " 16  cons.price.idx  41188 non-null  float64\n",
      " 17  cons.conf.idx   41188 non-null  float64\n",
      " 18  euribor3m       41188 non-null  float64\n",
      " 19  nr.employed     41188 non-null  float64\n",
      " 20  y               41188 non-null  object \n",
      "dtypes: float64(5), int64(5), object(11)\n",
      "memory usage: 6.6+ MB\n"
     ]
    }
   ],
   "source": [
    "df.info()"
   ]
  },
  {
   "cell_type": "markdown",
   "metadata": {},
   "source": [
    "#### Business Objective"
   ]
  },
  {
   "cell_type": "markdown",
   "metadata": {},
   "source": [
    "The business objective of this task is to identify characteristics of the target population for the bank marketing campaign in order to maximize the conversion rate per contact attempt."
   ]
  },
  {
   "cell_type": "markdown",
   "metadata": {},
   "source": [
    "### Problem 5: Engineering Features\n",
    "\n",
    "Now that you understand your business objective, we will build a basic model to get started.  Before we can do this, we must work to encode the data.  Using just the bank information features (columns 1 - 7), prepare the features and target column for modeling with appropriate encoding and transformations."
   ]
  },
  {
   "cell_type": "code",
   "execution_count": 17,
   "metadata": {
    "tags": []
   },
   "outputs": [
    {
     "data": {
      "text/html": [
       "<div>\n",
       "<style scoped>\n",
       "    .dataframe tbody tr th:only-of-type {\n",
       "        vertical-align: middle;\n",
       "    }\n",
       "\n",
       "    .dataframe tbody tr th {\n",
       "        vertical-align: top;\n",
       "    }\n",
       "\n",
       "    .dataframe thead th {\n",
       "        text-align: right;\n",
       "    }\n",
       "</style>\n",
       "<table border=\"1\" class=\"dataframe\">\n",
       "  <thead>\n",
       "    <tr style=\"text-align: right;\">\n",
       "      <th></th>\n",
       "      <th>age</th>\n",
       "      <th>job</th>\n",
       "      <th>marital</th>\n",
       "      <th>education</th>\n",
       "      <th>default</th>\n",
       "      <th>housing</th>\n",
       "      <th>loan</th>\n",
       "      <th>y</th>\n",
       "    </tr>\n",
       "  </thead>\n",
       "  <tbody>\n",
       "    <tr>\n",
       "      <th>0</th>\n",
       "      <td>56</td>\n",
       "      <td>housemaid</td>\n",
       "      <td>married</td>\n",
       "      <td>basic.4y</td>\n",
       "      <td>no</td>\n",
       "      <td>no</td>\n",
       "      <td>no</td>\n",
       "      <td>no</td>\n",
       "    </tr>\n",
       "    <tr>\n",
       "      <th>1</th>\n",
       "      <td>57</td>\n",
       "      <td>services</td>\n",
       "      <td>married</td>\n",
       "      <td>high.school</td>\n",
       "      <td>unknown</td>\n",
       "      <td>no</td>\n",
       "      <td>no</td>\n",
       "      <td>no</td>\n",
       "    </tr>\n",
       "    <tr>\n",
       "      <th>2</th>\n",
       "      <td>37</td>\n",
       "      <td>services</td>\n",
       "      <td>married</td>\n",
       "      <td>high.school</td>\n",
       "      <td>no</td>\n",
       "      <td>yes</td>\n",
       "      <td>no</td>\n",
       "      <td>no</td>\n",
       "    </tr>\n",
       "    <tr>\n",
       "      <th>3</th>\n",
       "      <td>40</td>\n",
       "      <td>admin.</td>\n",
       "      <td>married</td>\n",
       "      <td>basic.6y</td>\n",
       "      <td>no</td>\n",
       "      <td>no</td>\n",
       "      <td>no</td>\n",
       "      <td>no</td>\n",
       "    </tr>\n",
       "    <tr>\n",
       "      <th>4</th>\n",
       "      <td>56</td>\n",
       "      <td>services</td>\n",
       "      <td>married</td>\n",
       "      <td>high.school</td>\n",
       "      <td>no</td>\n",
       "      <td>no</td>\n",
       "      <td>yes</td>\n",
       "      <td>no</td>\n",
       "    </tr>\n",
       "    <tr>\n",
       "      <th>...</th>\n",
       "      <td>...</td>\n",
       "      <td>...</td>\n",
       "      <td>...</td>\n",
       "      <td>...</td>\n",
       "      <td>...</td>\n",
       "      <td>...</td>\n",
       "      <td>...</td>\n",
       "      <td>...</td>\n",
       "    </tr>\n",
       "    <tr>\n",
       "      <th>41183</th>\n",
       "      <td>73</td>\n",
       "      <td>retired</td>\n",
       "      <td>married</td>\n",
       "      <td>professional.course</td>\n",
       "      <td>no</td>\n",
       "      <td>yes</td>\n",
       "      <td>no</td>\n",
       "      <td>yes</td>\n",
       "    </tr>\n",
       "    <tr>\n",
       "      <th>41184</th>\n",
       "      <td>46</td>\n",
       "      <td>blue-collar</td>\n",
       "      <td>married</td>\n",
       "      <td>professional.course</td>\n",
       "      <td>no</td>\n",
       "      <td>no</td>\n",
       "      <td>no</td>\n",
       "      <td>no</td>\n",
       "    </tr>\n",
       "    <tr>\n",
       "      <th>41185</th>\n",
       "      <td>56</td>\n",
       "      <td>retired</td>\n",
       "      <td>married</td>\n",
       "      <td>university.degree</td>\n",
       "      <td>no</td>\n",
       "      <td>yes</td>\n",
       "      <td>no</td>\n",
       "      <td>no</td>\n",
       "    </tr>\n",
       "    <tr>\n",
       "      <th>41186</th>\n",
       "      <td>44</td>\n",
       "      <td>technician</td>\n",
       "      <td>married</td>\n",
       "      <td>professional.course</td>\n",
       "      <td>no</td>\n",
       "      <td>no</td>\n",
       "      <td>no</td>\n",
       "      <td>yes</td>\n",
       "    </tr>\n",
       "    <tr>\n",
       "      <th>41187</th>\n",
       "      <td>74</td>\n",
       "      <td>retired</td>\n",
       "      <td>married</td>\n",
       "      <td>professional.course</td>\n",
       "      <td>no</td>\n",
       "      <td>yes</td>\n",
       "      <td>no</td>\n",
       "      <td>no</td>\n",
       "    </tr>\n",
       "  </tbody>\n",
       "</table>\n",
       "<p>41188 rows × 8 columns</p>\n",
       "</div>"
      ],
      "text/plain": [
       "       age          job  marital            education  default housing loan  \\\n",
       "0       56    housemaid  married             basic.4y       no      no   no   \n",
       "1       57     services  married          high.school  unknown      no   no   \n",
       "2       37     services  married          high.school       no     yes   no   \n",
       "3       40       admin.  married             basic.6y       no      no   no   \n",
       "4       56     services  married          high.school       no      no  yes   \n",
       "...    ...          ...      ...                  ...      ...     ...  ...   \n",
       "41183   73      retired  married  professional.course       no     yes   no   \n",
       "41184   46  blue-collar  married  professional.course       no      no   no   \n",
       "41185   56      retired  married    university.degree       no     yes   no   \n",
       "41186   44   technician  married  professional.course       no      no   no   \n",
       "41187   74      retired  married  professional.course       no     yes   no   \n",
       "\n",
       "         y  \n",
       "0       no  \n",
       "1       no  \n",
       "2       no  \n",
       "3       no  \n",
       "4       no  \n",
       "...    ...  \n",
       "41183  yes  \n",
       "41184   no  \n",
       "41185   no  \n",
       "41186  yes  \n",
       "41187   no  \n",
       "\n",
       "[41188 rows x 8 columns]"
      ]
     },
     "execution_count": 17,
     "metadata": {},
     "output_type": "execute_result"
    }
   ],
   "source": [
    "campaign_df = df[['age','job','marital','education','default','housing','loan','y']]\n",
    "campaign_df"
   ]
  },
  {
   "cell_type": "markdown",
   "metadata": {},
   "source": [
    "#### Apply One-Hot Encoding"
   ]
  },
  {
   "cell_type": "code",
   "execution_count": 19,
   "metadata": {
    "tags": []
   },
   "outputs": [
    {
     "name": "stdout",
     "output_type": "stream",
     "text": [
      "<class 'pandas.core.frame.DataFrame'>\n",
      "RangeIndex: 41188 entries, 0 to 41187\n",
      "Data columns (total 7 columns):\n",
      " #   Column     Non-Null Count  Dtype \n",
      "---  ------     --------------  ----- \n",
      " 0   job        41188 non-null  object\n",
      " 1   marital    41188 non-null  object\n",
      " 2   education  41188 non-null  object\n",
      " 3   default    41188 non-null  object\n",
      " 4   housing    41188 non-null  object\n",
      " 5   loan       41188 non-null  object\n",
      " 6   y          41188 non-null  object\n",
      "dtypes: object(7)\n",
      "memory usage: 2.2+ MB\n"
     ]
    }
   ],
   "source": [
    "features_to_encode = campaign_df.select_dtypes(include='object')\n",
    "features_to_encode.info()"
   ]
  },
  {
   "cell_type": "code",
   "execution_count": 20,
   "metadata": {
    "tags": []
   },
   "outputs": [
    {
     "data": {
      "text/plain": [
       "['job', 'marital', 'education', 'default', 'housing', 'loan', 'y']"
      ]
     },
     "execution_count": 20,
     "metadata": {},
     "output_type": "execute_result"
    }
   ],
   "source": [
    "cat_cols_ohe = features_to_encode.columns.to_list()\n",
    "cat_cols_ohe"
   ]
  },
  {
   "cell_type": "code",
   "execution_count": 21,
   "metadata": {
    "tags": []
   },
   "outputs": [],
   "source": [
    "ohe = OneHotEncoder(drop='if_binary', sparse_output=False, handle_unknown='ignore')\n",
    "ohe_features = ohe.fit_transform(features_to_encode)"
   ]
  },
  {
   "cell_type": "code",
   "execution_count": 22,
   "metadata": {
    "tags": []
   },
   "outputs": [
    {
     "data": {
      "text/plain": [
       "array(['job_admin.', 'job_blue-collar', 'job_entrepreneur',\n",
       "       'job_housemaid', 'job_management', 'job_retired',\n",
       "       'job_self-employed', 'job_services', 'job_student',\n",
       "       'job_technician', 'job_unemployed', 'job_unknown',\n",
       "       'marital_divorced', 'marital_married', 'marital_single',\n",
       "       'marital_unknown', 'education_basic.4y', 'education_basic.6y',\n",
       "       'education_basic.9y', 'education_high.school',\n",
       "       'education_illiterate', 'education_professional.course',\n",
       "       'education_university.degree', 'education_unknown', 'default_no',\n",
       "       'default_unknown', 'default_yes', 'housing_no', 'housing_unknown',\n",
       "       'housing_yes', 'loan_no', 'loan_unknown', 'loan_yes', 'y_yes'],\n",
       "      dtype=object)"
      ]
     },
     "execution_count": 22,
     "metadata": {},
     "output_type": "execute_result"
    }
   ],
   "source": [
    "ohe_cols = ohe.get_feature_names_out(cat_cols_ohe)\n",
    "ohe_cols"
   ]
  },
  {
   "cell_type": "code",
   "execution_count": 23,
   "metadata": {
    "tags": []
   },
   "outputs": [
    {
     "data": {
      "text/html": [
       "<div>\n",
       "<style scoped>\n",
       "    .dataframe tbody tr th:only-of-type {\n",
       "        vertical-align: middle;\n",
       "    }\n",
       "\n",
       "    .dataframe tbody tr th {\n",
       "        vertical-align: top;\n",
       "    }\n",
       "\n",
       "    .dataframe thead th {\n",
       "        text-align: right;\n",
       "    }\n",
       "</style>\n",
       "<table border=\"1\" class=\"dataframe\">\n",
       "  <thead>\n",
       "    <tr style=\"text-align: right;\">\n",
       "      <th></th>\n",
       "      <th>job_admin.</th>\n",
       "      <th>job_blue-collar</th>\n",
       "      <th>job_entrepreneur</th>\n",
       "      <th>job_housemaid</th>\n",
       "      <th>job_management</th>\n",
       "      <th>job_retired</th>\n",
       "      <th>job_self-employed</th>\n",
       "      <th>job_services</th>\n",
       "      <th>job_student</th>\n",
       "      <th>job_technician</th>\n",
       "      <th>...</th>\n",
       "      <th>default_no</th>\n",
       "      <th>default_unknown</th>\n",
       "      <th>default_yes</th>\n",
       "      <th>housing_no</th>\n",
       "      <th>housing_unknown</th>\n",
       "      <th>housing_yes</th>\n",
       "      <th>loan_no</th>\n",
       "      <th>loan_unknown</th>\n",
       "      <th>loan_yes</th>\n",
       "      <th>y_yes</th>\n",
       "    </tr>\n",
       "  </thead>\n",
       "  <tbody>\n",
       "    <tr>\n",
       "      <th>0</th>\n",
       "      <td>0.0</td>\n",
       "      <td>0.0</td>\n",
       "      <td>0.0</td>\n",
       "      <td>1.0</td>\n",
       "      <td>0.0</td>\n",
       "      <td>0.0</td>\n",
       "      <td>0.0</td>\n",
       "      <td>0.0</td>\n",
       "      <td>0.0</td>\n",
       "      <td>0.0</td>\n",
       "      <td>...</td>\n",
       "      <td>1.0</td>\n",
       "      <td>0.0</td>\n",
       "      <td>0.0</td>\n",
       "      <td>1.0</td>\n",
       "      <td>0.0</td>\n",
       "      <td>0.0</td>\n",
       "      <td>1.0</td>\n",
       "      <td>0.0</td>\n",
       "      <td>0.0</td>\n",
       "      <td>0.0</td>\n",
       "    </tr>\n",
       "    <tr>\n",
       "      <th>1</th>\n",
       "      <td>0.0</td>\n",
       "      <td>0.0</td>\n",
       "      <td>0.0</td>\n",
       "      <td>0.0</td>\n",
       "      <td>0.0</td>\n",
       "      <td>0.0</td>\n",
       "      <td>0.0</td>\n",
       "      <td>1.0</td>\n",
       "      <td>0.0</td>\n",
       "      <td>0.0</td>\n",
       "      <td>...</td>\n",
       "      <td>0.0</td>\n",
       "      <td>1.0</td>\n",
       "      <td>0.0</td>\n",
       "      <td>1.0</td>\n",
       "      <td>0.0</td>\n",
       "      <td>0.0</td>\n",
       "      <td>1.0</td>\n",
       "      <td>0.0</td>\n",
       "      <td>0.0</td>\n",
       "      <td>0.0</td>\n",
       "    </tr>\n",
       "    <tr>\n",
       "      <th>2</th>\n",
       "      <td>0.0</td>\n",
       "      <td>0.0</td>\n",
       "      <td>0.0</td>\n",
       "      <td>0.0</td>\n",
       "      <td>0.0</td>\n",
       "      <td>0.0</td>\n",
       "      <td>0.0</td>\n",
       "      <td>1.0</td>\n",
       "      <td>0.0</td>\n",
       "      <td>0.0</td>\n",
       "      <td>...</td>\n",
       "      <td>1.0</td>\n",
       "      <td>0.0</td>\n",
       "      <td>0.0</td>\n",
       "      <td>0.0</td>\n",
       "      <td>0.0</td>\n",
       "      <td>1.0</td>\n",
       "      <td>1.0</td>\n",
       "      <td>0.0</td>\n",
       "      <td>0.0</td>\n",
       "      <td>0.0</td>\n",
       "    </tr>\n",
       "    <tr>\n",
       "      <th>3</th>\n",
       "      <td>1.0</td>\n",
       "      <td>0.0</td>\n",
       "      <td>0.0</td>\n",
       "      <td>0.0</td>\n",
       "      <td>0.0</td>\n",
       "      <td>0.0</td>\n",
       "      <td>0.0</td>\n",
       "      <td>0.0</td>\n",
       "      <td>0.0</td>\n",
       "      <td>0.0</td>\n",
       "      <td>...</td>\n",
       "      <td>1.0</td>\n",
       "      <td>0.0</td>\n",
       "      <td>0.0</td>\n",
       "      <td>1.0</td>\n",
       "      <td>0.0</td>\n",
       "      <td>0.0</td>\n",
       "      <td>1.0</td>\n",
       "      <td>0.0</td>\n",
       "      <td>0.0</td>\n",
       "      <td>0.0</td>\n",
       "    </tr>\n",
       "    <tr>\n",
       "      <th>4</th>\n",
       "      <td>0.0</td>\n",
       "      <td>0.0</td>\n",
       "      <td>0.0</td>\n",
       "      <td>0.0</td>\n",
       "      <td>0.0</td>\n",
       "      <td>0.0</td>\n",
       "      <td>0.0</td>\n",
       "      <td>1.0</td>\n",
       "      <td>0.0</td>\n",
       "      <td>0.0</td>\n",
       "      <td>...</td>\n",
       "      <td>1.0</td>\n",
       "      <td>0.0</td>\n",
       "      <td>0.0</td>\n",
       "      <td>1.0</td>\n",
       "      <td>0.0</td>\n",
       "      <td>0.0</td>\n",
       "      <td>0.0</td>\n",
       "      <td>0.0</td>\n",
       "      <td>1.0</td>\n",
       "      <td>0.0</td>\n",
       "    </tr>\n",
       "    <tr>\n",
       "      <th>...</th>\n",
       "      <td>...</td>\n",
       "      <td>...</td>\n",
       "      <td>...</td>\n",
       "      <td>...</td>\n",
       "      <td>...</td>\n",
       "      <td>...</td>\n",
       "      <td>...</td>\n",
       "      <td>...</td>\n",
       "      <td>...</td>\n",
       "      <td>...</td>\n",
       "      <td>...</td>\n",
       "      <td>...</td>\n",
       "      <td>...</td>\n",
       "      <td>...</td>\n",
       "      <td>...</td>\n",
       "      <td>...</td>\n",
       "      <td>...</td>\n",
       "      <td>...</td>\n",
       "      <td>...</td>\n",
       "      <td>...</td>\n",
       "      <td>...</td>\n",
       "    </tr>\n",
       "    <tr>\n",
       "      <th>41183</th>\n",
       "      <td>0.0</td>\n",
       "      <td>0.0</td>\n",
       "      <td>0.0</td>\n",
       "      <td>0.0</td>\n",
       "      <td>0.0</td>\n",
       "      <td>1.0</td>\n",
       "      <td>0.0</td>\n",
       "      <td>0.0</td>\n",
       "      <td>0.0</td>\n",
       "      <td>0.0</td>\n",
       "      <td>...</td>\n",
       "      <td>1.0</td>\n",
       "      <td>0.0</td>\n",
       "      <td>0.0</td>\n",
       "      <td>0.0</td>\n",
       "      <td>0.0</td>\n",
       "      <td>1.0</td>\n",
       "      <td>1.0</td>\n",
       "      <td>0.0</td>\n",
       "      <td>0.0</td>\n",
       "      <td>1.0</td>\n",
       "    </tr>\n",
       "    <tr>\n",
       "      <th>41184</th>\n",
       "      <td>0.0</td>\n",
       "      <td>1.0</td>\n",
       "      <td>0.0</td>\n",
       "      <td>0.0</td>\n",
       "      <td>0.0</td>\n",
       "      <td>0.0</td>\n",
       "      <td>0.0</td>\n",
       "      <td>0.0</td>\n",
       "      <td>0.0</td>\n",
       "      <td>0.0</td>\n",
       "      <td>...</td>\n",
       "      <td>1.0</td>\n",
       "      <td>0.0</td>\n",
       "      <td>0.0</td>\n",
       "      <td>1.0</td>\n",
       "      <td>0.0</td>\n",
       "      <td>0.0</td>\n",
       "      <td>1.0</td>\n",
       "      <td>0.0</td>\n",
       "      <td>0.0</td>\n",
       "      <td>0.0</td>\n",
       "    </tr>\n",
       "    <tr>\n",
       "      <th>41185</th>\n",
       "      <td>0.0</td>\n",
       "      <td>0.0</td>\n",
       "      <td>0.0</td>\n",
       "      <td>0.0</td>\n",
       "      <td>0.0</td>\n",
       "      <td>1.0</td>\n",
       "      <td>0.0</td>\n",
       "      <td>0.0</td>\n",
       "      <td>0.0</td>\n",
       "      <td>0.0</td>\n",
       "      <td>...</td>\n",
       "      <td>1.0</td>\n",
       "      <td>0.0</td>\n",
       "      <td>0.0</td>\n",
       "      <td>0.0</td>\n",
       "      <td>0.0</td>\n",
       "      <td>1.0</td>\n",
       "      <td>1.0</td>\n",
       "      <td>0.0</td>\n",
       "      <td>0.0</td>\n",
       "      <td>0.0</td>\n",
       "    </tr>\n",
       "    <tr>\n",
       "      <th>41186</th>\n",
       "      <td>0.0</td>\n",
       "      <td>0.0</td>\n",
       "      <td>0.0</td>\n",
       "      <td>0.0</td>\n",
       "      <td>0.0</td>\n",
       "      <td>0.0</td>\n",
       "      <td>0.0</td>\n",
       "      <td>0.0</td>\n",
       "      <td>0.0</td>\n",
       "      <td>1.0</td>\n",
       "      <td>...</td>\n",
       "      <td>1.0</td>\n",
       "      <td>0.0</td>\n",
       "      <td>0.0</td>\n",
       "      <td>1.0</td>\n",
       "      <td>0.0</td>\n",
       "      <td>0.0</td>\n",
       "      <td>1.0</td>\n",
       "      <td>0.0</td>\n",
       "      <td>0.0</td>\n",
       "      <td>1.0</td>\n",
       "    </tr>\n",
       "    <tr>\n",
       "      <th>41187</th>\n",
       "      <td>0.0</td>\n",
       "      <td>0.0</td>\n",
       "      <td>0.0</td>\n",
       "      <td>0.0</td>\n",
       "      <td>0.0</td>\n",
       "      <td>1.0</td>\n",
       "      <td>0.0</td>\n",
       "      <td>0.0</td>\n",
       "      <td>0.0</td>\n",
       "      <td>0.0</td>\n",
       "      <td>...</td>\n",
       "      <td>1.0</td>\n",
       "      <td>0.0</td>\n",
       "      <td>0.0</td>\n",
       "      <td>0.0</td>\n",
       "      <td>0.0</td>\n",
       "      <td>1.0</td>\n",
       "      <td>1.0</td>\n",
       "      <td>0.0</td>\n",
       "      <td>0.0</td>\n",
       "      <td>0.0</td>\n",
       "    </tr>\n",
       "  </tbody>\n",
       "</table>\n",
       "<p>41188 rows × 34 columns</p>\n",
       "</div>"
      ],
      "text/plain": [
       "       job_admin.  job_blue-collar  job_entrepreneur  job_housemaid  \\\n",
       "0             0.0              0.0               0.0            1.0   \n",
       "1             0.0              0.0               0.0            0.0   \n",
       "2             0.0              0.0               0.0            0.0   \n",
       "3             1.0              0.0               0.0            0.0   \n",
       "4             0.0              0.0               0.0            0.0   \n",
       "...           ...              ...               ...            ...   \n",
       "41183         0.0              0.0               0.0            0.0   \n",
       "41184         0.0              1.0               0.0            0.0   \n",
       "41185         0.0              0.0               0.0            0.0   \n",
       "41186         0.0              0.0               0.0            0.0   \n",
       "41187         0.0              0.0               0.0            0.0   \n",
       "\n",
       "       job_management  job_retired  job_self-employed  job_services  \\\n",
       "0                 0.0          0.0                0.0           0.0   \n",
       "1                 0.0          0.0                0.0           1.0   \n",
       "2                 0.0          0.0                0.0           1.0   \n",
       "3                 0.0          0.0                0.0           0.0   \n",
       "4                 0.0          0.0                0.0           1.0   \n",
       "...               ...          ...                ...           ...   \n",
       "41183             0.0          1.0                0.0           0.0   \n",
       "41184             0.0          0.0                0.0           0.0   \n",
       "41185             0.0          1.0                0.0           0.0   \n",
       "41186             0.0          0.0                0.0           0.0   \n",
       "41187             0.0          1.0                0.0           0.0   \n",
       "\n",
       "       job_student  job_technician  ...  default_no  default_unknown  \\\n",
       "0              0.0             0.0  ...         1.0              0.0   \n",
       "1              0.0             0.0  ...         0.0              1.0   \n",
       "2              0.0             0.0  ...         1.0              0.0   \n",
       "3              0.0             0.0  ...         1.0              0.0   \n",
       "4              0.0             0.0  ...         1.0              0.0   \n",
       "...            ...             ...  ...         ...              ...   \n",
       "41183          0.0             0.0  ...         1.0              0.0   \n",
       "41184          0.0             0.0  ...         1.0              0.0   \n",
       "41185          0.0             0.0  ...         1.0              0.0   \n",
       "41186          0.0             1.0  ...         1.0              0.0   \n",
       "41187          0.0             0.0  ...         1.0              0.0   \n",
       "\n",
       "       default_yes  housing_no  housing_unknown  housing_yes  loan_no  \\\n",
       "0              0.0         1.0              0.0          0.0      1.0   \n",
       "1              0.0         1.0              0.0          0.0      1.0   \n",
       "2              0.0         0.0              0.0          1.0      1.0   \n",
       "3              0.0         1.0              0.0          0.0      1.0   \n",
       "4              0.0         1.0              0.0          0.0      0.0   \n",
       "...            ...         ...              ...          ...      ...   \n",
       "41183          0.0         0.0              0.0          1.0      1.0   \n",
       "41184          0.0         1.0              0.0          0.0      1.0   \n",
       "41185          0.0         0.0              0.0          1.0      1.0   \n",
       "41186          0.0         1.0              0.0          0.0      1.0   \n",
       "41187          0.0         0.0              0.0          1.0      1.0   \n",
       "\n",
       "       loan_unknown  loan_yes  y_yes  \n",
       "0               0.0       0.0    0.0  \n",
       "1               0.0       0.0    0.0  \n",
       "2               0.0       0.0    0.0  \n",
       "3               0.0       0.0    0.0  \n",
       "4               0.0       1.0    0.0  \n",
       "...             ...       ...    ...  \n",
       "41183           0.0       0.0    1.0  \n",
       "41184           0.0       0.0    0.0  \n",
       "41185           0.0       0.0    0.0  \n",
       "41186           0.0       0.0    1.0  \n",
       "41187           0.0       0.0    0.0  \n",
       "\n",
       "[41188 rows x 34 columns]"
      ]
     },
     "execution_count": 23,
     "metadata": {},
     "output_type": "execute_result"
    }
   ],
   "source": [
    "one_hot_features = pd.DataFrame(ohe_features, columns=ohe_cols)\n",
    "one_hot_features"
   ]
  },
  {
   "cell_type": "code",
   "execution_count": 24,
   "metadata": {
    "tags": []
   },
   "outputs": [
    {
     "name": "stdout",
     "output_type": "stream",
     "text": [
      "<class 'pandas.core.frame.DataFrame'>\n",
      "RangeIndex: 41188 entries, 0 to 41187\n",
      "Data columns (total 34 columns):\n",
      " #   Column                         Non-Null Count  Dtype  \n",
      "---  ------                         --------------  -----  \n",
      " 0   job_admin.                     41188 non-null  float64\n",
      " 1   job_blue-collar                41188 non-null  float64\n",
      " 2   job_entrepreneur               41188 non-null  float64\n",
      " 3   job_housemaid                  41188 non-null  float64\n",
      " 4   job_management                 41188 non-null  float64\n",
      " 5   job_retired                    41188 non-null  float64\n",
      " 6   job_self-employed              41188 non-null  float64\n",
      " 7   job_services                   41188 non-null  float64\n",
      " 8   job_student                    41188 non-null  float64\n",
      " 9   job_technician                 41188 non-null  float64\n",
      " 10  job_unemployed                 41188 non-null  float64\n",
      " 11  job_unknown                    41188 non-null  float64\n",
      " 12  marital_divorced               41188 non-null  float64\n",
      " 13  marital_married                41188 non-null  float64\n",
      " 14  marital_single                 41188 non-null  float64\n",
      " 15  marital_unknown                41188 non-null  float64\n",
      " 16  education_basic.4y             41188 non-null  float64\n",
      " 17  education_basic.6y             41188 non-null  float64\n",
      " 18  education_basic.9y             41188 non-null  float64\n",
      " 19  education_high.school          41188 non-null  float64\n",
      " 20  education_illiterate           41188 non-null  float64\n",
      " 21  education_professional.course  41188 non-null  float64\n",
      " 22  education_university.degree    41188 non-null  float64\n",
      " 23  education_unknown              41188 non-null  float64\n",
      " 24  default_no                     41188 non-null  float64\n",
      " 25  default_unknown                41188 non-null  float64\n",
      " 26  default_yes                    41188 non-null  float64\n",
      " 27  housing_no                     41188 non-null  float64\n",
      " 28  housing_unknown                41188 non-null  float64\n",
      " 29  housing_yes                    41188 non-null  float64\n",
      " 30  loan_no                        41188 non-null  float64\n",
      " 31  loan_unknown                   41188 non-null  float64\n",
      " 32  loan_yes                       41188 non-null  float64\n",
      " 33  y_yes                          41188 non-null  float64\n",
      "dtypes: float64(34)\n",
      "memory usage: 10.7 MB\n"
     ]
    }
   ],
   "source": [
    "one_hot_features.info()"
   ]
  },
  {
   "cell_type": "code",
   "execution_count": 25,
   "metadata": {
    "tags": []
   },
   "outputs": [
    {
     "data": {
      "text/plain": [
       "job_admin.                       0\n",
       "job_blue-collar                  0\n",
       "job_entrepreneur                 0\n",
       "job_housemaid                    0\n",
       "job_management                   0\n",
       "job_retired                      0\n",
       "job_self-employed                0\n",
       "job_services                     0\n",
       "job_student                      0\n",
       "job_technician                   0\n",
       "job_unemployed                   0\n",
       "job_unknown                      0\n",
       "marital_divorced                 0\n",
       "marital_married                  0\n",
       "marital_single                   0\n",
       "marital_unknown                  0\n",
       "education_basic.4y               0\n",
       "education_basic.6y               0\n",
       "education_basic.9y               0\n",
       "education_high.school            0\n",
       "education_illiterate             0\n",
       "education_professional.course    0\n",
       "education_university.degree      0\n",
       "education_unknown                0\n",
       "default_no                       0\n",
       "default_unknown                  0\n",
       "default_yes                      0\n",
       "housing_no                       0\n",
       "housing_unknown                  0\n",
       "housing_yes                      0\n",
       "loan_no                          0\n",
       "loan_unknown                     0\n",
       "loan_yes                         0\n",
       "y_yes                            0\n",
       "dtype: int64"
      ]
     },
     "execution_count": 25,
     "metadata": {},
     "output_type": "execute_result"
    }
   ],
   "source": [
    "one_hot_features.isna().sum()"
   ]
  },
  {
   "cell_type": "code",
   "execution_count": 26,
   "metadata": {
    "tags": []
   },
   "outputs": [
    {
     "data": {
      "text/html": [
       "<div>\n",
       "<style scoped>\n",
       "    .dataframe tbody tr th:only-of-type {\n",
       "        vertical-align: middle;\n",
       "    }\n",
       "\n",
       "    .dataframe tbody tr th {\n",
       "        vertical-align: top;\n",
       "    }\n",
       "\n",
       "    .dataframe thead th {\n",
       "        text-align: right;\n",
       "    }\n",
       "</style>\n",
       "<table border=\"1\" class=\"dataframe\">\n",
       "  <thead>\n",
       "    <tr style=\"text-align: right;\">\n",
       "      <th></th>\n",
       "      <th>age</th>\n",
       "    </tr>\n",
       "  </thead>\n",
       "  <tbody>\n",
       "    <tr>\n",
       "      <th>0</th>\n",
       "      <td>56</td>\n",
       "    </tr>\n",
       "    <tr>\n",
       "      <th>1</th>\n",
       "      <td>57</td>\n",
       "    </tr>\n",
       "    <tr>\n",
       "      <th>2</th>\n",
       "      <td>37</td>\n",
       "    </tr>\n",
       "    <tr>\n",
       "      <th>3</th>\n",
       "      <td>40</td>\n",
       "    </tr>\n",
       "    <tr>\n",
       "      <th>4</th>\n",
       "      <td>56</td>\n",
       "    </tr>\n",
       "    <tr>\n",
       "      <th>...</th>\n",
       "      <td>...</td>\n",
       "    </tr>\n",
       "    <tr>\n",
       "      <th>41183</th>\n",
       "      <td>73</td>\n",
       "    </tr>\n",
       "    <tr>\n",
       "      <th>41184</th>\n",
       "      <td>46</td>\n",
       "    </tr>\n",
       "    <tr>\n",
       "      <th>41185</th>\n",
       "      <td>56</td>\n",
       "    </tr>\n",
       "    <tr>\n",
       "      <th>41186</th>\n",
       "      <td>44</td>\n",
       "    </tr>\n",
       "    <tr>\n",
       "      <th>41187</th>\n",
       "      <td>74</td>\n",
       "    </tr>\n",
       "  </tbody>\n",
       "</table>\n",
       "<p>41188 rows × 1 columns</p>\n",
       "</div>"
      ],
      "text/plain": [
       "       age\n",
       "0       56\n",
       "1       57\n",
       "2       37\n",
       "3       40\n",
       "4       56\n",
       "...    ...\n",
       "41183   73\n",
       "41184   46\n",
       "41185   56\n",
       "41186   44\n",
       "41187   74\n",
       "\n",
       "[41188 rows x 1 columns]"
      ]
     },
     "execution_count": 26,
     "metadata": {},
     "output_type": "execute_result"
    }
   ],
   "source": [
    "excluded_features = campaign_df.select_dtypes(exclude='object')\n",
    "excluded_features"
   ]
  },
  {
   "cell_type": "code",
   "execution_count": 27,
   "metadata": {
    "tags": []
   },
   "outputs": [
    {
     "data": {
      "text/html": [
       "<div>\n",
       "<style scoped>\n",
       "    .dataframe tbody tr th:only-of-type {\n",
       "        vertical-align: middle;\n",
       "    }\n",
       "\n",
       "    .dataframe tbody tr th {\n",
       "        vertical-align: top;\n",
       "    }\n",
       "\n",
       "    .dataframe thead th {\n",
       "        text-align: right;\n",
       "    }\n",
       "</style>\n",
       "<table border=\"1\" class=\"dataframe\">\n",
       "  <thead>\n",
       "    <tr style=\"text-align: right;\">\n",
       "      <th></th>\n",
       "      <th>age</th>\n",
       "      <th>job_admin.</th>\n",
       "      <th>job_blue-collar</th>\n",
       "      <th>job_entrepreneur</th>\n",
       "      <th>job_housemaid</th>\n",
       "      <th>job_management</th>\n",
       "      <th>job_retired</th>\n",
       "      <th>job_self-employed</th>\n",
       "      <th>job_services</th>\n",
       "      <th>job_student</th>\n",
       "      <th>...</th>\n",
       "      <th>default_no</th>\n",
       "      <th>default_unknown</th>\n",
       "      <th>default_yes</th>\n",
       "      <th>housing_no</th>\n",
       "      <th>housing_unknown</th>\n",
       "      <th>housing_yes</th>\n",
       "      <th>loan_no</th>\n",
       "      <th>loan_unknown</th>\n",
       "      <th>loan_yes</th>\n",
       "      <th>y_yes</th>\n",
       "    </tr>\n",
       "  </thead>\n",
       "  <tbody>\n",
       "    <tr>\n",
       "      <th>0</th>\n",
       "      <td>56</td>\n",
       "      <td>0.0</td>\n",
       "      <td>0.0</td>\n",
       "      <td>0.0</td>\n",
       "      <td>1.0</td>\n",
       "      <td>0.0</td>\n",
       "      <td>0.0</td>\n",
       "      <td>0.0</td>\n",
       "      <td>0.0</td>\n",
       "      <td>0.0</td>\n",
       "      <td>...</td>\n",
       "      <td>1.0</td>\n",
       "      <td>0.0</td>\n",
       "      <td>0.0</td>\n",
       "      <td>1.0</td>\n",
       "      <td>0.0</td>\n",
       "      <td>0.0</td>\n",
       "      <td>1.0</td>\n",
       "      <td>0.0</td>\n",
       "      <td>0.0</td>\n",
       "      <td>0.0</td>\n",
       "    </tr>\n",
       "    <tr>\n",
       "      <th>1</th>\n",
       "      <td>57</td>\n",
       "      <td>0.0</td>\n",
       "      <td>0.0</td>\n",
       "      <td>0.0</td>\n",
       "      <td>0.0</td>\n",
       "      <td>0.0</td>\n",
       "      <td>0.0</td>\n",
       "      <td>0.0</td>\n",
       "      <td>1.0</td>\n",
       "      <td>0.0</td>\n",
       "      <td>...</td>\n",
       "      <td>0.0</td>\n",
       "      <td>1.0</td>\n",
       "      <td>0.0</td>\n",
       "      <td>1.0</td>\n",
       "      <td>0.0</td>\n",
       "      <td>0.0</td>\n",
       "      <td>1.0</td>\n",
       "      <td>0.0</td>\n",
       "      <td>0.0</td>\n",
       "      <td>0.0</td>\n",
       "    </tr>\n",
       "    <tr>\n",
       "      <th>2</th>\n",
       "      <td>37</td>\n",
       "      <td>0.0</td>\n",
       "      <td>0.0</td>\n",
       "      <td>0.0</td>\n",
       "      <td>0.0</td>\n",
       "      <td>0.0</td>\n",
       "      <td>0.0</td>\n",
       "      <td>0.0</td>\n",
       "      <td>1.0</td>\n",
       "      <td>0.0</td>\n",
       "      <td>...</td>\n",
       "      <td>1.0</td>\n",
       "      <td>0.0</td>\n",
       "      <td>0.0</td>\n",
       "      <td>0.0</td>\n",
       "      <td>0.0</td>\n",
       "      <td>1.0</td>\n",
       "      <td>1.0</td>\n",
       "      <td>0.0</td>\n",
       "      <td>0.0</td>\n",
       "      <td>0.0</td>\n",
       "    </tr>\n",
       "    <tr>\n",
       "      <th>3</th>\n",
       "      <td>40</td>\n",
       "      <td>1.0</td>\n",
       "      <td>0.0</td>\n",
       "      <td>0.0</td>\n",
       "      <td>0.0</td>\n",
       "      <td>0.0</td>\n",
       "      <td>0.0</td>\n",
       "      <td>0.0</td>\n",
       "      <td>0.0</td>\n",
       "      <td>0.0</td>\n",
       "      <td>...</td>\n",
       "      <td>1.0</td>\n",
       "      <td>0.0</td>\n",
       "      <td>0.0</td>\n",
       "      <td>1.0</td>\n",
       "      <td>0.0</td>\n",
       "      <td>0.0</td>\n",
       "      <td>1.0</td>\n",
       "      <td>0.0</td>\n",
       "      <td>0.0</td>\n",
       "      <td>0.0</td>\n",
       "    </tr>\n",
       "    <tr>\n",
       "      <th>4</th>\n",
       "      <td>56</td>\n",
       "      <td>0.0</td>\n",
       "      <td>0.0</td>\n",
       "      <td>0.0</td>\n",
       "      <td>0.0</td>\n",
       "      <td>0.0</td>\n",
       "      <td>0.0</td>\n",
       "      <td>0.0</td>\n",
       "      <td>1.0</td>\n",
       "      <td>0.0</td>\n",
       "      <td>...</td>\n",
       "      <td>1.0</td>\n",
       "      <td>0.0</td>\n",
       "      <td>0.0</td>\n",
       "      <td>1.0</td>\n",
       "      <td>0.0</td>\n",
       "      <td>0.0</td>\n",
       "      <td>0.0</td>\n",
       "      <td>0.0</td>\n",
       "      <td>1.0</td>\n",
       "      <td>0.0</td>\n",
       "    </tr>\n",
       "    <tr>\n",
       "      <th>...</th>\n",
       "      <td>...</td>\n",
       "      <td>...</td>\n",
       "      <td>...</td>\n",
       "      <td>...</td>\n",
       "      <td>...</td>\n",
       "      <td>...</td>\n",
       "      <td>...</td>\n",
       "      <td>...</td>\n",
       "      <td>...</td>\n",
       "      <td>...</td>\n",
       "      <td>...</td>\n",
       "      <td>...</td>\n",
       "      <td>...</td>\n",
       "      <td>...</td>\n",
       "      <td>...</td>\n",
       "      <td>...</td>\n",
       "      <td>...</td>\n",
       "      <td>...</td>\n",
       "      <td>...</td>\n",
       "      <td>...</td>\n",
       "      <td>...</td>\n",
       "    </tr>\n",
       "    <tr>\n",
       "      <th>41183</th>\n",
       "      <td>73</td>\n",
       "      <td>0.0</td>\n",
       "      <td>0.0</td>\n",
       "      <td>0.0</td>\n",
       "      <td>0.0</td>\n",
       "      <td>0.0</td>\n",
       "      <td>1.0</td>\n",
       "      <td>0.0</td>\n",
       "      <td>0.0</td>\n",
       "      <td>0.0</td>\n",
       "      <td>...</td>\n",
       "      <td>1.0</td>\n",
       "      <td>0.0</td>\n",
       "      <td>0.0</td>\n",
       "      <td>0.0</td>\n",
       "      <td>0.0</td>\n",
       "      <td>1.0</td>\n",
       "      <td>1.0</td>\n",
       "      <td>0.0</td>\n",
       "      <td>0.0</td>\n",
       "      <td>1.0</td>\n",
       "    </tr>\n",
       "    <tr>\n",
       "      <th>41184</th>\n",
       "      <td>46</td>\n",
       "      <td>0.0</td>\n",
       "      <td>1.0</td>\n",
       "      <td>0.0</td>\n",
       "      <td>0.0</td>\n",
       "      <td>0.0</td>\n",
       "      <td>0.0</td>\n",
       "      <td>0.0</td>\n",
       "      <td>0.0</td>\n",
       "      <td>0.0</td>\n",
       "      <td>...</td>\n",
       "      <td>1.0</td>\n",
       "      <td>0.0</td>\n",
       "      <td>0.0</td>\n",
       "      <td>1.0</td>\n",
       "      <td>0.0</td>\n",
       "      <td>0.0</td>\n",
       "      <td>1.0</td>\n",
       "      <td>0.0</td>\n",
       "      <td>0.0</td>\n",
       "      <td>0.0</td>\n",
       "    </tr>\n",
       "    <tr>\n",
       "      <th>41185</th>\n",
       "      <td>56</td>\n",
       "      <td>0.0</td>\n",
       "      <td>0.0</td>\n",
       "      <td>0.0</td>\n",
       "      <td>0.0</td>\n",
       "      <td>0.0</td>\n",
       "      <td>1.0</td>\n",
       "      <td>0.0</td>\n",
       "      <td>0.0</td>\n",
       "      <td>0.0</td>\n",
       "      <td>...</td>\n",
       "      <td>1.0</td>\n",
       "      <td>0.0</td>\n",
       "      <td>0.0</td>\n",
       "      <td>0.0</td>\n",
       "      <td>0.0</td>\n",
       "      <td>1.0</td>\n",
       "      <td>1.0</td>\n",
       "      <td>0.0</td>\n",
       "      <td>0.0</td>\n",
       "      <td>0.0</td>\n",
       "    </tr>\n",
       "    <tr>\n",
       "      <th>41186</th>\n",
       "      <td>44</td>\n",
       "      <td>0.0</td>\n",
       "      <td>0.0</td>\n",
       "      <td>0.0</td>\n",
       "      <td>0.0</td>\n",
       "      <td>0.0</td>\n",
       "      <td>0.0</td>\n",
       "      <td>0.0</td>\n",
       "      <td>0.0</td>\n",
       "      <td>0.0</td>\n",
       "      <td>...</td>\n",
       "      <td>1.0</td>\n",
       "      <td>0.0</td>\n",
       "      <td>0.0</td>\n",
       "      <td>1.0</td>\n",
       "      <td>0.0</td>\n",
       "      <td>0.0</td>\n",
       "      <td>1.0</td>\n",
       "      <td>0.0</td>\n",
       "      <td>0.0</td>\n",
       "      <td>1.0</td>\n",
       "    </tr>\n",
       "    <tr>\n",
       "      <th>41187</th>\n",
       "      <td>74</td>\n",
       "      <td>0.0</td>\n",
       "      <td>0.0</td>\n",
       "      <td>0.0</td>\n",
       "      <td>0.0</td>\n",
       "      <td>0.0</td>\n",
       "      <td>1.0</td>\n",
       "      <td>0.0</td>\n",
       "      <td>0.0</td>\n",
       "      <td>0.0</td>\n",
       "      <td>...</td>\n",
       "      <td>1.0</td>\n",
       "      <td>0.0</td>\n",
       "      <td>0.0</td>\n",
       "      <td>0.0</td>\n",
       "      <td>0.0</td>\n",
       "      <td>1.0</td>\n",
       "      <td>1.0</td>\n",
       "      <td>0.0</td>\n",
       "      <td>0.0</td>\n",
       "      <td>0.0</td>\n",
       "    </tr>\n",
       "  </tbody>\n",
       "</table>\n",
       "<p>41188 rows × 35 columns</p>\n",
       "</div>"
      ],
      "text/plain": [
       "       age  job_admin.  job_blue-collar  job_entrepreneur  job_housemaid  \\\n",
       "0       56         0.0              0.0               0.0            1.0   \n",
       "1       57         0.0              0.0               0.0            0.0   \n",
       "2       37         0.0              0.0               0.0            0.0   \n",
       "3       40         1.0              0.0               0.0            0.0   \n",
       "4       56         0.0              0.0               0.0            0.0   \n",
       "...    ...         ...              ...               ...            ...   \n",
       "41183   73         0.0              0.0               0.0            0.0   \n",
       "41184   46         0.0              1.0               0.0            0.0   \n",
       "41185   56         0.0              0.0               0.0            0.0   \n",
       "41186   44         0.0              0.0               0.0            0.0   \n",
       "41187   74         0.0              0.0               0.0            0.0   \n",
       "\n",
       "       job_management  job_retired  job_self-employed  job_services  \\\n",
       "0                 0.0          0.0                0.0           0.0   \n",
       "1                 0.0          0.0                0.0           1.0   \n",
       "2                 0.0          0.0                0.0           1.0   \n",
       "3                 0.0          0.0                0.0           0.0   \n",
       "4                 0.0          0.0                0.0           1.0   \n",
       "...               ...          ...                ...           ...   \n",
       "41183             0.0          1.0                0.0           0.0   \n",
       "41184             0.0          0.0                0.0           0.0   \n",
       "41185             0.0          1.0                0.0           0.0   \n",
       "41186             0.0          0.0                0.0           0.0   \n",
       "41187             0.0          1.0                0.0           0.0   \n",
       "\n",
       "       job_student  ...  default_no  default_unknown  default_yes  housing_no  \\\n",
       "0              0.0  ...         1.0              0.0          0.0         1.0   \n",
       "1              0.0  ...         0.0              1.0          0.0         1.0   \n",
       "2              0.0  ...         1.0              0.0          0.0         0.0   \n",
       "3              0.0  ...         1.0              0.0          0.0         1.0   \n",
       "4              0.0  ...         1.0              0.0          0.0         1.0   \n",
       "...            ...  ...         ...              ...          ...         ...   \n",
       "41183          0.0  ...         1.0              0.0          0.0         0.0   \n",
       "41184          0.0  ...         1.0              0.0          0.0         1.0   \n",
       "41185          0.0  ...         1.0              0.0          0.0         0.0   \n",
       "41186          0.0  ...         1.0              0.0          0.0         1.0   \n",
       "41187          0.0  ...         1.0              0.0          0.0         0.0   \n",
       "\n",
       "       housing_unknown  housing_yes  loan_no  loan_unknown  loan_yes  y_yes  \n",
       "0                  0.0          0.0      1.0           0.0       0.0    0.0  \n",
       "1                  0.0          0.0      1.0           0.0       0.0    0.0  \n",
       "2                  0.0          1.0      1.0           0.0       0.0    0.0  \n",
       "3                  0.0          0.0      1.0           0.0       0.0    0.0  \n",
       "4                  0.0          0.0      0.0           0.0       1.0    0.0  \n",
       "...                ...          ...      ...           ...       ...    ...  \n",
       "41183              0.0          1.0      1.0           0.0       0.0    1.0  \n",
       "41184              0.0          0.0      1.0           0.0       0.0    0.0  \n",
       "41185              0.0          1.0      1.0           0.0       0.0    0.0  \n",
       "41186              0.0          0.0      1.0           0.0       0.0    1.0  \n",
       "41187              0.0          1.0      1.0           0.0       0.0    0.0  \n",
       "\n",
       "[41188 rows x 35 columns]"
      ]
     },
     "execution_count": 27,
     "metadata": {},
     "output_type": "execute_result"
    }
   ],
   "source": [
    "prep_df = excluded_features.join(one_hot_features)\n",
    "prep_df"
   ]
  },
  {
   "cell_type": "markdown",
   "metadata": {},
   "source": [
    "### Problem 6: Train/Test Split\n",
    "\n",
    "With your data prepared, split it into a train and test set."
   ]
  },
  {
   "cell_type": "code",
   "execution_count": 29,
   "metadata": {
    "tags": []
   },
   "outputs": [],
   "source": [
    "X = prep_df.drop('y_yes', axis = 1)\n",
    "y = prep_df['y_yes']"
   ]
  },
  {
   "cell_type": "code",
   "execution_count": 30,
   "metadata": {
    "tags": []
   },
   "outputs": [],
   "source": [
    "scaler = StandardScaler()\n",
    "X = scaler.fit_transform(X)"
   ]
  },
  {
   "cell_type": "code",
   "execution_count": 31,
   "metadata": {
    "tags": []
   },
   "outputs": [],
   "source": [
    "X_train, X_test, y_train, y_test = train_test_split(X, y, test_size=0.2)"
   ]
  },
  {
   "cell_type": "code",
   "execution_count": null,
   "metadata": {},
   "outputs": [],
   "source": []
  },
  {
   "cell_type": "markdown",
   "metadata": {},
   "source": [
    "### Problem 7: A Baseline Model\n",
    "\n",
    "Before we build our first model, we want to establish a baseline.  What is the baseline performance that our classifier should aim to beat?"
   ]
  },
  {
   "cell_type": "code",
   "execution_count": 33,
   "metadata": {
    "tags": []
   },
   "outputs": [
    {
     "name": "stdout",
     "output_type": "stream",
     "text": [
      "0.015625\n",
      "0.032704085071190825\n",
      "0.03467517517089558\n"
     ]
    }
   ],
   "source": [
    "# Use Linear Regression as our baseline\n",
    "lr_baseline = LinearRegression()\n",
    "lr_start = process_time()\n",
    "lr_baseline.fit(X_train, y_train)\n",
    "lr_end = process_time()\n",
    "\n",
    "lr_fit_time = lr_end - lr_start\n",
    "print(lr_fit_time)\n",
    "\n",
    "lr_test_accuracy = lr_baseline.score(X_test, y_test)\n",
    "lr_train_accuracy = lr_baseline.score(X_train, y_train)\n",
    "print(lr_test_accuracy)\n",
    "print(lr_train_accuracy)"
   ]
  },
  {
   "cell_type": "markdown",
   "metadata": {},
   "source": [
    "#### Findings\n",
    "I used linear regression as the baseline model.  This baseline model is very fast, with training time of 0.0156.  The training and test accuracy to beat is 0.03."
   ]
  },
  {
   "cell_type": "code",
   "execution_count": null,
   "metadata": {},
   "outputs": [],
   "source": []
  },
  {
   "cell_type": "markdown",
   "metadata": {},
   "source": [
    "### Problem 8: A Simple Model\n",
    "\n",
    "Use Logistic Regression to build a basic model on your data.  "
   ]
  },
  {
   "cell_type": "markdown",
   "metadata": {},
   "source": [
    "https://stackoverflow.com/questions/74818246/how-to-calculate-running-time-for-a-scikit-learn-model"
   ]
  },
  {
   "cell_type": "code",
   "execution_count": 36,
   "metadata": {
    "tags": []
   },
   "outputs": [],
   "source": [
    "lgr_basic = LogisticRegression(multi_class='multinomial')"
   ]
  },
  {
   "cell_type": "code",
   "execution_count": 37,
   "metadata": {
    "tags": []
   },
   "outputs": [
    {
     "name": "stdout",
     "output_type": "stream",
     "text": [
      "0.03125\n"
     ]
    }
   ],
   "source": [
    "lgr_start = process_time()\n",
    "lgr_basic.fit(X_train, y_train)\n",
    "lgr_end = process_time()\n",
    "\n",
    "lgr_fit_time = lgr_end - lgr_start\n",
    "print(lgr_fit_time)"
   ]
  },
  {
   "cell_type": "code",
   "execution_count": null,
   "metadata": {},
   "outputs": [],
   "source": []
  },
  {
   "cell_type": "markdown",
   "metadata": {},
   "source": [
    "### Problem 9: Score the Model\n",
    "\n",
    "What is the accuracy of your model?"
   ]
  },
  {
   "cell_type": "code",
   "execution_count": 39,
   "metadata": {
    "tags": []
   },
   "outputs": [],
   "source": [
    "lgr_test_accuracy = lgr_basic.score(X_test, y_test)"
   ]
  },
  {
   "cell_type": "code",
   "execution_count": 40,
   "metadata": {
    "tags": []
   },
   "outputs": [],
   "source": [
    "lgr_train_accuracy = lgr_basic.score(X_train, y_train)"
   ]
  },
  {
   "cell_type": "markdown",
   "metadata": {},
   "source": [
    "### Problem 10: Model Comparisons\n",
    "\n",
    "Now, we aim to compare the performance of the Logistic Regression model to our KNN algorithm, Decision Tree, and SVM models.  Using the default settings for each of the models, fit and score each.  Also, be sure to compare the fit time of each of the models.  Present your findings in a `DataFrame` similar to that below:\n",
    "\n",
    "| Model | Train Time | Train Accuracy | Test Accuracy |\n",
    "| ----- | ---------- | -------------  | -----------   |\n",
    "|     |    |.     |.     |"
   ]
  },
  {
   "cell_type": "code",
   "execution_count": 42,
   "metadata": {
    "tags": []
   },
   "outputs": [
    {
     "data": {
      "text/html": [
       "<div>\n",
       "<style scoped>\n",
       "    .dataframe tbody tr th:only-of-type {\n",
       "        vertical-align: middle;\n",
       "    }\n",
       "\n",
       "    .dataframe tbody tr th {\n",
       "        vertical-align: top;\n",
       "    }\n",
       "\n",
       "    .dataframe thead th {\n",
       "        text-align: right;\n",
       "    }\n",
       "</style>\n",
       "<table border=\"1\" class=\"dataframe\">\n",
       "  <thead>\n",
       "    <tr style=\"text-align: right;\">\n",
       "      <th></th>\n",
       "      <th>train time</th>\n",
       "      <th>train accuracy</th>\n",
       "      <th>test accuracy</th>\n",
       "    </tr>\n",
       "    <tr>\n",
       "      <th>model</th>\n",
       "      <th></th>\n",
       "      <th></th>\n",
       "      <th></th>\n",
       "    </tr>\n",
       "  </thead>\n",
       "  <tbody>\n",
       "    <tr>\n",
       "      <th>Baseline</th>\n",
       "      <td>0.0</td>\n",
       "      <td>0.0</td>\n",
       "      <td>0.0</td>\n",
       "    </tr>\n",
       "    <tr>\n",
       "      <th>KNN</th>\n",
       "      <td>0.0</td>\n",
       "      <td>0.0</td>\n",
       "      <td>0.0</td>\n",
       "    </tr>\n",
       "    <tr>\n",
       "      <th>Logistic Regression</th>\n",
       "      <td>0.0</td>\n",
       "      <td>0.0</td>\n",
       "      <td>0.0</td>\n",
       "    </tr>\n",
       "    <tr>\n",
       "      <th>SVC</th>\n",
       "      <td>0.0</td>\n",
       "      <td>0.0</td>\n",
       "      <td>0.0</td>\n",
       "    </tr>\n",
       "    <tr>\n",
       "      <th>Decision Trees</th>\n",
       "      <td>0.0</td>\n",
       "      <td>0.0</td>\n",
       "      <td>0.0</td>\n",
       "    </tr>\n",
       "    <tr>\n",
       "      <th>Improved Decision Trees</th>\n",
       "      <td>0.0</td>\n",
       "      <td>0.0</td>\n",
       "      <td>0.0</td>\n",
       "    </tr>\n",
       "    <tr>\n",
       "      <th>Improved KNN</th>\n",
       "      <td>0.0</td>\n",
       "      <td>0.0</td>\n",
       "      <td>0.0</td>\n",
       "    </tr>\n",
       "    <tr>\n",
       "      <th>Improved SVC</th>\n",
       "      <td>0.0</td>\n",
       "      <td>0.0</td>\n",
       "      <td>0.0</td>\n",
       "    </tr>\n",
       "  </tbody>\n",
       "</table>\n",
       "</div>"
      ],
      "text/plain": [
       "                         train time  train accuracy  test accuracy\n",
       "model                                                             \n",
       "Baseline                        0.0             0.0            0.0\n",
       "KNN                             0.0             0.0            0.0\n",
       "Logistic Regression             0.0             0.0            0.0\n",
       "SVC                             0.0             0.0            0.0\n",
       "Decision Trees                  0.0             0.0            0.0\n",
       "Improved Decision Trees         0.0             0.0            0.0\n",
       "Improved KNN                    0.0             0.0            0.0\n",
       "Improved SVC                    0.0             0.0            0.0"
      ]
     },
     "execution_count": 42,
     "metadata": {},
     "output_type": "execute_result"
    }
   ],
   "source": [
    "res_dict = {'model': ['Baseline', 'KNN', 'Logistic Regression', 'SVC','Decision Trees','Improved Decision Trees','Improved KNN','Improved SVC'],\n",
    "           'train time': [0.0, 0.0, 0.0, 0.0, 0.0, 0.0, 0., 0.0],\n",
    "           'train accuracy': [0.0, 0.0, 0.0, 0.0, 0.0, 0.0, 0.0, 0.0],\n",
    "           'test accuracy': [0.0, 0.0, 0.0, 0.0, 0.0, 0.0, 0.0, 0.0]}\n",
    "results_df = pd.DataFrame(res_dict).set_index('model')\n",
    "\n",
    "results_df"
   ]
  },
  {
   "cell_type": "code",
   "execution_count": 43,
   "metadata": {},
   "outputs": [
    {
     "data": {
      "text/html": [
       "<div>\n",
       "<style scoped>\n",
       "    .dataframe tbody tr th:only-of-type {\n",
       "        vertical-align: middle;\n",
       "    }\n",
       "\n",
       "    .dataframe tbody tr th {\n",
       "        vertical-align: top;\n",
       "    }\n",
       "\n",
       "    .dataframe thead th {\n",
       "        text-align: right;\n",
       "    }\n",
       "</style>\n",
       "<table border=\"1\" class=\"dataframe\">\n",
       "  <thead>\n",
       "    <tr style=\"text-align: right;\">\n",
       "      <th></th>\n",
       "      <th>train time</th>\n",
       "      <th>train accuracy</th>\n",
       "      <th>test accuracy</th>\n",
       "    </tr>\n",
       "    <tr>\n",
       "      <th>model</th>\n",
       "      <th></th>\n",
       "      <th></th>\n",
       "      <th></th>\n",
       "    </tr>\n",
       "  </thead>\n",
       "  <tbody>\n",
       "    <tr>\n",
       "      <th>Baseline</th>\n",
       "      <td>0.015625</td>\n",
       "      <td>0.034675</td>\n",
       "      <td>0.032704</td>\n",
       "    </tr>\n",
       "    <tr>\n",
       "      <th>KNN</th>\n",
       "      <td>0.000000</td>\n",
       "      <td>0.000000</td>\n",
       "      <td>0.000000</td>\n",
       "    </tr>\n",
       "    <tr>\n",
       "      <th>Logistic Regression</th>\n",
       "      <td>0.031250</td>\n",
       "      <td>0.888285</td>\n",
       "      <td>0.883588</td>\n",
       "    </tr>\n",
       "    <tr>\n",
       "      <th>SVC</th>\n",
       "      <td>0.000000</td>\n",
       "      <td>0.000000</td>\n",
       "      <td>0.000000</td>\n",
       "    </tr>\n",
       "    <tr>\n",
       "      <th>Decision Trees</th>\n",
       "      <td>0.000000</td>\n",
       "      <td>0.000000</td>\n",
       "      <td>0.000000</td>\n",
       "    </tr>\n",
       "    <tr>\n",
       "      <th>Improved Decision Trees</th>\n",
       "      <td>0.000000</td>\n",
       "      <td>0.000000</td>\n",
       "      <td>0.000000</td>\n",
       "    </tr>\n",
       "    <tr>\n",
       "      <th>Improved KNN</th>\n",
       "      <td>0.000000</td>\n",
       "      <td>0.000000</td>\n",
       "      <td>0.000000</td>\n",
       "    </tr>\n",
       "    <tr>\n",
       "      <th>Improved SVC</th>\n",
       "      <td>0.000000</td>\n",
       "      <td>0.000000</td>\n",
       "      <td>0.000000</td>\n",
       "    </tr>\n",
       "  </tbody>\n",
       "</table>\n",
       "</div>"
      ],
      "text/plain": [
       "                         train time  train accuracy  test accuracy\n",
       "model                                                             \n",
       "Baseline                   0.015625        0.034675       0.032704\n",
       "KNN                        0.000000        0.000000       0.000000\n",
       "Logistic Regression        0.031250        0.888285       0.883588\n",
       "SVC                        0.000000        0.000000       0.000000\n",
       "Decision Trees             0.000000        0.000000       0.000000\n",
       "Improved Decision Trees    0.000000        0.000000       0.000000\n",
       "Improved KNN               0.000000        0.000000       0.000000\n",
       "Improved SVC               0.000000        0.000000       0.000000"
      ]
     },
     "execution_count": 43,
     "metadata": {},
     "output_type": "execute_result"
    }
   ],
   "source": [
    "results_df.loc['Logistic Regression', ['train time']] = lgr_fit_time\n",
    "results_df.loc['Logistic Regression', ['train accuracy']] = lgr_train_accuracy\n",
    "results_df.loc['Logistic Regression', ['test accuracy']] = lgr_test_accuracy\n",
    "\n",
    "results_df.loc['Baseline', ['train time']] = lr_fit_time\n",
    "results_df.loc['Baseline', ['train accuracy']] = lr_train_accuracy\n",
    "results_df.loc['Baseline', ['test accuracy']] = lr_test_accuracy\n",
    "\n",
    "results_df"
   ]
  },
  {
   "cell_type": "markdown",
   "metadata": {},
   "source": [
    "#### KNN"
   ]
  },
  {
   "cell_type": "code",
   "execution_count": 45,
   "metadata": {
    "tags": []
   },
   "outputs": [],
   "source": [
    "knn = KNeighborsClassifier()"
   ]
  },
  {
   "cell_type": "code",
   "execution_count": 46,
   "metadata": {
    "tags": []
   },
   "outputs": [
    {
     "name": "stdout",
     "output_type": "stream",
     "text": [
      "0.0\n"
     ]
    }
   ],
   "source": [
    "knn_start = process_time()\n",
    "knn.fit(X_train, y_train)\n",
    "knn_end = process_time()\n",
    "\n",
    "knn_fit_time = knn_end - knn_start\n",
    "print(knn_fit_time)"
   ]
  },
  {
   "cell_type": "code",
   "execution_count": 47,
   "metadata": {
    "tags": []
   },
   "outputs": [
    {
     "data": {
      "text/html": [
       "<div>\n",
       "<style scoped>\n",
       "    .dataframe tbody tr th:only-of-type {\n",
       "        vertical-align: middle;\n",
       "    }\n",
       "\n",
       "    .dataframe tbody tr th {\n",
       "        vertical-align: top;\n",
       "    }\n",
       "\n",
       "    .dataframe thead th {\n",
       "        text-align: right;\n",
       "    }\n",
       "</style>\n",
       "<table border=\"1\" class=\"dataframe\">\n",
       "  <thead>\n",
       "    <tr style=\"text-align: right;\">\n",
       "      <th></th>\n",
       "      <th>train time</th>\n",
       "      <th>train accuracy</th>\n",
       "      <th>test accuracy</th>\n",
       "    </tr>\n",
       "    <tr>\n",
       "      <th>model</th>\n",
       "      <th></th>\n",
       "      <th></th>\n",
       "      <th></th>\n",
       "    </tr>\n",
       "  </thead>\n",
       "  <tbody>\n",
       "    <tr>\n",
       "      <th>Baseline</th>\n",
       "      <td>0.015625</td>\n",
       "      <td>0.034675</td>\n",
       "      <td>0.032704</td>\n",
       "    </tr>\n",
       "    <tr>\n",
       "      <th>KNN</th>\n",
       "      <td>0.000000</td>\n",
       "      <td>0.893050</td>\n",
       "      <td>0.873027</td>\n",
       "    </tr>\n",
       "    <tr>\n",
       "      <th>Logistic Regression</th>\n",
       "      <td>0.031250</td>\n",
       "      <td>0.888285</td>\n",
       "      <td>0.883588</td>\n",
       "    </tr>\n",
       "    <tr>\n",
       "      <th>SVC</th>\n",
       "      <td>0.000000</td>\n",
       "      <td>0.000000</td>\n",
       "      <td>0.000000</td>\n",
       "    </tr>\n",
       "    <tr>\n",
       "      <th>Decision Trees</th>\n",
       "      <td>0.000000</td>\n",
       "      <td>0.000000</td>\n",
       "      <td>0.000000</td>\n",
       "    </tr>\n",
       "    <tr>\n",
       "      <th>Improved Decision Trees</th>\n",
       "      <td>0.000000</td>\n",
       "      <td>0.000000</td>\n",
       "      <td>0.000000</td>\n",
       "    </tr>\n",
       "    <tr>\n",
       "      <th>Improved KNN</th>\n",
       "      <td>0.000000</td>\n",
       "      <td>0.000000</td>\n",
       "      <td>0.000000</td>\n",
       "    </tr>\n",
       "    <tr>\n",
       "      <th>Improved SVC</th>\n",
       "      <td>0.000000</td>\n",
       "      <td>0.000000</td>\n",
       "      <td>0.000000</td>\n",
       "    </tr>\n",
       "  </tbody>\n",
       "</table>\n",
       "</div>"
      ],
      "text/plain": [
       "                         train time  train accuracy  test accuracy\n",
       "model                                                             \n",
       "Baseline                   0.015625        0.034675       0.032704\n",
       "KNN                        0.000000        0.893050       0.873027\n",
       "Logistic Regression        0.031250        0.888285       0.883588\n",
       "SVC                        0.000000        0.000000       0.000000\n",
       "Decision Trees             0.000000        0.000000       0.000000\n",
       "Improved Decision Trees    0.000000        0.000000       0.000000\n",
       "Improved KNN               0.000000        0.000000       0.000000\n",
       "Improved SVC               0.000000        0.000000       0.000000"
      ]
     },
     "execution_count": 47,
     "metadata": {},
     "output_type": "execute_result"
    }
   ],
   "source": [
    "knn_test_accuracy = knn.score(X_test, y_test)\n",
    "knn_train_accuracy = knn.score(X_train, y_train)\n",
    "\n",
    "results_df.loc['KNN', ['train time']] = knn_fit_time\n",
    "results_df.loc['KNN', ['train accuracy']] = knn_train_accuracy\n",
    "results_df.loc['KNN', ['test accuracy']] = knn_test_accuracy\n",
    "results_df"
   ]
  },
  {
   "cell_type": "code",
   "execution_count": null,
   "metadata": {},
   "outputs": [],
   "source": []
  },
  {
   "cell_type": "markdown",
   "metadata": {},
   "source": [
    "#### SVC"
   ]
  },
  {
   "cell_type": "code",
   "execution_count": 49,
   "metadata": {
    "tags": []
   },
   "outputs": [],
   "source": [
    "svc = SVC()"
   ]
  },
  {
   "cell_type": "code",
   "execution_count": 50,
   "metadata": {
    "tags": []
   },
   "outputs": [
    {
     "name": "stdout",
     "output_type": "stream",
     "text": [
      "25.3125\n"
     ]
    }
   ],
   "source": [
    "svc_start = process_time()\n",
    "svc.fit(X_train, y_train)\n",
    "svc_end = process_time()\n",
    "\n",
    "svc_fit_time = svc_end - svc_start\n",
    "print(svc_fit_time)"
   ]
  },
  {
   "cell_type": "code",
   "execution_count": 51,
   "metadata": {
    "tags": []
   },
   "outputs": [
    {
     "data": {
      "text/html": [
       "<div>\n",
       "<style scoped>\n",
       "    .dataframe tbody tr th:only-of-type {\n",
       "        vertical-align: middle;\n",
       "    }\n",
       "\n",
       "    .dataframe tbody tr th {\n",
       "        vertical-align: top;\n",
       "    }\n",
       "\n",
       "    .dataframe thead th {\n",
       "        text-align: right;\n",
       "    }\n",
       "</style>\n",
       "<table border=\"1\" class=\"dataframe\">\n",
       "  <thead>\n",
       "    <tr style=\"text-align: right;\">\n",
       "      <th></th>\n",
       "      <th>train time</th>\n",
       "      <th>train accuracy</th>\n",
       "      <th>test accuracy</th>\n",
       "    </tr>\n",
       "    <tr>\n",
       "      <th>model</th>\n",
       "      <th></th>\n",
       "      <th></th>\n",
       "      <th></th>\n",
       "    </tr>\n",
       "  </thead>\n",
       "  <tbody>\n",
       "    <tr>\n",
       "      <th>Baseline</th>\n",
       "      <td>0.015625</td>\n",
       "      <td>0.034675</td>\n",
       "      <td>0.032704</td>\n",
       "    </tr>\n",
       "    <tr>\n",
       "      <th>KNN</th>\n",
       "      <td>0.000000</td>\n",
       "      <td>0.893050</td>\n",
       "      <td>0.873027</td>\n",
       "    </tr>\n",
       "    <tr>\n",
       "      <th>Logistic Regression</th>\n",
       "      <td>0.031250</td>\n",
       "      <td>0.888285</td>\n",
       "      <td>0.883588</td>\n",
       "    </tr>\n",
       "    <tr>\n",
       "      <th>SVC</th>\n",
       "      <td>25.312500</td>\n",
       "      <td>0.888771</td>\n",
       "      <td>0.883467</td>\n",
       "    </tr>\n",
       "    <tr>\n",
       "      <th>Decision Trees</th>\n",
       "      <td>0.000000</td>\n",
       "      <td>0.000000</td>\n",
       "      <td>0.000000</td>\n",
       "    </tr>\n",
       "    <tr>\n",
       "      <th>Improved Decision Trees</th>\n",
       "      <td>0.000000</td>\n",
       "      <td>0.000000</td>\n",
       "      <td>0.000000</td>\n",
       "    </tr>\n",
       "    <tr>\n",
       "      <th>Improved KNN</th>\n",
       "      <td>0.000000</td>\n",
       "      <td>0.000000</td>\n",
       "      <td>0.000000</td>\n",
       "    </tr>\n",
       "    <tr>\n",
       "      <th>Improved SVC</th>\n",
       "      <td>0.000000</td>\n",
       "      <td>0.000000</td>\n",
       "      <td>0.000000</td>\n",
       "    </tr>\n",
       "  </tbody>\n",
       "</table>\n",
       "</div>"
      ],
      "text/plain": [
       "                         train time  train accuracy  test accuracy\n",
       "model                                                             \n",
       "Baseline                   0.015625        0.034675       0.032704\n",
       "KNN                        0.000000        0.893050       0.873027\n",
       "Logistic Regression        0.031250        0.888285       0.883588\n",
       "SVC                       25.312500        0.888771       0.883467\n",
       "Decision Trees             0.000000        0.000000       0.000000\n",
       "Improved Decision Trees    0.000000        0.000000       0.000000\n",
       "Improved KNN               0.000000        0.000000       0.000000\n",
       "Improved SVC               0.000000        0.000000       0.000000"
      ]
     },
     "execution_count": 51,
     "metadata": {},
     "output_type": "execute_result"
    }
   ],
   "source": [
    "svc_test_accuracy = svc.score(X_test, y_test)\n",
    "svc_train_accuracy = svc.score(X_train, y_train)\n",
    "\n",
    "results_df.loc['SVC', ['train time']] = svc_fit_time\n",
    "results_df.loc['SVC', ['train accuracy']] = svc_train_accuracy\n",
    "results_df.loc['SVC', ['test accuracy']] = svc_test_accuracy\n",
    "results_df"
   ]
  },
  {
   "cell_type": "code",
   "execution_count": null,
   "metadata": {},
   "outputs": [],
   "source": []
  },
  {
   "cell_type": "markdown",
   "metadata": {},
   "source": [
    "#### Decision Tree"
   ]
  },
  {
   "cell_type": "code",
   "execution_count": 53,
   "metadata": {
    "tags": []
   },
   "outputs": [],
   "source": [
    "dtree = DecisionTreeClassifier(random_state=42)"
   ]
  },
  {
   "cell_type": "code",
   "execution_count": 54,
   "metadata": {
    "tags": []
   },
   "outputs": [
    {
     "name": "stdout",
     "output_type": "stream",
     "text": [
      "0.125\n",
      "36\n"
     ]
    }
   ],
   "source": [
    "dtree_start = process_time()\n",
    "dtree.fit(X_train, y_train)\n",
    "dtree_end = process_time()\n",
    "\n",
    "dtree_fit_time = dtree_end - dtree_start\n",
    "print(dtree_fit_time)\n",
    "print(dtree.get_depth())"
   ]
  },
  {
   "cell_type": "code",
   "execution_count": 55,
   "metadata": {
    "tags": []
   },
   "outputs": [
    {
     "data": {
      "text/html": [
       "<div>\n",
       "<style scoped>\n",
       "    .dataframe tbody tr th:only-of-type {\n",
       "        vertical-align: middle;\n",
       "    }\n",
       "\n",
       "    .dataframe tbody tr th {\n",
       "        vertical-align: top;\n",
       "    }\n",
       "\n",
       "    .dataframe thead th {\n",
       "        text-align: right;\n",
       "    }\n",
       "</style>\n",
       "<table border=\"1\" class=\"dataframe\">\n",
       "  <thead>\n",
       "    <tr style=\"text-align: right;\">\n",
       "      <th></th>\n",
       "      <th>train time</th>\n",
       "      <th>train accuracy</th>\n",
       "      <th>test accuracy</th>\n",
       "    </tr>\n",
       "    <tr>\n",
       "      <th>model</th>\n",
       "      <th></th>\n",
       "      <th></th>\n",
       "      <th></th>\n",
       "    </tr>\n",
       "  </thead>\n",
       "  <tbody>\n",
       "    <tr>\n",
       "      <th>Baseline</th>\n",
       "      <td>0.015625</td>\n",
       "      <td>0.034675</td>\n",
       "      <td>0.032704</td>\n",
       "    </tr>\n",
       "    <tr>\n",
       "      <th>KNN</th>\n",
       "      <td>0.000000</td>\n",
       "      <td>0.893050</td>\n",
       "      <td>0.873027</td>\n",
       "    </tr>\n",
       "    <tr>\n",
       "      <th>Logistic Regression</th>\n",
       "      <td>0.031250</td>\n",
       "      <td>0.888285</td>\n",
       "      <td>0.883588</td>\n",
       "    </tr>\n",
       "    <tr>\n",
       "      <th>SVC</th>\n",
       "      <td>25.312500</td>\n",
       "      <td>0.888771</td>\n",
       "      <td>0.883467</td>\n",
       "    </tr>\n",
       "    <tr>\n",
       "      <th>Decision Trees</th>\n",
       "      <td>0.125000</td>\n",
       "      <td>0.917481</td>\n",
       "      <td>0.860889</td>\n",
       "    </tr>\n",
       "    <tr>\n",
       "      <th>Improved Decision Trees</th>\n",
       "      <td>0.000000</td>\n",
       "      <td>0.000000</td>\n",
       "      <td>0.000000</td>\n",
       "    </tr>\n",
       "    <tr>\n",
       "      <th>Improved KNN</th>\n",
       "      <td>0.000000</td>\n",
       "      <td>0.000000</td>\n",
       "      <td>0.000000</td>\n",
       "    </tr>\n",
       "    <tr>\n",
       "      <th>Improved SVC</th>\n",
       "      <td>0.000000</td>\n",
       "      <td>0.000000</td>\n",
       "      <td>0.000000</td>\n",
       "    </tr>\n",
       "  </tbody>\n",
       "</table>\n",
       "</div>"
      ],
      "text/plain": [
       "                         train time  train accuracy  test accuracy\n",
       "model                                                             \n",
       "Baseline                   0.015625        0.034675       0.032704\n",
       "KNN                        0.000000        0.893050       0.873027\n",
       "Logistic Regression        0.031250        0.888285       0.883588\n",
       "SVC                       25.312500        0.888771       0.883467\n",
       "Decision Trees             0.125000        0.917481       0.860889\n",
       "Improved Decision Trees    0.000000        0.000000       0.000000\n",
       "Improved KNN               0.000000        0.000000       0.000000\n",
       "Improved SVC               0.000000        0.000000       0.000000"
      ]
     },
     "execution_count": 55,
     "metadata": {},
     "output_type": "execute_result"
    }
   ],
   "source": [
    "dtree_test_accuracy = dtree.score(X_test, y_test)\n",
    "dtree_train_accuracy = dtree.score(X_train, y_train)\n",
    "\n",
    "results_df.loc['Decision Trees', ['train time']] = dtree_fit_time\n",
    "results_df.loc['Decision Trees', ['train accuracy']] = dtree_train_accuracy\n",
    "results_df.loc['Decision Trees', ['test accuracy']] = dtree_test_accuracy\n",
    "results_df"
   ]
  },
  {
   "cell_type": "markdown",
   "metadata": {},
   "source": [
    "#### Finding\n",
    "So far, Logistic Regression seems beat other classifiers on test accuracy.  KNN performs the best on train time and train accuracy."
   ]
  },
  {
   "cell_type": "markdown",
   "metadata": {},
   "source": [
    "### Problem 11: Improving the Model\n",
    "\n",
    "Now that we have some basic models on the board, we want to try to improve these.  Below, we list a few things to explore in this pursuit.\n",
    "\n",
    "- More feature engineering and exploration.  For example, should we keep the gender feature?  Why or why not?\n",
    "- Hyperparameter tuning and grid search.  All of our models have additional hyperparameters to tune and explore.  For example the number of neighbors in KNN or the maximum depth of a Decision Tree.  \n",
    "- Adjust your performance metric"
   ]
  },
  {
   "cell_type": "markdown",
   "metadata": {},
   "source": [
    "#### Feature Importance - Should we keep age?"
   ]
  },
  {
   "cell_type": "code",
   "execution_count": 58,
   "metadata": {},
   "outputs": [
    {
     "data": {
      "text/plain": [
       "['age',\n",
       " 'job_admin.',\n",
       " 'job_blue-collar',\n",
       " 'job_entrepreneur',\n",
       " 'job_housemaid',\n",
       " 'job_management',\n",
       " 'job_retired',\n",
       " 'job_self-employed',\n",
       " 'job_services',\n",
       " 'job_student',\n",
       " 'job_technician',\n",
       " 'job_unemployed',\n",
       " 'job_unknown',\n",
       " 'marital_divorced',\n",
       " 'marital_married',\n",
       " 'marital_single',\n",
       " 'marital_unknown',\n",
       " 'education_basic.4y',\n",
       " 'education_basic.6y',\n",
       " 'education_basic.9y',\n",
       " 'education_high.school',\n",
       " 'education_illiterate',\n",
       " 'education_professional.course',\n",
       " 'education_university.degree',\n",
       " 'education_unknown',\n",
       " 'default_no',\n",
       " 'default_unknown',\n",
       " 'default_yes',\n",
       " 'housing_no',\n",
       " 'housing_unknown',\n",
       " 'housing_yes',\n",
       " 'loan_no',\n",
       " 'loan_unknown',\n",
       " 'loan_yes']"
      ]
     },
     "execution_count": 58,
     "metadata": {},
     "output_type": "execute_result"
    }
   ],
   "source": [
    "feature_names = prep_df.drop('y_yes', axis = 1).columns.to_list()\n",
    "feature_names"
   ]
  },
  {
   "cell_type": "code",
   "execution_count": 59,
   "metadata": {},
   "outputs": [],
   "source": [
    "root_feature_count = { name:0  for name in feature_names}\n",
    "for i in range(100):\n",
    "    root_feature = feature_names[dtree.tree_.feature[i]]\n",
    "    root_feature_count[root_feature] = root_feature_count[root_feature] + 1"
   ]
  },
  {
   "cell_type": "code",
   "execution_count": 60,
   "metadata": {},
   "outputs": [
    {
     "data": {
      "image/png": "[encoded data removed]",
      "text/plain": [
       "<Figure size 1000x1000 with 1 Axes>"
      ]
     },
     "metadata": {},
     "output_type": "display_data"
    }
   ],
   "source": [
    "mydict = {'age': root_feature_count['age'],\n",
    "             'job_admin.': root_feature_count['job_admin.'],\n",
    "             'job_blue-collar': root_feature_count['job_blue-collar'],\n",
    "             'job_entrepreneur': root_feature_count['job_entrepreneur'],\n",
    "             'job_housemaid': root_feature_count['job_housemaid'],\n",
    "             'job_management': root_feature_count['job_management'],\n",
    "             'job_retired': root_feature_count['job_retired'],\n",
    "             'job_self-employed': root_feature_count['job_self-employed'],\n",
    "             'job_services': root_feature_count['job_services'],\n",
    "             'job_student': root_feature_count['job_student'],\n",
    "             'job_technician': root_feature_count['job_technician'],\n",
    "             'job_unemployed': root_feature_count['job_unemployed'],\n",
    "             'job_unknown': root_feature_count['job_unknown'],\n",
    "             'marital_divorced': root_feature_count['marital_divorced'],\n",
    "             'marital_married': root_feature_count['marital_married'],\n",
    "             'marital_single': root_feature_count['marital_single'],\n",
    "             'marital_unknown': root_feature_count['marital_unknown'],\n",
    "             'education_basic.4y': root_feature_count['education_basic.4y'],\n",
    "             'education_basic.6y': root_feature_count['education_basic.6y'],\n",
    "             'education_basic.9y': root_feature_count['education_basic.9y'],\n",
    "             'education_high.school': root_feature_count['education_high.school'],\n",
    "             'education_illiterate': root_feature_count['education_illiterate'],\n",
    "             'education_professional.course': root_feature_count['education_professional.course'],\n",
    "             'education_university.degree': root_feature_count['education_university.degree'],\n",
    "             'education_unknown': root_feature_count['education_unknown'],\n",
    "             'default_no': root_feature_count['default_no'],\n",
    "             'default_unknown': root_feature_count['default_unknown'],\n",
    "             'default_yes': root_feature_count['default_yes'],\n",
    "             'housing_no': root_feature_count['housing_no'],\n",
    "             'housing_unknown': root_feature_count['housing_unknown'],\n",
    "             'housing_yes': root_feature_count['housing_yes'],\n",
    "             'loan_no': root_feature_count['loan_no'],\n",
    "             'loan_unknown': root_feature_count['loan_unknown'],\n",
    "             'loan_yes': root_feature_count['loan_yes']}\n",
    "\n",
    "# Convert dictionary keys to a list\n",
    "keys = list(mydict.keys())\n",
    "\n",
    "# Create the barh plot\n",
    "plt.figure(figsize=(10,10))\n",
    "plt.barh(keys, mydict.values())\n",
    " \n",
    "# setting label of y-axis\n",
    "plt.ylabel(\"Feature\")\n",
    " \n",
    "# setting label of x-axis\n",
    "plt.xlabel(\"Importance\") \n",
    "plt.title(\"Feature Importance\")\n",
    "\n",
    "plt.show()"
   ]
  },
  {
   "cell_type": "markdown",
   "metadata": {},
   "source": [
    "#### Finding\n",
    "Age is an important feature.  Another feature that seems to be highly important is loan_unknown.  This suggest that delienating the status of customer's loan might provide better insights that may lead to better predictions by the models."
   ]
  },
  {
   "cell_type": "code",
   "execution_count": 61,
   "metadata": {},
   "outputs": [
    {
     "data": {
      "text/plain": [
       "{'age': 15,\n",
       " 'job_admin.': 2,\n",
       " 'job_blue-collar': 1,\n",
       " 'job_entrepreneur': 0,\n",
       " 'job_housemaid': 1,\n",
       " 'job_management': 0,\n",
       " 'job_retired': 0,\n",
       " 'job_self-employed': 1,\n",
       " 'job_services': 2,\n",
       " 'job_student': 1,\n",
       " 'job_technician': 2,\n",
       " 'job_unemployed': 1,\n",
       " 'job_unknown': 2,\n",
       " 'marital_divorced': 1,\n",
       " 'marital_married': 1,\n",
       " 'marital_single': 4,\n",
       " 'marital_unknown': 0,\n",
       " 'education_basic.4y': 1,\n",
       " 'education_basic.6y': 2,\n",
       " 'education_basic.9y': 4,\n",
       " 'education_high.school': 1,\n",
       " 'education_illiterate': 0,\n",
       " 'education_professional.course': 0,\n",
       " 'education_university.degree': 2,\n",
       " 'education_unknown': 0,\n",
       " 'default_no': 1,\n",
       " 'default_unknown': 0,\n",
       " 'default_yes': 0,\n",
       " 'housing_no': 3,\n",
       " 'housing_unknown': 0,\n",
       " 'housing_yes': 5,\n",
       " 'loan_no': 2,\n",
       " 'loan_unknown': 45,\n",
       " 'loan_yes': 0}"
      ]
     },
     "execution_count": 61,
     "metadata": {},
     "output_type": "execute_result"
    }
   ],
   "source": [
    "mydict"
   ]
  },
  {
   "cell_type": "code",
   "execution_count": null,
   "metadata": {},
   "outputs": [],
   "source": []
  },
  {
   "cell_type": "code",
   "execution_count": null,
   "metadata": {},
   "outputs": [],
   "source": []
  },
  {
   "cell_type": "code",
   "execution_count": null,
   "metadata": {},
   "outputs": [],
   "source": []
  },
  {
   "cell_type": "markdown",
   "metadata": {},
   "source": [
    "#### Improve Performance"
   ]
  },
  {
   "cell_type": "markdown",
   "metadata": {},
   "source": [
    "##### Decision Tree"
   ]
  },
  {
   "cell_type": "markdown",
   "metadata": {},
   "source": [
    "##### min_samples_split"
   ]
  },
  {
   "cell_type": "code",
   "execution_count": 65,
   "metadata": {
    "tags": []
   },
   "outputs": [
    {
     "name": "stdout",
     "output_type": "stream",
     "text": [
      "Training Accuracy:  0.89\n",
      "Trest Accuracy:  0.88\n",
      "Depth of tree: 3\n"
     ]
    }
   ],
   "source": [
    "dtree_samples = DecisionTreeClassifier(min_samples_split=0.8, random_state=42).fit(X_train, y_train)\n",
    "depth_2 = dtree_samples.get_depth()\n",
    "samples_train_acc = dtree_samples.score(X_train, y_train)\n",
    "samples_test_acc = dtree_samples.score(X_test, y_test)\n",
    "\n",
    "print(f'Training Accuracy: {samples_train_acc: .2f}')\n",
    "print(f'Trest Accuracy: {samples_test_acc: .2f}')\n",
    "print(f'Depth of tree: {depth_2}')"
   ]
  },
  {
   "cell_type": "markdown",
   "metadata": {},
   "source": [
    "##### min_sample_leaf"
   ]
  },
  {
   "cell_type": "code",
   "execution_count": 67,
   "metadata": {
    "tags": []
   },
   "outputs": [
    {
     "name": "stdout",
     "output_type": "stream",
     "text": [
      "Training Accuracy:  0.89\n",
      "Trest Accuracy:  0.88\n",
      "Depth of tree: 29\n"
     ]
    }
   ],
   "source": [
    "dtree_leaf = DecisionTreeClassifier(min_samples_leaf=40, random_state=42).fit(X_train, y_train)\n",
    "depth_leaf = dtree_leaf.get_depth()\n",
    "leaf_train_acc = dtree_leaf.score(X_train, y_train)\n",
    "leaf_test_acc = dtree_leaf.score(X_test, y_test)\n",
    "\n",
    "print(f'Training Accuracy: {leaf_train_acc: .2f}')\n",
    "print(f'Trest Accuracy: {leaf_test_acc: .2f}')\n",
    "print(f'Depth of tree: {depth_leaf}')"
   ]
  },
  {
   "cell_type": "markdown",
   "metadata": {},
   "source": [
    "##### max_depth"
   ]
  },
  {
   "cell_type": "code",
   "execution_count": 69,
   "metadata": {
    "tags": []
   },
   "outputs": [
    {
     "name": "stdout",
     "output_type": "stream",
     "text": [
      "Training Accuracy:  0.89\n",
      "Trest Accuracy:  0.88\n"
     ]
    }
   ],
   "source": [
    "depth_tree = DecisionTreeClassifier(max_depth=10, random_state=42).fit(X_train, y_train)\n",
    "depth_train_acc = depth_tree.score(X_train, y_train)\n",
    "depth_test_acc = depth_tree.score(X_test, y_test)\n",
    "### END SOLUTION\n",
    "\n",
    "### Answer Check\n",
    "print(f'Training Accuracy: {depth_train_acc: .2f}')\n",
    "print(f'Trest Accuracy: {depth_test_acc: .2f}')"
   ]
  },
  {
   "cell_type": "markdown",
   "metadata": {},
   "source": [
    "#### Grid Search"
   ]
  },
  {
   "cell_type": "code",
   "execution_count": 71,
   "metadata": {},
   "outputs": [],
   "source": [
    "dt_params = {'max_depth': [2, 5, 10],\n",
    "         'min_samples_split': [0.05, 0.1, 0.2, 0.5, 0.8],\n",
    "          'criterion': ['gini', 'entropy', 'log_loss'],\n",
    "          'min_samples_leaf': [5, 10, 20, 30, 40]\n",
    "         }"
   ]
  },
  {
   "cell_type": "code",
   "execution_count": 72,
   "metadata": {},
   "outputs": [
    {
     "name": "stdout",
     "output_type": "stream",
     "text": [
      "Training Accuracy:  0.89\n",
      "Test Accuracy:  0.88\n",
      "Best parameters of tree: {'criterion': 'gini', 'max_depth': 2, 'min_samples_leaf': 5, 'min_samples_split': 0.05}\n"
     ]
    }
   ],
   "source": [
    "dt_grid = GridSearchCV(dtree, param_grid=dt_params).fit(X_train, y_train)\n",
    "dt_grid_train_acc = dt_grid.score(X_train, y_train)\n",
    "dt_grid_test_acc = dt_grid.score(X_test, y_test)\n",
    "dt_best_params = dt_grid.best_params_\n",
    "\n",
    "print(f'Training Accuracy: {dt_grid_train_acc: .2f}')\n",
    "print(f'Test Accuracy: {dt_grid_test_acc: .2f}')\n",
    "print(f'Best parameters of tree: {dt_best_params}')"
   ]
  },
  {
   "cell_type": "code",
   "execution_count": 73,
   "metadata": {},
   "outputs": [
    {
     "data": {
      "text/html": [
       "<div>\n",
       "<style scoped>\n",
       "    .dataframe tbody tr th:only-of-type {\n",
       "        vertical-align: middle;\n",
       "    }\n",
       "\n",
       "    .dataframe tbody tr th {\n",
       "        vertical-align: top;\n",
       "    }\n",
       "\n",
       "    .dataframe thead th {\n",
       "        text-align: right;\n",
       "    }\n",
       "</style>\n",
       "<table border=\"1\" class=\"dataframe\">\n",
       "  <thead>\n",
       "    <tr style=\"text-align: right;\">\n",
       "      <th></th>\n",
       "      <th>mean_fit_time</th>\n",
       "      <th>std_fit_time</th>\n",
       "      <th>mean_score_time</th>\n",
       "      <th>std_score_time</th>\n",
       "      <th>param_criterion</th>\n",
       "      <th>param_max_depth</th>\n",
       "      <th>param_min_samples_leaf</th>\n",
       "      <th>param_min_samples_split</th>\n",
       "      <th>params</th>\n",
       "      <th>split0_test_score</th>\n",
       "      <th>split1_test_score</th>\n",
       "      <th>split2_test_score</th>\n",
       "      <th>split3_test_score</th>\n",
       "      <th>split4_test_score</th>\n",
       "      <th>mean_test_score</th>\n",
       "      <th>std_test_score</th>\n",
       "      <th>rank_test_score</th>\n",
       "    </tr>\n",
       "  </thead>\n",
       "  <tbody>\n",
       "    <tr>\n",
       "      <th>0</th>\n",
       "      <td>0.025029</td>\n",
       "      <td>0.001487</td>\n",
       "      <td>0.001980</td>\n",
       "      <td>0.000040</td>\n",
       "      <td>gini</td>\n",
       "      <td>2</td>\n",
       "      <td>5</td>\n",
       "      <td>0.05</td>\n",
       "      <td>{'criterion': 'gini', 'max_depth': 2, 'min_sam...</td>\n",
       "      <td>0.888316</td>\n",
       "      <td>0.888316</td>\n",
       "      <td>0.888316</td>\n",
       "      <td>0.888316</td>\n",
       "      <td>0.888164</td>\n",
       "      <td>0.888285</td>\n",
       "      <td>0.000061</td>\n",
       "      <td>1</td>\n",
       "    </tr>\n",
       "    <tr>\n",
       "      <th>1</th>\n",
       "      <td>0.020903</td>\n",
       "      <td>0.001201</td>\n",
       "      <td>0.002001</td>\n",
       "      <td>0.000632</td>\n",
       "      <td>gini</td>\n",
       "      <td>2</td>\n",
       "      <td>5</td>\n",
       "      <td>0.1</td>\n",
       "      <td>{'criterion': 'gini', 'max_depth': 2, 'min_sam...</td>\n",
       "      <td>0.888316</td>\n",
       "      <td>0.888316</td>\n",
       "      <td>0.888316</td>\n",
       "      <td>0.888316</td>\n",
       "      <td>0.888164</td>\n",
       "      <td>0.888285</td>\n",
       "      <td>0.000061</td>\n",
       "      <td>1</td>\n",
       "    </tr>\n",
       "    <tr>\n",
       "      <th>2</th>\n",
       "      <td>0.019866</td>\n",
       "      <td>0.001013</td>\n",
       "      <td>0.001805</td>\n",
       "      <td>0.000358</td>\n",
       "      <td>gini</td>\n",
       "      <td>2</td>\n",
       "      <td>5</td>\n",
       "      <td>0.2</td>\n",
       "      <td>{'criterion': 'gini', 'max_depth': 2, 'min_sam...</td>\n",
       "      <td>0.888316</td>\n",
       "      <td>0.888316</td>\n",
       "      <td>0.888316</td>\n",
       "      <td>0.888316</td>\n",
       "      <td>0.888164</td>\n",
       "      <td>0.888285</td>\n",
       "      <td>0.000061</td>\n",
       "      <td>1</td>\n",
       "    </tr>\n",
       "    <tr>\n",
       "      <th>3</th>\n",
       "      <td>0.021399</td>\n",
       "      <td>0.001344</td>\n",
       "      <td>0.001905</td>\n",
       "      <td>0.000195</td>\n",
       "      <td>gini</td>\n",
       "      <td>2</td>\n",
       "      <td>5</td>\n",
       "      <td>0.5</td>\n",
       "      <td>{'criterion': 'gini', 'max_depth': 2, 'min_sam...</td>\n",
       "      <td>0.888316</td>\n",
       "      <td>0.888316</td>\n",
       "      <td>0.888316</td>\n",
       "      <td>0.888316</td>\n",
       "      <td>0.888164</td>\n",
       "      <td>0.888285</td>\n",
       "      <td>0.000061</td>\n",
       "      <td>1</td>\n",
       "    </tr>\n",
       "    <tr>\n",
       "      <th>4</th>\n",
       "      <td>0.021506</td>\n",
       "      <td>0.001102</td>\n",
       "      <td>0.001398</td>\n",
       "      <td>0.000484</td>\n",
       "      <td>gini</td>\n",
       "      <td>2</td>\n",
       "      <td>5</td>\n",
       "      <td>0.8</td>\n",
       "      <td>{'criterion': 'gini', 'max_depth': 2, 'min_sam...</td>\n",
       "      <td>0.888316</td>\n",
       "      <td>0.888316</td>\n",
       "      <td>0.888316</td>\n",
       "      <td>0.888316</td>\n",
       "      <td>0.888164</td>\n",
       "      <td>0.888285</td>\n",
       "      <td>0.000061</td>\n",
       "      <td>1</td>\n",
       "    </tr>\n",
       "    <tr>\n",
       "      <th>...</th>\n",
       "      <td>...</td>\n",
       "      <td>...</td>\n",
       "      <td>...</td>\n",
       "      <td>...</td>\n",
       "      <td>...</td>\n",
       "      <td>...</td>\n",
       "      <td>...</td>\n",
       "      <td>...</td>\n",
       "      <td>...</td>\n",
       "      <td>...</td>\n",
       "      <td>...</td>\n",
       "      <td>...</td>\n",
       "      <td>...</td>\n",
       "      <td>...</td>\n",
       "      <td>...</td>\n",
       "      <td>...</td>\n",
       "      <td>...</td>\n",
       "    </tr>\n",
       "    <tr>\n",
       "      <th>220</th>\n",
       "      <td>0.044868</td>\n",
       "      <td>0.001146</td>\n",
       "      <td>0.001582</td>\n",
       "      <td>0.000474</td>\n",
       "      <td>log_loss</td>\n",
       "      <td>10</td>\n",
       "      <td>40</td>\n",
       "      <td>0.05</td>\n",
       "      <td>{'criterion': 'log_loss', 'max_depth': 10, 'mi...</td>\n",
       "      <td>0.888316</td>\n",
       "      <td>0.888316</td>\n",
       "      <td>0.888316</td>\n",
       "      <td>0.888316</td>\n",
       "      <td>0.888164</td>\n",
       "      <td>0.888285</td>\n",
       "      <td>0.000061</td>\n",
       "      <td>1</td>\n",
       "    </tr>\n",
       "    <tr>\n",
       "      <th>221</th>\n",
       "      <td>0.041433</td>\n",
       "      <td>0.002302</td>\n",
       "      <td>0.001201</td>\n",
       "      <td>0.000407</td>\n",
       "      <td>log_loss</td>\n",
       "      <td>10</td>\n",
       "      <td>40</td>\n",
       "      <td>0.1</td>\n",
       "      <td>{'criterion': 'log_loss', 'max_depth': 10, 'mi...</td>\n",
       "      <td>0.888316</td>\n",
       "      <td>0.888316</td>\n",
       "      <td>0.888316</td>\n",
       "      <td>0.888316</td>\n",
       "      <td>0.888164</td>\n",
       "      <td>0.888285</td>\n",
       "      <td>0.000061</td>\n",
       "      <td>1</td>\n",
       "    </tr>\n",
       "    <tr>\n",
       "      <th>222</th>\n",
       "      <td>0.035696</td>\n",
       "      <td>0.002107</td>\n",
       "      <td>0.001807</td>\n",
       "      <td>0.000404</td>\n",
       "      <td>log_loss</td>\n",
       "      <td>10</td>\n",
       "      <td>40</td>\n",
       "      <td>0.2</td>\n",
       "      <td>{'criterion': 'log_loss', 'max_depth': 10, 'mi...</td>\n",
       "      <td>0.888316</td>\n",
       "      <td>0.888316</td>\n",
       "      <td>0.888316</td>\n",
       "      <td>0.888316</td>\n",
       "      <td>0.888164</td>\n",
       "      <td>0.888285</td>\n",
       "      <td>0.000061</td>\n",
       "      <td>1</td>\n",
       "    </tr>\n",
       "    <tr>\n",
       "      <th>223</th>\n",
       "      <td>0.024752</td>\n",
       "      <td>0.002594</td>\n",
       "      <td>0.001194</td>\n",
       "      <td>0.000401</td>\n",
       "      <td>log_loss</td>\n",
       "      <td>10</td>\n",
       "      <td>40</td>\n",
       "      <td>0.5</td>\n",
       "      <td>{'criterion': 'log_loss', 'max_depth': 10, 'mi...</td>\n",
       "      <td>0.888316</td>\n",
       "      <td>0.888316</td>\n",
       "      <td>0.888316</td>\n",
       "      <td>0.888316</td>\n",
       "      <td>0.888164</td>\n",
       "      <td>0.888285</td>\n",
       "      <td>0.000061</td>\n",
       "      <td>1</td>\n",
       "    </tr>\n",
       "    <tr>\n",
       "      <th>224</th>\n",
       "      <td>0.015180</td>\n",
       "      <td>0.000303</td>\n",
       "      <td>0.001388</td>\n",
       "      <td>0.000489</td>\n",
       "      <td>log_loss</td>\n",
       "      <td>10</td>\n",
       "      <td>40</td>\n",
       "      <td>0.8</td>\n",
       "      <td>{'criterion': 'log_loss', 'max_depth': 10, 'mi...</td>\n",
       "      <td>0.888316</td>\n",
       "      <td>0.888316</td>\n",
       "      <td>0.888316</td>\n",
       "      <td>0.888316</td>\n",
       "      <td>0.888164</td>\n",
       "      <td>0.888285</td>\n",
       "      <td>0.000061</td>\n",
       "      <td>1</td>\n",
       "    </tr>\n",
       "  </tbody>\n",
       "</table>\n",
       "<p>225 rows × 17 columns</p>\n",
       "</div>"
      ],
      "text/plain": [
       "     mean_fit_time  std_fit_time  mean_score_time  std_score_time  \\\n",
       "0         0.025029      0.001487         0.001980        0.000040   \n",
       "1         0.020903      0.001201         0.002001        0.000632   \n",
       "2         0.019866      0.001013         0.001805        0.000358   \n",
       "3         0.021399      0.001344         0.001905        0.000195   \n",
       "4         0.021506      0.001102         0.001398        0.000484   \n",
       "..             ...           ...              ...             ...   \n",
       "220       0.044868      0.001146         0.001582        0.000474   \n",
       "221       0.041433      0.002302         0.001201        0.000407   \n",
       "222       0.035696      0.002107         0.001807        0.000404   \n",
       "223       0.024752      0.002594         0.001194        0.000401   \n",
       "224       0.015180      0.000303         0.001388        0.000489   \n",
       "\n",
       "    param_criterion param_max_depth param_min_samples_leaf  \\\n",
       "0              gini               2                      5   \n",
       "1              gini               2                      5   \n",
       "2              gini               2                      5   \n",
       "3              gini               2                      5   \n",
       "4              gini               2                      5   \n",
       "..              ...             ...                    ...   \n",
       "220        log_loss              10                     40   \n",
       "221        log_loss              10                     40   \n",
       "222        log_loss              10                     40   \n",
       "223        log_loss              10                     40   \n",
       "224        log_loss              10                     40   \n",
       "\n",
       "    param_min_samples_split  \\\n",
       "0                      0.05   \n",
       "1                       0.1   \n",
       "2                       0.2   \n",
       "3                       0.5   \n",
       "4                       0.8   \n",
       "..                      ...   \n",
       "220                    0.05   \n",
       "221                     0.1   \n",
       "222                     0.2   \n",
       "223                     0.5   \n",
       "224                     0.8   \n",
       "\n",
       "                                                params  split0_test_score  \\\n",
       "0    {'criterion': 'gini', 'max_depth': 2, 'min_sam...           0.888316   \n",
       "1    {'criterion': 'gini', 'max_depth': 2, 'min_sam...           0.888316   \n",
       "2    {'criterion': 'gini', 'max_depth': 2, 'min_sam...           0.888316   \n",
       "3    {'criterion': 'gini', 'max_depth': 2, 'min_sam...           0.888316   \n",
       "4    {'criterion': 'gini', 'max_depth': 2, 'min_sam...           0.888316   \n",
       "..                                                 ...                ...   \n",
       "220  {'criterion': 'log_loss', 'max_depth': 10, 'mi...           0.888316   \n",
       "221  {'criterion': 'log_loss', 'max_depth': 10, 'mi...           0.888316   \n",
       "222  {'criterion': 'log_loss', 'max_depth': 10, 'mi...           0.888316   \n",
       "223  {'criterion': 'log_loss', 'max_depth': 10, 'mi...           0.888316   \n",
       "224  {'criterion': 'log_loss', 'max_depth': 10, 'mi...           0.888316   \n",
       "\n",
       "     split1_test_score  split2_test_score  split3_test_score  \\\n",
       "0             0.888316           0.888316           0.888316   \n",
       "1             0.888316           0.888316           0.888316   \n",
       "2             0.888316           0.888316           0.888316   \n",
       "3             0.888316           0.888316           0.888316   \n",
       "4             0.888316           0.888316           0.888316   \n",
       "..                 ...                ...                ...   \n",
       "220           0.888316           0.888316           0.888316   \n",
       "221           0.888316           0.888316           0.888316   \n",
       "222           0.888316           0.888316           0.888316   \n",
       "223           0.888316           0.888316           0.888316   \n",
       "224           0.888316           0.888316           0.888316   \n",
       "\n",
       "     split4_test_score  mean_test_score  std_test_score  rank_test_score  \n",
       "0             0.888164         0.888285        0.000061                1  \n",
       "1             0.888164         0.888285        0.000061                1  \n",
       "2             0.888164         0.888285        0.000061                1  \n",
       "3             0.888164         0.888285        0.000061                1  \n",
       "4             0.888164         0.888285        0.000061                1  \n",
       "..                 ...              ...             ...              ...  \n",
       "220           0.888164         0.888285        0.000061                1  \n",
       "221           0.888164         0.888285        0.000061                1  \n",
       "222           0.888164         0.888285        0.000061                1  \n",
       "223           0.888164         0.888285        0.000061                1  \n",
       "224           0.888164         0.888285        0.000061                1  \n",
       "\n",
       "[225 rows x 17 columns]"
      ]
     },
     "execution_count": 73,
     "metadata": {},
     "output_type": "execute_result"
    }
   ],
   "source": [
    "dt_gridCV_df = pd.DataFrame.from_dict(dt_grid.cv_results_)\n",
    "dt_gridCV_df"
   ]
  },
  {
   "cell_type": "code",
   "execution_count": 74,
   "metadata": {
    "tags": []
   },
   "outputs": [
    {
     "data": {
      "text/html": [
       "<div>\n",
       "<style scoped>\n",
       "    .dataframe tbody tr th:only-of-type {\n",
       "        vertical-align: middle;\n",
       "    }\n",
       "\n",
       "    .dataframe tbody tr th {\n",
       "        vertical-align: top;\n",
       "    }\n",
       "\n",
       "    .dataframe thead th {\n",
       "        text-align: right;\n",
       "    }\n",
       "</style>\n",
       "<table border=\"1\" class=\"dataframe\">\n",
       "  <thead>\n",
       "    <tr style=\"text-align: right;\">\n",
       "      <th></th>\n",
       "      <th>mean_fit_time</th>\n",
       "      <th>std_fit_time</th>\n",
       "      <th>mean_score_time</th>\n",
       "      <th>std_score_time</th>\n",
       "      <th>param_criterion</th>\n",
       "      <th>param_max_depth</th>\n",
       "      <th>param_min_samples_leaf</th>\n",
       "      <th>param_min_samples_split</th>\n",
       "      <th>params</th>\n",
       "      <th>split0_test_score</th>\n",
       "      <th>split1_test_score</th>\n",
       "      <th>split2_test_score</th>\n",
       "      <th>split3_test_score</th>\n",
       "      <th>split4_test_score</th>\n",
       "      <th>mean_test_score</th>\n",
       "      <th>std_test_score</th>\n",
       "      <th>rank_test_score</th>\n",
       "    </tr>\n",
       "  </thead>\n",
       "  <tbody>\n",
       "    <tr>\n",
       "      <th>0</th>\n",
       "      <td>0.025029</td>\n",
       "      <td>0.001487</td>\n",
       "      <td>0.001980</td>\n",
       "      <td>0.000040</td>\n",
       "      <td>gini</td>\n",
       "      <td>2</td>\n",
       "      <td>5</td>\n",
       "      <td>0.05</td>\n",
       "      <td>{'criterion': 'gini', 'max_depth': 2, 'min_sam...</td>\n",
       "      <td>0.888316</td>\n",
       "      <td>0.888316</td>\n",
       "      <td>0.888316</td>\n",
       "      <td>0.888316</td>\n",
       "      <td>0.888164</td>\n",
       "      <td>0.888285</td>\n",
       "      <td>0.000061</td>\n",
       "      <td>1</td>\n",
       "    </tr>\n",
       "    <tr>\n",
       "      <th>1</th>\n",
       "      <td>0.020903</td>\n",
       "      <td>0.001201</td>\n",
       "      <td>0.002001</td>\n",
       "      <td>0.000632</td>\n",
       "      <td>gini</td>\n",
       "      <td>2</td>\n",
       "      <td>5</td>\n",
       "      <td>0.1</td>\n",
       "      <td>{'criterion': 'gini', 'max_depth': 2, 'min_sam...</td>\n",
       "      <td>0.888316</td>\n",
       "      <td>0.888316</td>\n",
       "      <td>0.888316</td>\n",
       "      <td>0.888316</td>\n",
       "      <td>0.888164</td>\n",
       "      <td>0.888285</td>\n",
       "      <td>0.000061</td>\n",
       "      <td>1</td>\n",
       "    </tr>\n",
       "    <tr>\n",
       "      <th>2</th>\n",
       "      <td>0.019866</td>\n",
       "      <td>0.001013</td>\n",
       "      <td>0.001805</td>\n",
       "      <td>0.000358</td>\n",
       "      <td>gini</td>\n",
       "      <td>2</td>\n",
       "      <td>5</td>\n",
       "      <td>0.2</td>\n",
       "      <td>{'criterion': 'gini', 'max_depth': 2, 'min_sam...</td>\n",
       "      <td>0.888316</td>\n",
       "      <td>0.888316</td>\n",
       "      <td>0.888316</td>\n",
       "      <td>0.888316</td>\n",
       "      <td>0.888164</td>\n",
       "      <td>0.888285</td>\n",
       "      <td>0.000061</td>\n",
       "      <td>1</td>\n",
       "    </tr>\n",
       "    <tr>\n",
       "      <th>3</th>\n",
       "      <td>0.021399</td>\n",
       "      <td>0.001344</td>\n",
       "      <td>0.001905</td>\n",
       "      <td>0.000195</td>\n",
       "      <td>gini</td>\n",
       "      <td>2</td>\n",
       "      <td>5</td>\n",
       "      <td>0.5</td>\n",
       "      <td>{'criterion': 'gini', 'max_depth': 2, 'min_sam...</td>\n",
       "      <td>0.888316</td>\n",
       "      <td>0.888316</td>\n",
       "      <td>0.888316</td>\n",
       "      <td>0.888316</td>\n",
       "      <td>0.888164</td>\n",
       "      <td>0.888285</td>\n",
       "      <td>0.000061</td>\n",
       "      <td>1</td>\n",
       "    </tr>\n",
       "    <tr>\n",
       "      <th>4</th>\n",
       "      <td>0.021506</td>\n",
       "      <td>0.001102</td>\n",
       "      <td>0.001398</td>\n",
       "      <td>0.000484</td>\n",
       "      <td>gini</td>\n",
       "      <td>2</td>\n",
       "      <td>5</td>\n",
       "      <td>0.8</td>\n",
       "      <td>{'criterion': 'gini', 'max_depth': 2, 'min_sam...</td>\n",
       "      <td>0.888316</td>\n",
       "      <td>0.888316</td>\n",
       "      <td>0.888316</td>\n",
       "      <td>0.888316</td>\n",
       "      <td>0.888164</td>\n",
       "      <td>0.888285</td>\n",
       "      <td>0.000061</td>\n",
       "      <td>1</td>\n",
       "    </tr>\n",
       "    <tr>\n",
       "      <th>...</th>\n",
       "      <td>...</td>\n",
       "      <td>...</td>\n",
       "      <td>...</td>\n",
       "      <td>...</td>\n",
       "      <td>...</td>\n",
       "      <td>...</td>\n",
       "      <td>...</td>\n",
       "      <td>...</td>\n",
       "      <td>...</td>\n",
       "      <td>...</td>\n",
       "      <td>...</td>\n",
       "      <td>...</td>\n",
       "      <td>...</td>\n",
       "      <td>...</td>\n",
       "      <td>...</td>\n",
       "      <td>...</td>\n",
       "      <td>...</td>\n",
       "    </tr>\n",
       "    <tr>\n",
       "      <th>220</th>\n",
       "      <td>0.044868</td>\n",
       "      <td>0.001146</td>\n",
       "      <td>0.001582</td>\n",
       "      <td>0.000474</td>\n",
       "      <td>log_loss</td>\n",
       "      <td>10</td>\n",
       "      <td>40</td>\n",
       "      <td>0.05</td>\n",
       "      <td>{'criterion': 'log_loss', 'max_depth': 10, 'mi...</td>\n",
       "      <td>0.888316</td>\n",
       "      <td>0.888316</td>\n",
       "      <td>0.888316</td>\n",
       "      <td>0.888316</td>\n",
       "      <td>0.888164</td>\n",
       "      <td>0.888285</td>\n",
       "      <td>0.000061</td>\n",
       "      <td>1</td>\n",
       "    </tr>\n",
       "    <tr>\n",
       "      <th>221</th>\n",
       "      <td>0.041433</td>\n",
       "      <td>0.002302</td>\n",
       "      <td>0.001201</td>\n",
       "      <td>0.000407</td>\n",
       "      <td>log_loss</td>\n",
       "      <td>10</td>\n",
       "      <td>40</td>\n",
       "      <td>0.1</td>\n",
       "      <td>{'criterion': 'log_loss', 'max_depth': 10, 'mi...</td>\n",
       "      <td>0.888316</td>\n",
       "      <td>0.888316</td>\n",
       "      <td>0.888316</td>\n",
       "      <td>0.888316</td>\n",
       "      <td>0.888164</td>\n",
       "      <td>0.888285</td>\n",
       "      <td>0.000061</td>\n",
       "      <td>1</td>\n",
       "    </tr>\n",
       "    <tr>\n",
       "      <th>222</th>\n",
       "      <td>0.035696</td>\n",
       "      <td>0.002107</td>\n",
       "      <td>0.001807</td>\n",
       "      <td>0.000404</td>\n",
       "      <td>log_loss</td>\n",
       "      <td>10</td>\n",
       "      <td>40</td>\n",
       "      <td>0.2</td>\n",
       "      <td>{'criterion': 'log_loss', 'max_depth': 10, 'mi...</td>\n",
       "      <td>0.888316</td>\n",
       "      <td>0.888316</td>\n",
       "      <td>0.888316</td>\n",
       "      <td>0.888316</td>\n",
       "      <td>0.888164</td>\n",
       "      <td>0.888285</td>\n",
       "      <td>0.000061</td>\n",
       "      <td>1</td>\n",
       "    </tr>\n",
       "    <tr>\n",
       "      <th>223</th>\n",
       "      <td>0.024752</td>\n",
       "      <td>0.002594</td>\n",
       "      <td>0.001194</td>\n",
       "      <td>0.000401</td>\n",
       "      <td>log_loss</td>\n",
       "      <td>10</td>\n",
       "      <td>40</td>\n",
       "      <td>0.5</td>\n",
       "      <td>{'criterion': 'log_loss', 'max_depth': 10, 'mi...</td>\n",
       "      <td>0.888316</td>\n",
       "      <td>0.888316</td>\n",
       "      <td>0.888316</td>\n",
       "      <td>0.888316</td>\n",
       "      <td>0.888164</td>\n",
       "      <td>0.888285</td>\n",
       "      <td>0.000061</td>\n",
       "      <td>1</td>\n",
       "    </tr>\n",
       "    <tr>\n",
       "      <th>224</th>\n",
       "      <td>0.015180</td>\n",
       "      <td>0.000303</td>\n",
       "      <td>0.001388</td>\n",
       "      <td>0.000489</td>\n",
       "      <td>log_loss</td>\n",
       "      <td>10</td>\n",
       "      <td>40</td>\n",
       "      <td>0.8</td>\n",
       "      <td>{'criterion': 'log_loss', 'max_depth': 10, 'mi...</td>\n",
       "      <td>0.888316</td>\n",
       "      <td>0.888316</td>\n",
       "      <td>0.888316</td>\n",
       "      <td>0.888316</td>\n",
       "      <td>0.888164</td>\n",
       "      <td>0.888285</td>\n",
       "      <td>0.000061</td>\n",
       "      <td>1</td>\n",
       "    </tr>\n",
       "  </tbody>\n",
       "</table>\n",
       "<p>225 rows × 17 columns</p>\n",
       "</div>"
      ],
      "text/plain": [
       "     mean_fit_time  std_fit_time  mean_score_time  std_score_time  \\\n",
       "0         0.025029      0.001487         0.001980        0.000040   \n",
       "1         0.020903      0.001201         0.002001        0.000632   \n",
       "2         0.019866      0.001013         0.001805        0.000358   \n",
       "3         0.021399      0.001344         0.001905        0.000195   \n",
       "4         0.021506      0.001102         0.001398        0.000484   \n",
       "..             ...           ...              ...             ...   \n",
       "220       0.044868      0.001146         0.001582        0.000474   \n",
       "221       0.041433      0.002302         0.001201        0.000407   \n",
       "222       0.035696      0.002107         0.001807        0.000404   \n",
       "223       0.024752      0.002594         0.001194        0.000401   \n",
       "224       0.015180      0.000303         0.001388        0.000489   \n",
       "\n",
       "    param_criterion param_max_depth param_min_samples_leaf  \\\n",
       "0              gini               2                      5   \n",
       "1              gini               2                      5   \n",
       "2              gini               2                      5   \n",
       "3              gini               2                      5   \n",
       "4              gini               2                      5   \n",
       "..              ...             ...                    ...   \n",
       "220        log_loss              10                     40   \n",
       "221        log_loss              10                     40   \n",
       "222        log_loss              10                     40   \n",
       "223        log_loss              10                     40   \n",
       "224        log_loss              10                     40   \n",
       "\n",
       "    param_min_samples_split  \\\n",
       "0                      0.05   \n",
       "1                       0.1   \n",
       "2                       0.2   \n",
       "3                       0.5   \n",
       "4                       0.8   \n",
       "..                      ...   \n",
       "220                    0.05   \n",
       "221                     0.1   \n",
       "222                     0.2   \n",
       "223                     0.5   \n",
       "224                     0.8   \n",
       "\n",
       "                                                params  split0_test_score  \\\n",
       "0    {'criterion': 'gini', 'max_depth': 2, 'min_sam...           0.888316   \n",
       "1    {'criterion': 'gini', 'max_depth': 2, 'min_sam...           0.888316   \n",
       "2    {'criterion': 'gini', 'max_depth': 2, 'min_sam...           0.888316   \n",
       "3    {'criterion': 'gini', 'max_depth': 2, 'min_sam...           0.888316   \n",
       "4    {'criterion': 'gini', 'max_depth': 2, 'min_sam...           0.888316   \n",
       "..                                                 ...                ...   \n",
       "220  {'criterion': 'log_loss', 'max_depth': 10, 'mi...           0.888316   \n",
       "221  {'criterion': 'log_loss', 'max_depth': 10, 'mi...           0.888316   \n",
       "222  {'criterion': 'log_loss', 'max_depth': 10, 'mi...           0.888316   \n",
       "223  {'criterion': 'log_loss', 'max_depth': 10, 'mi...           0.888316   \n",
       "224  {'criterion': 'log_loss', 'max_depth': 10, 'mi...           0.888316   \n",
       "\n",
       "     split1_test_score  split2_test_score  split3_test_score  \\\n",
       "0             0.888316           0.888316           0.888316   \n",
       "1             0.888316           0.888316           0.888316   \n",
       "2             0.888316           0.888316           0.888316   \n",
       "3             0.888316           0.888316           0.888316   \n",
       "4             0.888316           0.888316           0.888316   \n",
       "..                 ...                ...                ...   \n",
       "220           0.888316           0.888316           0.888316   \n",
       "221           0.888316           0.888316           0.888316   \n",
       "222           0.888316           0.888316           0.888316   \n",
       "223           0.888316           0.888316           0.888316   \n",
       "224           0.888316           0.888316           0.888316   \n",
       "\n",
       "     split4_test_score  mean_test_score  std_test_score  rank_test_score  \n",
       "0             0.888164         0.888285        0.000061                1  \n",
       "1             0.888164         0.888285        0.000061                1  \n",
       "2             0.888164         0.888285        0.000061                1  \n",
       "3             0.888164         0.888285        0.000061                1  \n",
       "4             0.888164         0.888285        0.000061                1  \n",
       "..                 ...              ...             ...              ...  \n",
       "220           0.888164         0.888285        0.000061                1  \n",
       "221           0.888164         0.888285        0.000061                1  \n",
       "222           0.888164         0.888285        0.000061                1  \n",
       "223           0.888164         0.888285        0.000061                1  \n",
       "224           0.888164         0.888285        0.000061                1  \n",
       "\n",
       "[225 rows x 17 columns]"
      ]
     },
     "execution_count": 74,
     "metadata": {},
     "output_type": "execute_result"
    }
   ],
   "source": [
    "dt_best_score = dt_gridCV_df.query('rank_test_score == 1')\n",
    "dt_best_score"
   ]
  },
  {
   "cell_type": "code",
   "execution_count": 75,
   "metadata": {
    "tags": []
   },
   "outputs": [
    {
     "data": {
      "text/plain": [
       "0.025029373168945313"
      ]
     },
     "execution_count": 75,
     "metadata": {},
     "output_type": "execute_result"
    }
   ],
   "source": [
    "dt_mean_fit_time = dt_best_score.at[0,'mean_fit_time']\n",
    "dt_mean_fit_time"
   ]
  },
  {
   "cell_type": "code",
   "execution_count": 76,
   "metadata": {
    "tags": []
   },
   "outputs": [
    {
     "data": {
      "text/html": [
       "<div>\n",
       "<style scoped>\n",
       "    .dataframe tbody tr th:only-of-type {\n",
       "        vertical-align: middle;\n",
       "    }\n",
       "\n",
       "    .dataframe tbody tr th {\n",
       "        vertical-align: top;\n",
       "    }\n",
       "\n",
       "    .dataframe thead th {\n",
       "        text-align: right;\n",
       "    }\n",
       "</style>\n",
       "<table border=\"1\" class=\"dataframe\">\n",
       "  <thead>\n",
       "    <tr style=\"text-align: right;\">\n",
       "      <th></th>\n",
       "      <th>train time</th>\n",
       "      <th>train accuracy</th>\n",
       "      <th>test accuracy</th>\n",
       "    </tr>\n",
       "    <tr>\n",
       "      <th>model</th>\n",
       "      <th></th>\n",
       "      <th></th>\n",
       "      <th></th>\n",
       "    </tr>\n",
       "  </thead>\n",
       "  <tbody>\n",
       "    <tr>\n",
       "      <th>Baseline</th>\n",
       "      <td>0.015625</td>\n",
       "      <td>0.034675</td>\n",
       "      <td>0.032704</td>\n",
       "    </tr>\n",
       "    <tr>\n",
       "      <th>KNN</th>\n",
       "      <td>0.000000</td>\n",
       "      <td>0.893050</td>\n",
       "      <td>0.873027</td>\n",
       "    </tr>\n",
       "    <tr>\n",
       "      <th>Logistic Regression</th>\n",
       "      <td>0.031250</td>\n",
       "      <td>0.888285</td>\n",
       "      <td>0.883588</td>\n",
       "    </tr>\n",
       "    <tr>\n",
       "      <th>SVC</th>\n",
       "      <td>25.312500</td>\n",
       "      <td>0.888771</td>\n",
       "      <td>0.883467</td>\n",
       "    </tr>\n",
       "    <tr>\n",
       "      <th>Decision Trees</th>\n",
       "      <td>0.125000</td>\n",
       "      <td>0.917481</td>\n",
       "      <td>0.860889</td>\n",
       "    </tr>\n",
       "    <tr>\n",
       "      <th>Improved Decision Trees</th>\n",
       "      <td>0.025029</td>\n",
       "      <td>0.888285</td>\n",
       "      <td>0.883588</td>\n",
       "    </tr>\n",
       "    <tr>\n",
       "      <th>Improved KNN</th>\n",
       "      <td>0.000000</td>\n",
       "      <td>0.000000</td>\n",
       "      <td>0.000000</td>\n",
       "    </tr>\n",
       "    <tr>\n",
       "      <th>Improved SVC</th>\n",
       "      <td>0.000000</td>\n",
       "      <td>0.000000</td>\n",
       "      <td>0.000000</td>\n",
       "    </tr>\n",
       "  </tbody>\n",
       "</table>\n",
       "</div>"
      ],
      "text/plain": [
       "                         train time  train accuracy  test accuracy\n",
       "model                                                             \n",
       "Baseline                   0.015625        0.034675       0.032704\n",
       "KNN                        0.000000        0.893050       0.873027\n",
       "Logistic Regression        0.031250        0.888285       0.883588\n",
       "SVC                       25.312500        0.888771       0.883467\n",
       "Decision Trees             0.125000        0.917481       0.860889\n",
       "Improved Decision Trees    0.025029        0.888285       0.883588\n",
       "Improved KNN               0.000000        0.000000       0.000000\n",
       "Improved SVC               0.000000        0.000000       0.000000"
      ]
     },
     "execution_count": 76,
     "metadata": {},
     "output_type": "execute_result"
    }
   ],
   "source": [
    "results_df.loc['Improved Decision Trees', ['train time']] = dt_mean_fit_time\n",
    "results_df.loc['Improved Decision Trees', ['test accuracy']] = dt_grid_test_acc\n",
    "results_df.loc['Improved Decision Trees', ['train accuracy']] = dt_grid_train_acc\n",
    "results_df"
   ]
  },
  {
   "cell_type": "markdown",
   "metadata": {},
   "source": [
    "##### KNN"
   ]
  },
  {
   "cell_type": "code",
   "execution_count": 78,
   "metadata": {
    "tags": []
   },
   "outputs": [],
   "source": [
    "knn_params = {'n_neighbors': [5, 8, 10, 15, 20, 25, 30]}"
   ]
  },
  {
   "cell_type": "code",
   "execution_count": 79,
   "metadata": {
    "tags": []
   },
   "outputs": [],
   "source": [
    "knn_grid = GridSearchCV(knn, param_grid=knn_params).fit(X_train, y_train)"
   ]
  },
  {
   "cell_type": "code",
   "execution_count": 95,
   "metadata": {
    "tags": []
   },
   "outputs": [],
   "source": [
    "knn_train_grid_score = knn_grid.score(X_train, y_train)\n",
    "knn_test_grid_score = knn_grid.score(X_test, y_test)"
   ]
  },
  {
   "cell_type": "code",
   "execution_count": 80,
   "metadata": {
    "tags": []
   },
   "outputs": [
    {
     "data": {
      "text/html": [
       "<div>\n",
       "<style scoped>\n",
       "    .dataframe tbody tr th:only-of-type {\n",
       "        vertical-align: middle;\n",
       "    }\n",
       "\n",
       "    .dataframe tbody tr th {\n",
       "        vertical-align: top;\n",
       "    }\n",
       "\n",
       "    .dataframe thead th {\n",
       "        text-align: right;\n",
       "    }\n",
       "</style>\n",
       "<table border=\"1\" class=\"dataframe\">\n",
       "  <thead>\n",
       "    <tr style=\"text-align: right;\">\n",
       "      <th></th>\n",
       "      <th>mean_fit_time</th>\n",
       "      <th>std_fit_time</th>\n",
       "      <th>mean_score_time</th>\n",
       "      <th>std_score_time</th>\n",
       "      <th>param_n_neighbors</th>\n",
       "      <th>params</th>\n",
       "      <th>split0_test_score</th>\n",
       "      <th>split1_test_score</th>\n",
       "      <th>split2_test_score</th>\n",
       "      <th>split3_test_score</th>\n",
       "      <th>split4_test_score</th>\n",
       "      <th>mean_test_score</th>\n",
       "      <th>std_test_score</th>\n",
       "      <th>rank_test_score</th>\n",
       "    </tr>\n",
       "  </thead>\n",
       "  <tbody>\n",
       "    <tr>\n",
       "      <th>0</th>\n",
       "      <td>0.010696</td>\n",
       "      <td>0.003394</td>\n",
       "      <td>0.375350</td>\n",
       "      <td>0.061256</td>\n",
       "      <td>5</td>\n",
       "      <td>{'n_neighbors': 5}</td>\n",
       "      <td>0.877542</td>\n",
       "      <td>0.879666</td>\n",
       "      <td>0.881487</td>\n",
       "      <td>0.881184</td>\n",
       "      <td>0.878604</td>\n",
       "      <td>0.879697</td>\n",
       "      <td>0.001500</td>\n",
       "      <td>7</td>\n",
       "    </tr>\n",
       "    <tr>\n",
       "      <th>1</th>\n",
       "      <td>0.011177</td>\n",
       "      <td>0.001660</td>\n",
       "      <td>0.348499</td>\n",
       "      <td>0.021601</td>\n",
       "      <td>8</td>\n",
       "      <td>{'n_neighbors': 8}</td>\n",
       "      <td>0.885584</td>\n",
       "      <td>0.886495</td>\n",
       "      <td>0.886191</td>\n",
       "      <td>0.887102</td>\n",
       "      <td>0.887253</td>\n",
       "      <td>0.886525</td>\n",
       "      <td>0.000610</td>\n",
       "      <td>6</td>\n",
       "    </tr>\n",
       "    <tr>\n",
       "      <th>2</th>\n",
       "      <td>0.011378</td>\n",
       "      <td>0.001794</td>\n",
       "      <td>0.355923</td>\n",
       "      <td>0.014109</td>\n",
       "      <td>10</td>\n",
       "      <td>{'n_neighbors': 10}</td>\n",
       "      <td>0.887709</td>\n",
       "      <td>0.886343</td>\n",
       "      <td>0.886950</td>\n",
       "      <td>0.888012</td>\n",
       "      <td>0.886950</td>\n",
       "      <td>0.887193</td>\n",
       "      <td>0.000596</td>\n",
       "      <td>4</td>\n",
       "    </tr>\n",
       "    <tr>\n",
       "      <th>3</th>\n",
       "      <td>0.010402</td>\n",
       "      <td>0.002058</td>\n",
       "      <td>0.348012</td>\n",
       "      <td>0.010405</td>\n",
       "      <td>15</td>\n",
       "      <td>{'n_neighbors': 15}</td>\n",
       "      <td>0.887405</td>\n",
       "      <td>0.887405</td>\n",
       "      <td>0.885888</td>\n",
       "      <td>0.888012</td>\n",
       "      <td>0.885584</td>\n",
       "      <td>0.886859</td>\n",
       "      <td>0.000948</td>\n",
       "      <td>5</td>\n",
       "    </tr>\n",
       "    <tr>\n",
       "      <th>4</th>\n",
       "      <td>0.011202</td>\n",
       "      <td>0.001470</td>\n",
       "      <td>0.418711</td>\n",
       "      <td>0.027807</td>\n",
       "      <td>20</td>\n",
       "      <td>{'n_neighbors': 20}</td>\n",
       "      <td>0.888164</td>\n",
       "      <td>0.887253</td>\n",
       "      <td>0.888012</td>\n",
       "      <td>0.888923</td>\n",
       "      <td>0.886950</td>\n",
       "      <td>0.887860</td>\n",
       "      <td>0.000699</td>\n",
       "      <td>2</td>\n",
       "    </tr>\n",
       "    <tr>\n",
       "      <th>5</th>\n",
       "      <td>0.013027</td>\n",
       "      <td>0.001123</td>\n",
       "      <td>0.500760</td>\n",
       "      <td>0.087053</td>\n",
       "      <td>25</td>\n",
       "      <td>{'n_neighbors': 25}</td>\n",
       "      <td>0.888316</td>\n",
       "      <td>0.887405</td>\n",
       "      <td>0.887709</td>\n",
       "      <td>0.887860</td>\n",
       "      <td>0.887253</td>\n",
       "      <td>0.887709</td>\n",
       "      <td>0.000372</td>\n",
       "      <td>3</td>\n",
       "    </tr>\n",
       "    <tr>\n",
       "      <th>6</th>\n",
       "      <td>0.011313</td>\n",
       "      <td>0.001368</td>\n",
       "      <td>0.427781</td>\n",
       "      <td>0.013228</td>\n",
       "      <td>30</td>\n",
       "      <td>{'n_neighbors': 30}</td>\n",
       "      <td>0.888923</td>\n",
       "      <td>0.887557</td>\n",
       "      <td>0.887253</td>\n",
       "      <td>0.888012</td>\n",
       "      <td>0.887709</td>\n",
       "      <td>0.887891</td>\n",
       "      <td>0.000571</td>\n",
       "      <td>1</td>\n",
       "    </tr>\n",
       "  </tbody>\n",
       "</table>\n",
       "</div>"
      ],
      "text/plain": [
       "   mean_fit_time  std_fit_time  mean_score_time  std_score_time  \\\n",
       "0       0.010696      0.003394         0.375350        0.061256   \n",
       "1       0.011177      0.001660         0.348499        0.021601   \n",
       "2       0.011378      0.001794         0.355923        0.014109   \n",
       "3       0.010402      0.002058         0.348012        0.010405   \n",
       "4       0.011202      0.001470         0.418711        0.027807   \n",
       "5       0.013027      0.001123         0.500760        0.087053   \n",
       "6       0.011313      0.001368         0.427781        0.013228   \n",
       "\n",
       "  param_n_neighbors               params  split0_test_score  \\\n",
       "0                 5   {'n_neighbors': 5}           0.877542   \n",
       "1                 8   {'n_neighbors': 8}           0.885584   \n",
       "2                10  {'n_neighbors': 10}           0.887709   \n",
       "3                15  {'n_neighbors': 15}           0.887405   \n",
       "4                20  {'n_neighbors': 20}           0.888164   \n",
       "5                25  {'n_neighbors': 25}           0.888316   \n",
       "6                30  {'n_neighbors': 30}           0.888923   \n",
       "\n",
       "   split1_test_score  split2_test_score  split3_test_score  split4_test_score  \\\n",
       "0           0.879666           0.881487           0.881184           0.878604   \n",
       "1           0.886495           0.886191           0.887102           0.887253   \n",
       "2           0.886343           0.886950           0.888012           0.886950   \n",
       "3           0.887405           0.885888           0.888012           0.885584   \n",
       "4           0.887253           0.888012           0.888923           0.886950   \n",
       "5           0.887405           0.887709           0.887860           0.887253   \n",
       "6           0.887557           0.887253           0.888012           0.887709   \n",
       "\n",
       "   mean_test_score  std_test_score  rank_test_score  \n",
       "0         0.879697        0.001500                7  \n",
       "1         0.886525        0.000610                6  \n",
       "2         0.887193        0.000596                4  \n",
       "3         0.886859        0.000948                5  \n",
       "4         0.887860        0.000699                2  \n",
       "5         0.887709        0.000372                3  \n",
       "6         0.887891        0.000571                1  "
      ]
     },
     "execution_count": 80,
     "metadata": {},
     "output_type": "execute_result"
    }
   ],
   "source": [
    "knn_gridCV_df = pd.DataFrame.from_dict(knn_grid.cv_results_)\n",
    "knn_gridCV_df"
   ]
  },
  {
   "cell_type": "code",
   "execution_count": 81,
   "metadata": {
    "tags": []
   },
   "outputs": [
    {
     "data": {
      "text/html": [
       "<div>\n",
       "<style scoped>\n",
       "    .dataframe tbody tr th:only-of-type {\n",
       "        vertical-align: middle;\n",
       "    }\n",
       "\n",
       "    .dataframe tbody tr th {\n",
       "        vertical-align: top;\n",
       "    }\n",
       "\n",
       "    .dataframe thead th {\n",
       "        text-align: right;\n",
       "    }\n",
       "</style>\n",
       "<table border=\"1\" class=\"dataframe\">\n",
       "  <thead>\n",
       "    <tr style=\"text-align: right;\">\n",
       "      <th></th>\n",
       "      <th>mean_fit_time</th>\n",
       "      <th>std_fit_time</th>\n",
       "      <th>mean_score_time</th>\n",
       "      <th>std_score_time</th>\n",
       "      <th>param_n_neighbors</th>\n",
       "      <th>params</th>\n",
       "      <th>split0_test_score</th>\n",
       "      <th>split1_test_score</th>\n",
       "      <th>split2_test_score</th>\n",
       "      <th>split3_test_score</th>\n",
       "      <th>split4_test_score</th>\n",
       "      <th>mean_test_score</th>\n",
       "      <th>std_test_score</th>\n",
       "      <th>rank_test_score</th>\n",
       "    </tr>\n",
       "  </thead>\n",
       "  <tbody>\n",
       "    <tr>\n",
       "      <th>6</th>\n",
       "      <td>0.011313</td>\n",
       "      <td>0.001368</td>\n",
       "      <td>0.427781</td>\n",
       "      <td>0.013228</td>\n",
       "      <td>30</td>\n",
       "      <td>{'n_neighbors': 30}</td>\n",
       "      <td>0.888923</td>\n",
       "      <td>0.887557</td>\n",
       "      <td>0.887253</td>\n",
       "      <td>0.888012</td>\n",
       "      <td>0.887709</td>\n",
       "      <td>0.887891</td>\n",
       "      <td>0.000571</td>\n",
       "      <td>1</td>\n",
       "    </tr>\n",
       "  </tbody>\n",
       "</table>\n",
       "</div>"
      ],
      "text/plain": [
       "   mean_fit_time  std_fit_time  mean_score_time  std_score_time  \\\n",
       "6       0.011313      0.001368         0.427781        0.013228   \n",
       "\n",
       "  param_n_neighbors               params  split0_test_score  \\\n",
       "6                30  {'n_neighbors': 30}           0.888923   \n",
       "\n",
       "   split1_test_score  split2_test_score  split3_test_score  split4_test_score  \\\n",
       "6           0.887557           0.887253           0.888012           0.887709   \n",
       "\n",
       "   mean_test_score  std_test_score  rank_test_score  \n",
       "6         0.887891        0.000571                1  "
      ]
     },
     "execution_count": 81,
     "metadata": {},
     "output_type": "execute_result"
    }
   ],
   "source": [
    "knn_best_score = knn_gridCV_df.query('rank_test_score == 1')\n",
    "knn_best_score"
   ]
  },
  {
   "cell_type": "code",
   "execution_count": 90,
   "metadata": {
    "tags": []
   },
   "outputs": [
    {
     "data": {
      "text/plain": [
       "0.01131296157836914"
      ]
     },
     "execution_count": 90,
     "metadata": {},
     "output_type": "execute_result"
    }
   ],
   "source": [
    "knn_mean_fit_time = knn_best_score.at[6,'mean_fit_time']\n",
    "knn_mean_fit_time"
   ]
  },
  {
   "cell_type": "code",
   "execution_count": 97,
   "metadata": {},
   "outputs": [
    {
     "data": {
      "text/html": [
       "<div>\n",
       "<style scoped>\n",
       "    .dataframe tbody tr th:only-of-type {\n",
       "        vertical-align: middle;\n",
       "    }\n",
       "\n",
       "    .dataframe tbody tr th {\n",
       "        vertical-align: top;\n",
       "    }\n",
       "\n",
       "    .dataframe thead th {\n",
       "        text-align: right;\n",
       "    }\n",
       "</style>\n",
       "<table border=\"1\" class=\"dataframe\">\n",
       "  <thead>\n",
       "    <tr style=\"text-align: right;\">\n",
       "      <th></th>\n",
       "      <th>train time</th>\n",
       "      <th>train accuracy</th>\n",
       "      <th>test accuracy</th>\n",
       "    </tr>\n",
       "    <tr>\n",
       "      <th>model</th>\n",
       "      <th></th>\n",
       "      <th></th>\n",
       "      <th></th>\n",
       "    </tr>\n",
       "  </thead>\n",
       "  <tbody>\n",
       "    <tr>\n",
       "      <th>Baseline</th>\n",
       "      <td>0.015625</td>\n",
       "      <td>0.034675</td>\n",
       "      <td>0.032704</td>\n",
       "    </tr>\n",
       "    <tr>\n",
       "      <th>KNN</th>\n",
       "      <td>0.000000</td>\n",
       "      <td>0.893050</td>\n",
       "      <td>0.873027</td>\n",
       "    </tr>\n",
       "    <tr>\n",
       "      <th>Logistic Regression</th>\n",
       "      <td>0.031250</td>\n",
       "      <td>0.888285</td>\n",
       "      <td>0.883588</td>\n",
       "    </tr>\n",
       "    <tr>\n",
       "      <th>SVC</th>\n",
       "      <td>25.312500</td>\n",
       "      <td>0.888771</td>\n",
       "      <td>0.883467</td>\n",
       "    </tr>\n",
       "    <tr>\n",
       "      <th>Decision Trees</th>\n",
       "      <td>0.125000</td>\n",
       "      <td>0.917481</td>\n",
       "      <td>0.860889</td>\n",
       "    </tr>\n",
       "    <tr>\n",
       "      <th>Improved Decision Trees</th>\n",
       "      <td>0.025029</td>\n",
       "      <td>0.888285</td>\n",
       "      <td>0.883588</td>\n",
       "    </tr>\n",
       "    <tr>\n",
       "      <th>Improved KNN</th>\n",
       "      <td>0.011313</td>\n",
       "      <td>0.888953</td>\n",
       "      <td>0.882374</td>\n",
       "    </tr>\n",
       "    <tr>\n",
       "      <th>Improved SVC</th>\n",
       "      <td>0.000000</td>\n",
       "      <td>0.000000</td>\n",
       "      <td>0.000000</td>\n",
       "    </tr>\n",
       "  </tbody>\n",
       "</table>\n",
       "</div>"
      ],
      "text/plain": [
       "                         train time  train accuracy  test accuracy\n",
       "model                                                             \n",
       "Baseline                   0.015625        0.034675       0.032704\n",
       "KNN                        0.000000        0.893050       0.873027\n",
       "Logistic Regression        0.031250        0.888285       0.883588\n",
       "SVC                       25.312500        0.888771       0.883467\n",
       "Decision Trees             0.125000        0.917481       0.860889\n",
       "Improved Decision Trees    0.025029        0.888285       0.883588\n",
       "Improved KNN               0.011313        0.888953       0.882374\n",
       "Improved SVC               0.000000        0.000000       0.000000"
      ]
     },
     "execution_count": 97,
     "metadata": {},
     "output_type": "execute_result"
    }
   ],
   "source": [
    "results_df.loc['Improved KNN', ['train time']] = knn_mean_fit_time\n",
    "results_df.loc['Improved KNN', ['test accuracy']] = knn_test_grid_score\n",
    "results_df.loc['Improved KNN', ['train accuracy']] = knn_train_grid_score\n",
    "results_df"
   ]
  },
  {
   "cell_type": "markdown",
   "metadata": {},
   "source": [
    "##### SVC"
   ]
  },
  {
   "cell_type": "code",
   "execution_count": 100,
   "metadata": {
    "tags": []
   },
   "outputs": [],
   "source": [
    "svc_params = {'kernel': ['rbf', 'poly', 'linear', 'sigmoid']}"
   ]
  },
  {
   "cell_type": "code",
   "execution_count": 102,
   "metadata": {
    "tags": []
   },
   "outputs": [],
   "source": [
    "svc_grid = GridSearchCV(svc, param_grid=svc_params).fit(X_train, y_train)"
   ]
  },
  {
   "cell_type": "code",
   "execution_count": 103,
   "metadata": {
    "tags": []
   },
   "outputs": [],
   "source": [
    "svc_train_grid_score = svc_grid.score(X_train, y_train)\n",
    "svc_test_grid_score = svc_grid.score(X_test, y_test)"
   ]
  },
  {
   "cell_type": "code",
   "execution_count": 104,
   "metadata": {
    "tags": []
   },
   "outputs": [
    {
     "data": {
      "text/html": [
       "<div>\n",
       "<style scoped>\n",
       "    .dataframe tbody tr th:only-of-type {\n",
       "        vertical-align: middle;\n",
       "    }\n",
       "\n",
       "    .dataframe tbody tr th {\n",
       "        vertical-align: top;\n",
       "    }\n",
       "\n",
       "    .dataframe thead th {\n",
       "        text-align: right;\n",
       "    }\n",
       "</style>\n",
       "<table border=\"1\" class=\"dataframe\">\n",
       "  <thead>\n",
       "    <tr style=\"text-align: right;\">\n",
       "      <th></th>\n",
       "      <th>mean_fit_time</th>\n",
       "      <th>std_fit_time</th>\n",
       "      <th>mean_score_time</th>\n",
       "      <th>std_score_time</th>\n",
       "      <th>param_kernel</th>\n",
       "      <th>params</th>\n",
       "      <th>split0_test_score</th>\n",
       "      <th>split1_test_score</th>\n",
       "      <th>split2_test_score</th>\n",
       "      <th>split3_test_score</th>\n",
       "      <th>split4_test_score</th>\n",
       "      <th>mean_test_score</th>\n",
       "      <th>std_test_score</th>\n",
       "      <th>rank_test_score</th>\n",
       "    </tr>\n",
       "  </thead>\n",
       "  <tbody>\n",
       "    <tr>\n",
       "      <th>0</th>\n",
       "      <td>13.593515</td>\n",
       "      <td>0.362088</td>\n",
       "      <td>3.195614</td>\n",
       "      <td>0.081793</td>\n",
       "      <td>rbf</td>\n",
       "      <td>{'kernel': 'rbf'}</td>\n",
       "      <td>0.887709</td>\n",
       "      <td>0.888012</td>\n",
       "      <td>0.888164</td>\n",
       "      <td>0.888164</td>\n",
       "      <td>0.888164</td>\n",
       "      <td>0.888042</td>\n",
       "      <td>0.000177</td>\n",
       "      <td>2</td>\n",
       "    </tr>\n",
       "    <tr>\n",
       "      <th>1</th>\n",
       "      <td>88.118094</td>\n",
       "      <td>20.955418</td>\n",
       "      <td>0.983653</td>\n",
       "      <td>0.137231</td>\n",
       "      <td>poly</td>\n",
       "      <td>{'kernel': 'poly'}</td>\n",
       "      <td>0.886646</td>\n",
       "      <td>0.886343</td>\n",
       "      <td>0.887557</td>\n",
       "      <td>0.887405</td>\n",
       "      <td>0.887557</td>\n",
       "      <td>0.887102</td>\n",
       "      <td>0.000508</td>\n",
       "      <td>3</td>\n",
       "    </tr>\n",
       "    <tr>\n",
       "      <th>2</th>\n",
       "      <td>4.938389</td>\n",
       "      <td>0.510776</td>\n",
       "      <td>0.736266</td>\n",
       "      <td>0.066452</td>\n",
       "      <td>linear</td>\n",
       "      <td>{'kernel': 'linear'}</td>\n",
       "      <td>0.888316</td>\n",
       "      <td>0.888316</td>\n",
       "      <td>0.888316</td>\n",
       "      <td>0.888316</td>\n",
       "      <td>0.888164</td>\n",
       "      <td>0.888285</td>\n",
       "      <td>0.000061</td>\n",
       "      <td>1</td>\n",
       "    </tr>\n",
       "    <tr>\n",
       "      <th>3</th>\n",
       "      <td>12.049372</td>\n",
       "      <td>2.079266</td>\n",
       "      <td>1.051467</td>\n",
       "      <td>0.059789</td>\n",
       "      <td>sigmoid</td>\n",
       "      <td>{'kernel': 'sigmoid'}</td>\n",
       "      <td>0.819423</td>\n",
       "      <td>0.817754</td>\n",
       "      <td>0.826859</td>\n",
       "      <td>0.828225</td>\n",
       "      <td>0.821548</td>\n",
       "      <td>0.822762</td>\n",
       "      <td>0.004107</td>\n",
       "      <td>4</td>\n",
       "    </tr>\n",
       "  </tbody>\n",
       "</table>\n",
       "</div>"
      ],
      "text/plain": [
       "   mean_fit_time  std_fit_time  mean_score_time  std_score_time param_kernel  \\\n",
       "0      13.593515      0.362088         3.195614        0.081793          rbf   \n",
       "1      88.118094     20.955418         0.983653        0.137231         poly   \n",
       "2       4.938389      0.510776         0.736266        0.066452       linear   \n",
       "3      12.049372      2.079266         1.051467        0.059789      sigmoid   \n",
       "\n",
       "                  params  split0_test_score  split1_test_score  \\\n",
       "0      {'kernel': 'rbf'}           0.887709           0.888012   \n",
       "1     {'kernel': 'poly'}           0.886646           0.886343   \n",
       "2   {'kernel': 'linear'}           0.888316           0.888316   \n",
       "3  {'kernel': 'sigmoid'}           0.819423           0.817754   \n",
       "\n",
       "   split2_test_score  split3_test_score  split4_test_score  mean_test_score  \\\n",
       "0           0.888164           0.888164           0.888164         0.888042   \n",
       "1           0.887557           0.887405           0.887557         0.887102   \n",
       "2           0.888316           0.888316           0.888164         0.888285   \n",
       "3           0.826859           0.828225           0.821548         0.822762   \n",
       "\n",
       "   std_test_score  rank_test_score  \n",
       "0        0.000177                2  \n",
       "1        0.000508                3  \n",
       "2        0.000061                1  \n",
       "3        0.004107                4  "
      ]
     },
     "execution_count": 104,
     "metadata": {},
     "output_type": "execute_result"
    }
   ],
   "source": [
    "svc_gridCV_df = pd.DataFrame.from_dict(svc_grid.cv_results_)\n",
    "svc_gridCV_df"
   ]
  },
  {
   "cell_type": "code",
   "execution_count": 105,
   "metadata": {
    "tags": []
   },
   "outputs": [
    {
     "data": {
      "text/html": [
       "<div>\n",
       "<style scoped>\n",
       "    .dataframe tbody tr th:only-of-type {\n",
       "        vertical-align: middle;\n",
       "    }\n",
       "\n",
       "    .dataframe tbody tr th {\n",
       "        vertical-align: top;\n",
       "    }\n",
       "\n",
       "    .dataframe thead th {\n",
       "        text-align: right;\n",
       "    }\n",
       "</style>\n",
       "<table border=\"1\" class=\"dataframe\">\n",
       "  <thead>\n",
       "    <tr style=\"text-align: right;\">\n",
       "      <th></th>\n",
       "      <th>mean_fit_time</th>\n",
       "      <th>std_fit_time</th>\n",
       "      <th>mean_score_time</th>\n",
       "      <th>std_score_time</th>\n",
       "      <th>param_kernel</th>\n",
       "      <th>params</th>\n",
       "      <th>split0_test_score</th>\n",
       "      <th>split1_test_score</th>\n",
       "      <th>split2_test_score</th>\n",
       "      <th>split3_test_score</th>\n",
       "      <th>split4_test_score</th>\n",
       "      <th>mean_test_score</th>\n",
       "      <th>std_test_score</th>\n",
       "      <th>rank_test_score</th>\n",
       "    </tr>\n",
       "  </thead>\n",
       "  <tbody>\n",
       "    <tr>\n",
       "      <th>2</th>\n",
       "      <td>4.938389</td>\n",
       "      <td>0.510776</td>\n",
       "      <td>0.736266</td>\n",
       "      <td>0.066452</td>\n",
       "      <td>linear</td>\n",
       "      <td>{'kernel': 'linear'}</td>\n",
       "      <td>0.888316</td>\n",
       "      <td>0.888316</td>\n",
       "      <td>0.888316</td>\n",
       "      <td>0.888316</td>\n",
       "      <td>0.888164</td>\n",
       "      <td>0.888285</td>\n",
       "      <td>0.000061</td>\n",
       "      <td>1</td>\n",
       "    </tr>\n",
       "  </tbody>\n",
       "</table>\n",
       "</div>"
      ],
      "text/plain": [
       "   mean_fit_time  std_fit_time  mean_score_time  std_score_time param_kernel  \\\n",
       "2       4.938389      0.510776         0.736266        0.066452       linear   \n",
       "\n",
       "                 params  split0_test_score  split1_test_score  \\\n",
       "2  {'kernel': 'linear'}           0.888316           0.888316   \n",
       "\n",
       "   split2_test_score  split3_test_score  split4_test_score  mean_test_score  \\\n",
       "2           0.888316           0.888316           0.888164         0.888285   \n",
       "\n",
       "   std_test_score  rank_test_score  \n",
       "2        0.000061                1  "
      ]
     },
     "execution_count": 105,
     "metadata": {},
     "output_type": "execute_result"
    }
   ],
   "source": [
    "svc_best_score = svc_gridCV_df.query('rank_test_score == 1')\n",
    "svc_best_score"
   ]
  },
  {
   "cell_type": "code",
   "execution_count": 106,
   "metadata": {
    "tags": []
   },
   "outputs": [],
   "source": [
    "svc_mean_fit_time = svc_best_score.at[2,'mean_fit_time']"
   ]
  },
  {
   "cell_type": "code",
   "execution_count": 107,
   "metadata": {},
   "outputs": [
    {
     "data": {
      "text/html": [
       "<div>\n",
       "<style scoped>\n",
       "    .dataframe tbody tr th:only-of-type {\n",
       "        vertical-align: middle;\n",
       "    }\n",
       "\n",
       "    .dataframe tbody tr th {\n",
       "        vertical-align: top;\n",
       "    }\n",
       "\n",
       "    .dataframe thead th {\n",
       "        text-align: right;\n",
       "    }\n",
       "</style>\n",
       "<table border=\"1\" class=\"dataframe\">\n",
       "  <thead>\n",
       "    <tr style=\"text-align: right;\">\n",
       "      <th></th>\n",
       "      <th>train time</th>\n",
       "      <th>train accuracy</th>\n",
       "      <th>test accuracy</th>\n",
       "    </tr>\n",
       "    <tr>\n",
       "      <th>model</th>\n",
       "      <th></th>\n",
       "      <th></th>\n",
       "      <th></th>\n",
       "    </tr>\n",
       "  </thead>\n",
       "  <tbody>\n",
       "    <tr>\n",
       "      <th>Baseline</th>\n",
       "      <td>0.015625</td>\n",
       "      <td>0.034675</td>\n",
       "      <td>0.032704</td>\n",
       "    </tr>\n",
       "    <tr>\n",
       "      <th>KNN</th>\n",
       "      <td>0.000000</td>\n",
       "      <td>0.893050</td>\n",
       "      <td>0.873027</td>\n",
       "    </tr>\n",
       "    <tr>\n",
       "      <th>Logistic Regression</th>\n",
       "      <td>0.031250</td>\n",
       "      <td>0.888285</td>\n",
       "      <td>0.883588</td>\n",
       "    </tr>\n",
       "    <tr>\n",
       "      <th>SVC</th>\n",
       "      <td>25.312500</td>\n",
       "      <td>0.888771</td>\n",
       "      <td>0.883467</td>\n",
       "    </tr>\n",
       "    <tr>\n",
       "      <th>Decision Trees</th>\n",
       "      <td>0.125000</td>\n",
       "      <td>0.917481</td>\n",
       "      <td>0.860889</td>\n",
       "    </tr>\n",
       "    <tr>\n",
       "      <th>Improved Decision Trees</th>\n",
       "      <td>0.025029</td>\n",
       "      <td>0.888285</td>\n",
       "      <td>0.883588</td>\n",
       "    </tr>\n",
       "    <tr>\n",
       "      <th>Improved KNN</th>\n",
       "      <td>0.011313</td>\n",
       "      <td>0.888953</td>\n",
       "      <td>0.882374</td>\n",
       "    </tr>\n",
       "    <tr>\n",
       "      <th>Improved SVC</th>\n",
       "      <td>4.938389</td>\n",
       "      <td>0.888285</td>\n",
       "      <td>0.883588</td>\n",
       "    </tr>\n",
       "  </tbody>\n",
       "</table>\n",
       "</div>"
      ],
      "text/plain": [
       "                         train time  train accuracy  test accuracy\n",
       "model                                                             \n",
       "Baseline                   0.015625        0.034675       0.032704\n",
       "KNN                        0.000000        0.893050       0.873027\n",
       "Logistic Regression        0.031250        0.888285       0.883588\n",
       "SVC                       25.312500        0.888771       0.883467\n",
       "Decision Trees             0.125000        0.917481       0.860889\n",
       "Improved Decision Trees    0.025029        0.888285       0.883588\n",
       "Improved KNN               0.011313        0.888953       0.882374\n",
       "Improved SVC               4.938389        0.888285       0.883588"
      ]
     },
     "execution_count": 107,
     "metadata": {},
     "output_type": "execute_result"
    }
   ],
   "source": [
    "results_df.loc['Improved SVC', ['train time']] = svc_mean_fit_time\n",
    "results_df.loc['Improved SVC', ['test accuracy']] = svc_test_grid_score\n",
    "results_df.loc['Improved SVC', ['train accuracy']] = svc_train_grid_score\n",
    "results_df"
   ]
  },
  {
   "cell_type": "markdown",
   "metadata": {},
   "source": [
    "##### Logistic Regression"
   ]
  },
  {
   "cell_type": "markdown",
   "metadata": {},
   "source": [
    "https://www.projectpro.io/recipes/optimize-hyper-parameters-of-logistic-regression-model-using-grid-search-in-python"
   ]
  },
  {
   "cell_type": "code",
   "execution_count": 119,
   "metadata": {
    "tags": []
   },
   "outputs": [],
   "source": [
    "scaler = StandardScaler()"
   ]
  },
  {
   "cell_type": "code",
   "execution_count": 121,
   "metadata": {
    "tags": []
   },
   "outputs": [],
   "source": [
    "pca = PCA()"
   ]
  },
  {
   "cell_type": "code",
   "execution_count": 123,
   "metadata": {
    "tags": []
   },
   "outputs": [],
   "source": [
    "lgr = LogisticRegression()"
   ]
  },
  {
   "cell_type": "code",
   "execution_count": 125,
   "metadata": {
    "tags": []
   },
   "outputs": [],
   "source": [
    "pipe = Pipeline(steps=[('scaler', scaler),\n",
    "                           ('pca', pca),\n",
    "                           ('lgr', lgr)])"
   ]
  },
  {
   "cell_type": "code",
   "execution_count": 179,
   "metadata": {
    "tags": []
   },
   "outputs": [],
   "source": [
    "n_components = list(range(1,X.shape[1]+1,1))"
   ]
  },
  {
   "cell_type": "code",
   "execution_count": 181,
   "metadata": {
    "tags": []
   },
   "outputs": [],
   "source": [
    "# param_grid = {\n",
    "#     'C': [0.001, 0.01, 0.1, 1, 10, 100, 1000],\n",
    "#     'penalty': ['l1', 'l2']\n",
    "# }"
   ]
  },
  {
   "cell_type": "code",
   "execution_count": 189,
   "metadata": {
    "tags": []
   },
   "outputs": [],
   "source": [
    "# C = np.logspace(-4, 4, 50)\n",
    "C = [0.001, 0.01, 0.1, 1, 10, 100, 1000]\n",
    "# penalty = ['l1', 'l2']\n",
    "# C = [0.01, 1, 10]\n",
    "penalty = ['l2']"
   ]
  },
  {
   "cell_type": "code",
   "execution_count": 191,
   "metadata": {
    "tags": []
   },
   "outputs": [],
   "source": [
    "lgr_params = dict(pca__n_components=n_components,\n",
    "                      lgr__C=C,\n",
    "                      lgr__penalty=penalty)"
   ]
  },
  {
   "cell_type": "code",
   "execution_count": 193,
   "metadata": {
    "tags": []
   },
   "outputs": [],
   "source": [
    "# THIS TAKES A WHILE\n",
    "lgr_grid = GridSearchCV(pipe, lgr_params).fit(X_train, y_train)"
   ]
  },
  {
   "cell_type": "code",
   "execution_count": 195,
   "metadata": {
    "tags": []
   },
   "outputs": [
    {
     "name": "stdout",
     "output_type": "stream",
     "text": [
      "Best Penalty: l2\n",
      "Best C: 0.01\n",
      "Best Number Of Components: 10\n",
      "\n",
      "LogisticRegression(C=0.01)\n"
     ]
    }
   ],
   "source": [
    "print('Best Penalty:', lgr_cv.best_estimator_.get_params()['lgr__penalty'])\n",
    "print('Best C:', lgr_cv.best_estimator_.get_params()['lgr__C'])\n",
    "print('Best Number Of Components:', lgr_cv.best_estimator_.get_params()['pca__n_components'])\n",
    "print(); print(lgr_cv.best_estimator_.get_params()['lgr'])"
   ]
  },
  {
   "cell_type": "code",
   "execution_count": 197,
   "metadata": {
    "tags": []
   },
   "outputs": [],
   "source": [
    "lgr_train_grid_score = lgr_grid.score(X_train, y_train)\n",
    "lgr_test_grid_score = lgr_grid.score(X_test, y_test)"
   ]
  },
  {
   "cell_type": "code",
   "execution_count": 201,
   "metadata": {
    "tags": []
   },
   "outputs": [],
   "source": [
    "lgr_gridCV_df = pd.DataFrame.from_dict(lgr_grid.cv_results_)"
   ]
  },
  {
   "cell_type": "code",
   "execution_count": 205,
   "metadata": {
    "tags": []
   },
   "outputs": [
    {
     "data": {
      "text/html": [
       "<div>\n",
       "<style scoped>\n",
       "    .dataframe tbody tr th:only-of-type {\n",
       "        vertical-align: middle;\n",
       "    }\n",
       "\n",
       "    .dataframe tbody tr th {\n",
       "        vertical-align: top;\n",
       "    }\n",
       "\n",
       "    .dataframe thead th {\n",
       "        text-align: right;\n",
       "    }\n",
       "</style>\n",
       "<table border=\"1\" class=\"dataframe\">\n",
       "  <thead>\n",
       "    <tr style=\"text-align: right;\">\n",
       "      <th></th>\n",
       "      <th>mean_fit_time</th>\n",
       "      <th>std_fit_time</th>\n",
       "      <th>mean_score_time</th>\n",
       "      <th>std_score_time</th>\n",
       "      <th>param_lgr__C</th>\n",
       "      <th>param_lgr__penalty</th>\n",
       "      <th>param_pca__n_components</th>\n",
       "      <th>params</th>\n",
       "      <th>split0_test_score</th>\n",
       "      <th>split1_test_score</th>\n",
       "      <th>split2_test_score</th>\n",
       "      <th>split3_test_score</th>\n",
       "      <th>split4_test_score</th>\n",
       "      <th>mean_test_score</th>\n",
       "      <th>std_test_score</th>\n",
       "      <th>rank_test_score</th>\n",
       "    </tr>\n",
       "  </thead>\n",
       "  <tbody>\n",
       "    <tr>\n",
       "      <th>43</th>\n",
       "      <td>0.147192</td>\n",
       "      <td>0.051873</td>\n",
       "      <td>0.005613</td>\n",
       "      <td>0.002066</td>\n",
       "      <td>0.01</td>\n",
       "      <td>l2</td>\n",
       "      <td>10</td>\n",
       "      <td>{'lgr__C': 0.01, 'lgr__penalty': 'l2', 'pca__n...</td>\n",
       "      <td>0.888316</td>\n",
       "      <td>0.888467</td>\n",
       "      <td>0.888467</td>\n",
       "      <td>0.888316</td>\n",
       "      <td>0.888164</td>\n",
       "      <td>0.888346</td>\n",
       "      <td>0.000114</td>\n",
       "      <td>1</td>\n",
       "    </tr>\n",
       "    <tr>\n",
       "      <th>45</th>\n",
       "      <td>0.207909</td>\n",
       "      <td>0.050063</td>\n",
       "      <td>0.006964</td>\n",
       "      <td>0.001836</td>\n",
       "      <td>0.01</td>\n",
       "      <td>l2</td>\n",
       "      <td>12</td>\n",
       "      <td>{'lgr__C': 0.01, 'lgr__penalty': 'l2', 'pca__n...</td>\n",
       "      <td>0.888316</td>\n",
       "      <td>0.888619</td>\n",
       "      <td>0.888316</td>\n",
       "      <td>0.888316</td>\n",
       "      <td>0.888164</td>\n",
       "      <td>0.888346</td>\n",
       "      <td>0.000149</td>\n",
       "      <td>1</td>\n",
       "    </tr>\n",
       "    <tr>\n",
       "      <th>77</th>\n",
       "      <td>0.127408</td>\n",
       "      <td>0.018537</td>\n",
       "      <td>0.004401</td>\n",
       "      <td>0.001356</td>\n",
       "      <td>0.1</td>\n",
       "      <td>l2</td>\n",
       "      <td>10</td>\n",
       "      <td>{'lgr__C': 0.1, 'lgr__penalty': 'l2', 'pca__n_...</td>\n",
       "      <td>0.888316</td>\n",
       "      <td>0.888619</td>\n",
       "      <td>0.888316</td>\n",
       "      <td>0.888316</td>\n",
       "      <td>0.888164</td>\n",
       "      <td>0.888346</td>\n",
       "      <td>0.000149</td>\n",
       "      <td>1</td>\n",
       "    </tr>\n",
       "    <tr>\n",
       "      <th>179</th>\n",
       "      <td>0.107691</td>\n",
       "      <td>0.005035</td>\n",
       "      <td>0.003299</td>\n",
       "      <td>0.000416</td>\n",
       "      <td>100</td>\n",
       "      <td>l2</td>\n",
       "      <td>10</td>\n",
       "      <td>{'lgr__C': 100, 'lgr__penalty': 'l2', 'pca__n_...</td>\n",
       "      <td>0.888316</td>\n",
       "      <td>0.888467</td>\n",
       "      <td>0.888467</td>\n",
       "      <td>0.888316</td>\n",
       "      <td>0.888164</td>\n",
       "      <td>0.888346</td>\n",
       "      <td>0.000114</td>\n",
       "      <td>1</td>\n",
       "    </tr>\n",
       "    <tr>\n",
       "      <th>213</th>\n",
       "      <td>0.099594</td>\n",
       "      <td>0.002545</td>\n",
       "      <td>0.004320</td>\n",
       "      <td>0.000889</td>\n",
       "      <td>1000</td>\n",
       "      <td>l2</td>\n",
       "      <td>10</td>\n",
       "      <td>{'lgr__C': 1000, 'lgr__penalty': 'l2', 'pca__n...</td>\n",
       "      <td>0.888316</td>\n",
       "      <td>0.888467</td>\n",
       "      <td>0.888467</td>\n",
       "      <td>0.888316</td>\n",
       "      <td>0.888164</td>\n",
       "      <td>0.888346</td>\n",
       "      <td>0.000114</td>\n",
       "      <td>1</td>\n",
       "    </tr>\n",
       "  </tbody>\n",
       "</table>\n",
       "</div>"
      ],
      "text/plain": [
       "     mean_fit_time  std_fit_time  mean_score_time  std_score_time  \\\n",
       "43        0.147192      0.051873         0.005613        0.002066   \n",
       "45        0.207909      0.050063         0.006964        0.001836   \n",
       "77        0.127408      0.018537         0.004401        0.001356   \n",
       "179       0.107691      0.005035         0.003299        0.000416   \n",
       "213       0.099594      0.002545         0.004320        0.000889   \n",
       "\n",
       "    param_lgr__C param_lgr__penalty param_pca__n_components  \\\n",
       "43          0.01                 l2                      10   \n",
       "45          0.01                 l2                      12   \n",
       "77           0.1                 l2                      10   \n",
       "179          100                 l2                      10   \n",
       "213         1000                 l2                      10   \n",
       "\n",
       "                                                params  split0_test_score  \\\n",
       "43   {'lgr__C': 0.01, 'lgr__penalty': 'l2', 'pca__n...           0.888316   \n",
       "45   {'lgr__C': 0.01, 'lgr__penalty': 'l2', 'pca__n...           0.888316   \n",
       "77   {'lgr__C': 0.1, 'lgr__penalty': 'l2', 'pca__n_...           0.888316   \n",
       "179  {'lgr__C': 100, 'lgr__penalty': 'l2', 'pca__n_...           0.888316   \n",
       "213  {'lgr__C': 1000, 'lgr__penalty': 'l2', 'pca__n...           0.888316   \n",
       "\n",
       "     split1_test_score  split2_test_score  split3_test_score  \\\n",
       "43            0.888467           0.888467           0.888316   \n",
       "45            0.888619           0.888316           0.888316   \n",
       "77            0.888619           0.888316           0.888316   \n",
       "179           0.888467           0.888467           0.888316   \n",
       "213           0.888467           0.888467           0.888316   \n",
       "\n",
       "     split4_test_score  mean_test_score  std_test_score  rank_test_score  \n",
       "43            0.888164         0.888346        0.000114                1  \n",
       "45            0.888164         0.888346        0.000149                1  \n",
       "77            0.888164         0.888346        0.000149                1  \n",
       "179           0.888164         0.888346        0.000114                1  \n",
       "213           0.888164         0.888346        0.000114                1  "
      ]
     },
     "execution_count": 205,
     "metadata": {},
     "output_type": "execute_result"
    }
   ],
   "source": [
    "lgr_best_score = lgr_gridCV_df.query('rank_test_score == 1')\n",
    "lgr_best_score"
   ]
  },
  {
   "cell_type": "code",
   "execution_count": 207,
   "metadata": {
    "tags": []
   },
   "outputs": [],
   "source": [
    "lgr_mean_fit_time = lgr_best_score.at[213,'mean_fit_time']"
   ]
  },
  {
   "cell_type": "code",
   "execution_count": 217,
   "metadata": {
    "tags": []
   },
   "outputs": [],
   "source": [
    "lgr_row = pd.Series({'train time':0.0, 'train accuracy':0.0, 'test accuracy':0.0}, name='Improved Logistic Regression')"
   ]
  },
  {
   "cell_type": "code",
   "execution_count": 211,
   "metadata": {
    "tags": []
   },
   "outputs": [
    {
     "data": {
      "text/html": [
       "<div>\n",
       "<style scoped>\n",
       "    .dataframe tbody tr th:only-of-type {\n",
       "        vertical-align: middle;\n",
       "    }\n",
       "\n",
       "    .dataframe tbody tr th {\n",
       "        vertical-align: top;\n",
       "    }\n",
       "\n",
       "    .dataframe thead th {\n",
       "        text-align: right;\n",
       "    }\n",
       "</style>\n",
       "<table border=\"1\" class=\"dataframe\">\n",
       "  <thead>\n",
       "    <tr style=\"text-align: right;\">\n",
       "      <th></th>\n",
       "      <th>train time</th>\n",
       "      <th>train accuracy</th>\n",
       "      <th>test accuracy</th>\n",
       "    </tr>\n",
       "  </thead>\n",
       "  <tbody>\n",
       "    <tr>\n",
       "      <th>Baseline</th>\n",
       "      <td>0.015625</td>\n",
       "      <td>0.034675</td>\n",
       "      <td>0.032704</td>\n",
       "    </tr>\n",
       "    <tr>\n",
       "      <th>KNN</th>\n",
       "      <td>0.000000</td>\n",
       "      <td>0.893050</td>\n",
       "      <td>0.873027</td>\n",
       "    </tr>\n",
       "    <tr>\n",
       "      <th>Logistic Regression</th>\n",
       "      <td>0.031250</td>\n",
       "      <td>0.888285</td>\n",
       "      <td>0.883588</td>\n",
       "    </tr>\n",
       "    <tr>\n",
       "      <th>SVC</th>\n",
       "      <td>25.312500</td>\n",
       "      <td>0.888771</td>\n",
       "      <td>0.883467</td>\n",
       "    </tr>\n",
       "    <tr>\n",
       "      <th>Decision Trees</th>\n",
       "      <td>0.125000</td>\n",
       "      <td>0.917481</td>\n",
       "      <td>0.860889</td>\n",
       "    </tr>\n",
       "    <tr>\n",
       "      <th>Improved Decision Trees</th>\n",
       "      <td>0.025029</td>\n",
       "      <td>0.888285</td>\n",
       "      <td>0.883588</td>\n",
       "    </tr>\n",
       "    <tr>\n",
       "      <th>Improved KNN</th>\n",
       "      <td>0.011313</td>\n",
       "      <td>0.888953</td>\n",
       "      <td>0.882374</td>\n",
       "    </tr>\n",
       "    <tr>\n",
       "      <th>Improved SVC</th>\n",
       "      <td>4.938389</td>\n",
       "      <td>0.888285</td>\n",
       "      <td>0.883588</td>\n",
       "    </tr>\n",
       "    <tr>\n",
       "      <th>Improved Logistic Regression</th>\n",
       "      <td>NaN</td>\n",
       "      <td>NaN</td>\n",
       "      <td>NaN</td>\n",
       "    </tr>\n",
       "  </tbody>\n",
       "</table>\n",
       "</div>"
      ],
      "text/plain": [
       "                              train time  train accuracy  test accuracy\n",
       "Baseline                        0.015625        0.034675       0.032704\n",
       "KNN                             0.000000        0.893050       0.873027\n",
       "Logistic Regression             0.031250        0.888285       0.883588\n",
       "SVC                            25.312500        0.888771       0.883467\n",
       "Decision Trees                  0.125000        0.917481       0.860889\n",
       "Improved Decision Trees         0.025029        0.888285       0.883588\n",
       "Improved KNN                    0.011313        0.888953       0.882374\n",
       "Improved SVC                    4.938389        0.888285       0.883588\n",
       "Improved Logistic Regression         NaN             NaN            NaN"
      ]
     },
     "execution_count": 211,
     "metadata": {},
     "output_type": "execute_result"
    }
   ],
   "source": [
    "results_df = pd.concat([results_df, pd.DataFrame([lgr_row])])\n",
    "results_df"
   ]
  },
  {
   "cell_type": "code",
   "execution_count": 213,
   "metadata": {
    "tags": []
   },
   "outputs": [
    {
     "data": {
      "text/html": [
       "<div>\n",
       "<style scoped>\n",
       "    .dataframe tbody tr th:only-of-type {\n",
       "        vertical-align: middle;\n",
       "    }\n",
       "\n",
       "    .dataframe tbody tr th {\n",
       "        vertical-align: top;\n",
       "    }\n",
       "\n",
       "    .dataframe thead th {\n",
       "        text-align: right;\n",
       "    }\n",
       "</style>\n",
       "<table border=\"1\" class=\"dataframe\">\n",
       "  <thead>\n",
       "    <tr style=\"text-align: right;\">\n",
       "      <th></th>\n",
       "      <th>train time</th>\n",
       "      <th>train accuracy</th>\n",
       "      <th>test accuracy</th>\n",
       "    </tr>\n",
       "  </thead>\n",
       "  <tbody>\n",
       "    <tr>\n",
       "      <th>Baseline</th>\n",
       "      <td>0.015625</td>\n",
       "      <td>0.034675</td>\n",
       "      <td>0.032704</td>\n",
       "    </tr>\n",
       "    <tr>\n",
       "      <th>KNN</th>\n",
       "      <td>0.000000</td>\n",
       "      <td>0.893050</td>\n",
       "      <td>0.873027</td>\n",
       "    </tr>\n",
       "    <tr>\n",
       "      <th>Logistic Regression</th>\n",
       "      <td>0.031250</td>\n",
       "      <td>0.888285</td>\n",
       "      <td>0.883588</td>\n",
       "    </tr>\n",
       "    <tr>\n",
       "      <th>SVC</th>\n",
       "      <td>25.312500</td>\n",
       "      <td>0.888771</td>\n",
       "      <td>0.883467</td>\n",
       "    </tr>\n",
       "    <tr>\n",
       "      <th>Decision Trees</th>\n",
       "      <td>0.125000</td>\n",
       "      <td>0.917481</td>\n",
       "      <td>0.860889</td>\n",
       "    </tr>\n",
       "    <tr>\n",
       "      <th>Improved Decision Trees</th>\n",
       "      <td>0.025029</td>\n",
       "      <td>0.888285</td>\n",
       "      <td>0.883588</td>\n",
       "    </tr>\n",
       "    <tr>\n",
       "      <th>Improved KNN</th>\n",
       "      <td>0.011313</td>\n",
       "      <td>0.888953</td>\n",
       "      <td>0.882374</td>\n",
       "    </tr>\n",
       "    <tr>\n",
       "      <th>Improved SVC</th>\n",
       "      <td>4.938389</td>\n",
       "      <td>0.888285</td>\n",
       "      <td>0.883588</td>\n",
       "    </tr>\n",
       "    <tr>\n",
       "      <th>Improved Logistic Regression</th>\n",
       "      <td>4.938389</td>\n",
       "      <td>0.888285</td>\n",
       "      <td>0.883588</td>\n",
       "    </tr>\n",
       "  </tbody>\n",
       "</table>\n",
       "</div>"
      ],
      "text/plain": [
       "                              train time  train accuracy  test accuracy\n",
       "Baseline                        0.015625        0.034675       0.032704\n",
       "KNN                             0.000000        0.893050       0.873027\n",
       "Logistic Regression             0.031250        0.888285       0.883588\n",
       "SVC                            25.312500        0.888771       0.883467\n",
       "Decision Trees                  0.125000        0.917481       0.860889\n",
       "Improved Decision Trees         0.025029        0.888285       0.883588\n",
       "Improved KNN                    0.011313        0.888953       0.882374\n",
       "Improved SVC                    4.938389        0.888285       0.883588\n",
       "Improved Logistic Regression    4.938389        0.888285       0.883588"
      ]
     },
     "execution_count": 213,
     "metadata": {},
     "output_type": "execute_result"
    }
   ],
   "source": [
    "results_df.loc['Improved Logistic Regression', ['train time']] = svc_mean_fit_time\n",
    "results_df.loc['Improved Logistic Regression', ['test accuracy']] = svc_test_grid_score\n",
    "results_df.loc['Improved SVC', ['train accuracy']] = svc_train_grid_score\n",
    "results_df"
   ]
  },
  {
   "cell_type": "code",
   "execution_count": 222,
   "metadata": {
    "tags": []
   },
   "outputs": [
    {
     "data": {
      "text/plain": [
       "['train time', 'train accuracy', 'test accuracy']"
      ]
     },
     "execution_count": 222,
     "metadata": {},
     "output_type": "execute_result"
    }
   ],
   "source": [
    "metrics = list(results_df.columns)\n",
    "metrics"
   ]
  },
  {
   "cell_type": "code",
   "execution_count": 228,
   "metadata": {
    "tags": []
   },
   "outputs": [
    {
     "data": {
      "text/plain": [
       "[0.015625, 0.03467517517089558, 0.032704085071190825]"
      ]
     },
     "execution_count": 228,
     "metadata": {},
     "output_type": "execute_result"
    }
   ],
   "source": [
    "Baseline = results_df.loc['Baseline'].tolist()\n",
    "Baseline"
   ]
  },
  {
   "cell_type": "code",
   "execution_count": 240,
   "metadata": {
    "tags": []
   },
   "outputs": [
    {
     "data": {
      "application/vnd.plotly.v1+json": {
       "config": {
        "plotlyServerURL": "https://plot.ly"
       },
       "data": [
        {
         "name": "Baseline",
         "type": "bar",
         "x": [
          "train time",
          "train accuracy",
          "test accuracy"
         ],
         "y": [
          0.015625,
          0.03467517517089558,
          0.032704085071190825
         ]
        },
        {
         "name": "KNN",
         "type": "bar",
         "x": [
          "train time",
          "train accuracy",
          "test accuracy"
         ],
         "y": [
          0,
          0.8930500758725342,
          0.8730274338431658
         ]
        },
        {
         "name": "Logistic Regression",
         "type": "bar",
         "x": [
          "train time",
          "train accuracy",
          "test accuracy"
         ],
         "y": [
          0.03125,
          0.8882852807283763,
          0.8835882495751396
         ]
        },
        {
         "name": "SVC",
         "type": "bar",
         "x": [
          "train time",
          "train accuracy",
          "test accuracy"
         ],
         "y": [
          25.3125,
          0.8887708649468892,
          0.8834668608885652
         ]
        },
        {
         "name": "Decision Trees",
         "type": "bar",
         "x": [
          "train time",
          "train accuracy",
          "test accuracy"
         ],
         "y": [
          0.125,
          0.9174810318664643,
          0.8608885651857247
         ]
        },
        {
         "name": "Improved Decision Trees",
         "type": "bar",
         "x": [
          "train time",
          "train accuracy",
          "test accuracy"
         ],
         "y": [
          0.025029373168945313,
          0.8882852807283763,
          0.8835882495751396
         ]
        },
        {
         "name": "Improved KNN",
         "type": "bar",
         "x": [
          "train time",
          "train accuracy",
          "test accuracy"
         ],
         "y": [
          0.01131296157836914,
          0.8889529590288315,
          0.8823743627093955
         ]
        },
        {
         "name": "Improved SVC",
         "type": "bar",
         "x": [
          "train time",
          "train accuracy",
          "test accuracy"
         ],
         "y": [
          4.93838939666748,
          0.8882852807283763,
          0.8835882495751396
         ]
        },
        {
         "name": "Improved Logistic Regression",
         "type": "bar",
         "x": [
          "train time",
          "train accuracy",
          "test accuracy"
         ],
         "y": [
          4.93838939666748,
          0.8882852807283763,
          0.8835882495751396
         ]
        }
       ],
       "layout": {
        "autosize": true,
        "barmode": "group",
        "dragmode": "zoom",
        "template": {
         "data": {
          "bar": [
           {
            "error_x": {
             "color": "#2a3f5f"
            },
            "error_y": {
             "color": "#2a3f5f"
            },
            "marker": {
             "line": {
              "color": "#E5ECF6",
              "width": 0.5
             },
             "pattern": {
              "fillmode": "overlay",
              "size": 10,
              "solidity": 0.2
             }
            },
            "type": "bar"
           }
          ],
          "barpolar": [
           {
            "marker": {
             "line": {
              "color": "#E5ECF6",
              "width": 0.5
             },
             "pattern": {
              "fillmode": "overlay",
              "size": 10,
              "solidity": 0.2
             }
            },
            "type": "barpolar"
           }
          ],
          "carpet": [
           {
            "aaxis": {
             "endlinecolor": "#2a3f5f",
             "gridcolor": "white",
             "linecolor": "white",
             "minorgridcolor": "white",
             "startlinecolor": "#2a3f5f"
            },
            "baxis": {
             "endlinecolor": "#2a3f5f",
             "gridcolor": "white",
             "linecolor": "white",
             "minorgridcolor": "white",
             "startlinecolor": "#2a3f5f"
            },
            "type": "carpet"
           }
          ],
          "choropleth": [
           {
            "colorbar": {
             "outlinewidth": 0,
             "ticks": ""
            },
            "type": "choropleth"
           }
          ],
          "contour": [
           {
            "colorbar": {
             "outlinewidth": 0,
             "ticks": ""
            },
            "colorscale": [
             [
              0,
              "#0d0887"
             ],
             [
              0.1111111111111111,
              "#46039f"
             ],
             [
              0.2222222222222222,
              "#7201a8"
             ],
             [
              0.3333333333333333,
              "#9c179e"
             ],
             [
              0.4444444444444444,
              "#bd3786"
             ],
             [
              0.5555555555555556,
              "#d8576b"
             ],
             [
              0.6666666666666666,
              "#ed7953"
             ],
             [
              0.7777777777777778,
              "#fb9f3a"
             ],
             [
              0.8888888888888888,
              "#fdca26"
             ],
             [
              1,
              "#f0f921"
             ]
            ],
            "type": "contour"
           }
          ],
          "contourcarpet": [
           {
            "colorbar": {
             "outlinewidth": 0,
             "ticks": ""
            },
            "type": "contourcarpet"
           }
          ],
          "heatmap": [
           {
            "colorbar": {
             "outlinewidth": 0,
             "ticks": ""
            },
            "colorscale": [
             [
              0,
              "#0d0887"
             ],
             [
              0.1111111111111111,
              "#46039f"
             ],
             [
              0.2222222222222222,
              "#7201a8"
             ],
             [
              0.3333333333333333,
              "#9c179e"
             ],
             [
              0.4444444444444444,
              "#bd3786"
             ],
             [
              0.5555555555555556,
              "#d8576b"
             ],
             [
              0.6666666666666666,
              "#ed7953"
             ],
             [
              0.7777777777777778,
              "#fb9f3a"
             ],
             [
              0.8888888888888888,
              "#fdca26"
             ],
             [
              1,
              "#f0f921"
             ]
            ],
            "type": "heatmap"
           }
          ],
          "heatmapgl": [
           {
            "colorbar": {
             "outlinewidth": 0,
             "ticks": ""
            },
            "colorscale": [
             [
              0,
              "#0d0887"
             ],
             [
              0.1111111111111111,
              "#46039f"
             ],
             [
              0.2222222222222222,
              "#7201a8"
             ],
             [
              0.3333333333333333,
              "#9c179e"
             ],
             [
              0.4444444444444444,
              "#bd3786"
             ],
             [
              0.5555555555555556,
              "#d8576b"
             ],
             [
              0.6666666666666666,
              "#ed7953"
             ],
             [
              0.7777777777777778,
              "#fb9f3a"
             ],
             [
              0.8888888888888888,
              "#fdca26"
             ],
             [
              1,
              "#f0f921"
             ]
            ],
            "type": "heatmapgl"
           }
          ],
          "histogram": [
           {
            "marker": {
             "pattern": {
              "fillmode": "overlay",
              "size": 10,
              "solidity": 0.2
             }
            },
            "type": "histogram"
           }
          ],
          "histogram2d": [
           {
            "colorbar": {
             "outlinewidth": 0,
             "ticks": ""
            },
            "colorscale": [
             [
              0,
              "#0d0887"
             ],
             [
              0.1111111111111111,
              "#46039f"
             ],
             [
              0.2222222222222222,
              "#7201a8"
             ],
             [
              0.3333333333333333,
              "#9c179e"
             ],
             [
              0.4444444444444444,
              "#bd3786"
             ],
             [
              0.5555555555555556,
              "#d8576b"
             ],
             [
              0.6666666666666666,
              "#ed7953"
             ],
             [
              0.7777777777777778,
              "#fb9f3a"
             ],
             [
              0.8888888888888888,
              "#fdca26"
             ],
             [
              1,
              "#f0f921"
             ]
            ],
            "type": "histogram2d"
           }
          ],
          "histogram2dcontour": [
           {
            "colorbar": {
             "outlinewidth": 0,
             "ticks": ""
            },
            "colorscale": [
             [
              0,
              "#0d0887"
             ],
             [
              0.1111111111111111,
              "#46039f"
             ],
             [
              0.2222222222222222,
              "#7201a8"
             ],
             [
              0.3333333333333333,
              "#9c179e"
             ],
             [
              0.4444444444444444,
              "#bd3786"
             ],
             [
              0.5555555555555556,
              "#d8576b"
             ],
             [
              0.6666666666666666,
              "#ed7953"
             ],
             [
              0.7777777777777778,
              "#fb9f3a"
             ],
             [
              0.8888888888888888,
              "#fdca26"
             ],
             [
              1,
              "#f0f921"
             ]
            ],
            "type": "histogram2dcontour"
           }
          ],
          "mesh3d": [
           {
            "colorbar": {
             "outlinewidth": 0,
             "ticks": ""
            },
            "type": "mesh3d"
           }
          ],
          "parcoords": [
           {
            "line": {
             "colorbar": {
              "outlinewidth": 0,
              "ticks": ""
             }
            },
            "type": "parcoords"
           }
          ],
          "pie": [
           {
            "automargin": true,
            "type": "pie"
           }
          ],
          "scatter": [
           {
            "fillpattern": {
             "fillmode": "overlay",
             "size": 10,
             "solidity": 0.2
            },
            "type": "scatter"
           }
          ],
          "scatter3d": [
           {
            "line": {
             "colorbar": {
              "outlinewidth": 0,
              "ticks": ""
             }
            },
            "marker": {
             "colorbar": {
              "outlinewidth": 0,
              "ticks": ""
             }
            },
            "type": "scatter3d"
           }
          ],
          "scattercarpet": [
           {
            "marker": {
             "colorbar": {
              "outlinewidth": 0,
              "ticks": ""
             }
            },
            "type": "scattercarpet"
           }
          ],
          "scattergeo": [
           {
            "marker": {
             "colorbar": {
              "outlinewidth": 0,
              "ticks": ""
             }
            },
            "type": "scattergeo"
           }
          ],
          "scattergl": [
           {
            "marker": {
             "colorbar": {
              "outlinewidth": 0,
              "ticks": ""
             }
            },
            "type": "scattergl"
           }
          ],
          "scattermapbox": [
           {
            "marker": {
             "colorbar": {
              "outlinewidth": 0,
              "ticks": ""
             }
            },
            "type": "scattermapbox"
           }
          ],
          "scatterpolar": [
           {
            "marker": {
             "colorbar": {
              "outlinewidth": 0,
              "ticks": ""
             }
            },
            "type": "scatterpolar"
           }
          ],
          "scatterpolargl": [
           {
            "marker": {
             "colorbar": {
              "outlinewidth": 0,
              "ticks": ""
             }
            },
            "type": "scatterpolargl"
           }
          ],
          "scatterternary": [
           {
            "marker": {
             "colorbar": {
              "outlinewidth": 0,
              "ticks": ""
             }
            },
            "type": "scatterternary"
           }
          ],
          "surface": [
           {
            "colorbar": {
             "outlinewidth": 0,
             "ticks": ""
            },
            "colorscale": [
             [
              0,
              "#0d0887"
             ],
             [
              0.1111111111111111,
              "#46039f"
             ],
             [
              0.2222222222222222,
              "#7201a8"
             ],
             [
              0.3333333333333333,
              "#9c179e"
             ],
             [
              0.4444444444444444,
              "#bd3786"
             ],
             [
              0.5555555555555556,
              "#d8576b"
             ],
             [
              0.6666666666666666,
              "#ed7953"
             ],
             [
              0.7777777777777778,
              "#fb9f3a"
             ],
             [
              0.8888888888888888,
              "#fdca26"
             ],
             [
              1,
              "#f0f921"
             ]
            ],
            "type": "surface"
           }
          ],
          "table": [
           {
            "cells": {
             "fill": {
              "color": "#EBF0F8"
             },
             "line": {
              "color": "white"
             }
            },
            "header": {
             "fill": {
              "color": "#C8D4E3"
             },
             "line": {
              "color": "white"
             }
            },
            "type": "table"
           }
          ]
         },
         "layout": {
          "annotationdefaults": {
           "arrowcolor": "#2a3f5f",
           "arrowhead": 0,
           "arrowwidth": 1
          },
          "autotypenumbers": "strict",
          "coloraxis": {
           "colorbar": {
            "outlinewidth": 0,
            "ticks": ""
           }
          },
          "colorscale": {
           "diverging": [
            [
             0,
             "#8e0152"
            ],
            [
             0.1,
             "#c51b7d"
            ],
            [
             0.2,
             "#de77ae"
            ],
            [
             0.3,
             "#f1b6da"
            ],
            [
             0.4,
             "#fde0ef"
            ],
            [
             0.5,
             "#f7f7f7"
            ],
            [
             0.6,
             "#e6f5d0"
            ],
            [
             0.7,
             "#b8e186"
            ],
            [
             0.8,
             "#7fbc41"
            ],
            [
             0.9,
             "#4d9221"
            ],
            [
             1,
             "#276419"
            ]
           ],
           "sequential": [
            [
             0,
             "#0d0887"
            ],
            [
             0.1111111111111111,
             "#46039f"
            ],
            [
             0.2222222222222222,
             "#7201a8"
            ],
            [
             0.3333333333333333,
             "#9c179e"
            ],
            [
             0.4444444444444444,
             "#bd3786"
            ],
            [
             0.5555555555555556,
             "#d8576b"
            ],
            [
             0.6666666666666666,
             "#ed7953"
            ],
            [
             0.7777777777777778,
             "#fb9f3a"
            ],
            [
             0.8888888888888888,
             "#fdca26"
            ],
            [
             1,
             "#f0f921"
            ]
           ],
           "sequentialminus": [
            [
             0,
             "#0d0887"
            ],
            [
             0.1111111111111111,
             "#46039f"
            ],
            [
             0.2222222222222222,
             "#7201a8"
            ],
            [
             0.3333333333333333,
             "#9c179e"
            ],
            [
             0.4444444444444444,
             "#bd3786"
            ],
            [
             0.5555555555555556,
             "#d8576b"
            ],
            [
             0.6666666666666666,
             "#ed7953"
            ],
            [
             0.7777777777777778,
             "#fb9f3a"
            ],
            [
             0.8888888888888888,
             "#fdca26"
            ],
            [
             1,
             "#f0f921"
            ]
           ]
          },
          "colorway": [
           "#636efa",
           "#EF553B",
           "#00cc96",
           "#ab63fa",
           "#FFA15A",
           "#19d3f3",
           "#FF6692",
           "#B6E880",
           "#FF97FF",
           "#FECB52"
          ],
          "font": {
           "color": "#2a3f5f"
          },
          "geo": {
           "bgcolor": "white",
           "lakecolor": "white",
           "landcolor": "#E5ECF6",
           "showlakes": true,
           "showland": true,
           "subunitcolor": "white"
          },
          "hoverlabel": {
           "align": "left"
          },
          "hovermode": "closest",
          "mapbox": {
           "style": "light"
          },
          "paper_bgcolor": "white",
          "plot_bgcolor": "#E5ECF6",
          "polar": {
           "angularaxis": {
            "gridcolor": "white",
            "linecolor": "white",
            "ticks": ""
           },
           "bgcolor": "#E5ECF6",
           "radialaxis": {
            "gridcolor": "white",
            "linecolor": "white",
            "ticks": ""
           }
          },
          "scene": {
           "xaxis": {
            "backgroundcolor": "#E5ECF6",
            "gridcolor": "white",
            "gridwidth": 2,
            "linecolor": "white",
            "showbackground": true,
            "ticks": "",
            "zerolinecolor": "white"
           },
           "yaxis": {
            "backgroundcolor": "#E5ECF6",
            "gridcolor": "white",
            "gridwidth": 2,
            "linecolor": "white",
            "showbackground": true,
            "ticks": "",
            "zerolinecolor": "white"
           },
           "zaxis": {
            "backgroundcolor": "#E5ECF6",
            "gridcolor": "white",
            "gridwidth": 2,
            "linecolor": "white",
            "showbackground": true,
            "ticks": "",
            "zerolinecolor": "white"
           }
          },
          "shapedefaults": {
           "line": {
            "color": "#2a3f5f"
           }
          },
          "ternary": {
           "aaxis": {
            "gridcolor": "white",
            "linecolor": "white",
            "ticks": ""
           },
           "baxis": {
            "gridcolor": "white",
            "linecolor": "white",
            "ticks": ""
           },
           "bgcolor": "#E5ECF6",
           "caxis": {
            "gridcolor": "white",
            "linecolor": "white",
            "ticks": ""
           }
          },
          "title": {
           "x": 0.05
          },
          "xaxis": {
           "automargin": true,
           "gridcolor": "white",
           "linecolor": "white",
           "ticks": "",
           "title": {
            "standoff": 15
           },
           "zerolinecolor": "white",
           "zerolinewidth": 2
          },
          "yaxis": {
           "automargin": true,
           "gridcolor": "white",
           "linecolor": "white",
           "ticks": "",
           "title": {
            "standoff": 15
           },
           "zerolinecolor": "white",
           "zerolinewidth": 2
          }
         }
        },
        "xaxis": {
         "autorange": true,
         "range": [
          -0.5,
          2.5
         ],
         "type": "category"
        },
        "yaxis": {
         "autorange": true,
         "range": [
          0,
          26.644736842105264
         ],
         "type": "linear"
        }
       }
      },
      "image/png": "[encoded data removed]",
      "text/html": [
       "<div>                            <div id=\"221faccf-a39f-4e10-9713-6de1b5cc0769\" class=\"plotly-graph-div\" style=\"height:525px; width:100%;\"></div>            <script type=\"text/javascript\">                require([\"plotly\"], function(Plotly) {                    window.PLOTLYENV=window.PLOTLYENV || {};                                    if (document.getElementById(\"221faccf-a39f-4e10-9713-6de1b5cc0769\")) {                    Plotly.newPlot(                        \"221faccf-a39f-4e10-9713-6de1b5cc0769\",                        [{\"name\":\"Baseline\",\"x\":[\"train time\",\"train accuracy\",\"test accuracy\"],\"y\":[0.015625,0.03467517517089558,0.032704085071190825],\"type\":\"bar\"},{\"name\":\"KNN\",\"x\":[\"train time\",\"train accuracy\",\"test accuracy\"],\"y\":[0.0,0.8930500758725342,0.8730274338431658],\"type\":\"bar\"},{\"name\":\"Logistic Regression\",\"x\":[\"train time\",\"train accuracy\",\"test accuracy\"],\"y\":[0.03125,0.8882852807283763,0.8835882495751396],\"type\":\"bar\"},{\"name\":\"SVC\",\"x\":[\"train time\",\"train accuracy\",\"test accuracy\"],\"y\":[25.3125,0.8887708649468892,0.8834668608885652],\"type\":\"bar\"},{\"name\":\"Decision Trees\",\"x\":[\"train time\",\"train accuracy\",\"test accuracy\"],\"y\":[0.125,0.9174810318664643,0.8608885651857247],\"type\":\"bar\"},{\"name\":\"Improved Decision Trees\",\"x\":[\"train time\",\"train accuracy\",\"test accuracy\"],\"y\":[0.025029373168945313,0.8882852807283763,0.8835882495751396],\"type\":\"bar\"},{\"name\":\"Improved KNN\",\"x\":[\"train time\",\"train accuracy\",\"test accuracy\"],\"y\":[0.01131296157836914,0.8889529590288315,0.8823743627093955],\"type\":\"bar\"},{\"name\":\"Improved SVC\",\"x\":[\"train time\",\"train accuracy\",\"test accuracy\"],\"y\":[4.93838939666748,0.8882852807283763,0.8835882495751396],\"type\":\"bar\"},{\"name\":\"Improved Logistic Regression\",\"x\":[\"train time\",\"train accuracy\",\"test accuracy\"],\"y\":[4.93838939666748,0.8882852807283763,0.8835882495751396],\"type\":\"bar\"}],                        {\"template\":{\"data\":{\"histogram2dcontour\":[{\"type\":\"histogram2dcontour\",\"colorbar\":{\"outlinewidth\":0,\"ticks\":\"\"},\"colorscale\":[[0.0,\"#0d0887\"],[0.1111111111111111,\"#46039f\"],[0.2222222222222222,\"#7201a8\"],[0.3333333333333333,\"#9c179e\"],[0.4444444444444444,\"#bd3786\"],[0.5555555555555556,\"#d8576b\"],[0.6666666666666666,\"#ed7953\"],[0.7777777777777778,\"#fb9f3a\"],[0.8888888888888888,\"#fdca26\"],[1.0,\"#f0f921\"]]}],\"choropleth\":[{\"type\":\"choropleth\",\"colorbar\":{\"outlinewidth\":0,\"ticks\":\"\"}}],\"histogram2d\":[{\"type\":\"histogram2d\",\"colorbar\":{\"outlinewidth\":0,\"ticks\":\"\"},\"colorscale\":[[0.0,\"#0d0887\"],[0.1111111111111111,\"#46039f\"],[0.2222222222222222,\"#7201a8\"],[0.3333333333333333,\"#9c179e\"],[0.4444444444444444,\"#bd3786\"],[0.5555555555555556,\"#d8576b\"],[0.6666666666666666,\"#ed7953\"],[0.7777777777777778,\"#fb9f3a\"],[0.8888888888888888,\"#fdca26\"],[1.0,\"#f0f921\"]]}],\"heatmap\":[{\"type\":\"heatmap\",\"colorbar\":{\"outlinewidth\":0,\"ticks\":\"\"},\"colorscale\":[[0.0,\"#0d0887\"],[0.1111111111111111,\"#46039f\"],[0.2222222222222222,\"#7201a8\"],[0.3333333333333333,\"#9c179e\"],[0.4444444444444444,\"#bd3786\"],[0.5555555555555556,\"#d8576b\"],[0.6666666666666666,\"#ed7953\"],[0.7777777777777778,\"#fb9f3a\"],[0.8888888888888888,\"#fdca26\"],[1.0,\"#f0f921\"]]}],\"heatmapgl\":[{\"type\":\"heatmapgl\",\"colorbar\":{\"outlinewidth\":0,\"ticks\":\"\"},\"colorscale\":[[0.0,\"#0d0887\"],[0.1111111111111111,\"#46039f\"],[0.2222222222222222,\"#7201a8\"],[0.3333333333333333,\"#9c179e\"],[0.4444444444444444,\"#bd3786\"],[0.5555555555555556,\"#d8576b\"],[0.6666666666666666,\"#ed7953\"],[0.7777777777777778,\"#fb9f3a\"],[0.8888888888888888,\"#fdca26\"],[1.0,\"#f0f921\"]]}],\"contourcarpet\":[{\"type\":\"contourcarpet\",\"colorbar\":{\"outlinewidth\":0,\"ticks\":\"\"}}],\"contour\":[{\"type\":\"contour\",\"colorbar\":{\"outlinewidth\":0,\"ticks\":\"\"},\"colorscale\":[[0.0,\"#0d0887\"],[0.1111111111111111,\"#46039f\"],[0.2222222222222222,\"#7201a8\"],[0.3333333333333333,\"#9c179e\"],[0.4444444444444444,\"#bd3786\"],[0.5555555555555556,\"#d8576b\"],[0.6666666666666666,\"#ed7953\"],[0.7777777777777778,\"#fb9f3a\"],[0.8888888888888888,\"#fdca26\"],[1.0,\"#f0f921\"]]}],\"surface\":[{\"type\":\"surface\",\"colorbar\":{\"outlinewidth\":0,\"ticks\":\"\"},\"colorscale\":[[0.0,\"#0d0887\"],[0.1111111111111111,\"#46039f\"],[0.2222222222222222,\"#7201a8\"],[0.3333333333333333,\"#9c179e\"],[0.4444444444444444,\"#bd3786\"],[0.5555555555555556,\"#d8576b\"],[0.6666666666666666,\"#ed7953\"],[0.7777777777777778,\"#fb9f3a\"],[0.8888888888888888,\"#fdca26\"],[1.0,\"#f0f921\"]]}],\"mesh3d\":[{\"type\":\"mesh3d\",\"colorbar\":{\"outlinewidth\":0,\"ticks\":\"\"}}],\"scatter\":[{\"fillpattern\":{\"fillmode\":\"overlay\",\"size\":10,\"solidity\":0.2},\"type\":\"scatter\"}],\"parcoords\":[{\"type\":\"parcoords\",\"line\":{\"colorbar\":{\"outlinewidth\":0,\"ticks\":\"\"}}}],\"scatterpolargl\":[{\"type\":\"scatterpolargl\",\"marker\":{\"colorbar\":{\"outlinewidth\":0,\"ticks\":\"\"}}}],\"bar\":[{\"error_x\":{\"color\":\"#2a3f5f\"},\"error_y\":{\"color\":\"#2a3f5f\"},\"marker\":{\"line\":{\"color\":\"#E5ECF6\",\"width\":0.5},\"pattern\":{\"fillmode\":\"overlay\",\"size\":10,\"solidity\":0.2}},\"type\":\"bar\"}],\"scattergeo\":[{\"type\":\"scattergeo\",\"marker\":{\"colorbar\":{\"outlinewidth\":0,\"ticks\":\"\"}}}],\"scatterpolar\":[{\"type\":\"scatterpolar\",\"marker\":{\"colorbar\":{\"outlinewidth\":0,\"ticks\":\"\"}}}],\"histogram\":[{\"marker\":{\"pattern\":{\"fillmode\":\"overlay\",\"size\":10,\"solidity\":0.2}},\"type\":\"histogram\"}],\"scattergl\":[{\"type\":\"scattergl\",\"marker\":{\"colorbar\":{\"outlinewidth\":0,\"ticks\":\"\"}}}],\"scatter3d\":[{\"type\":\"scatter3d\",\"line\":{\"colorbar\":{\"outlinewidth\":0,\"ticks\":\"\"}},\"marker\":{\"colorbar\":{\"outlinewidth\":0,\"ticks\":\"\"}}}],\"scattermapbox\":[{\"type\":\"scattermapbox\",\"marker\":{\"colorbar\":{\"outlinewidth\":0,\"ticks\":\"\"}}}],\"scatterternary\":[{\"type\":\"scatterternary\",\"marker\":{\"colorbar\":{\"outlinewidth\":0,\"ticks\":\"\"}}}],\"scattercarpet\":[{\"type\":\"scattercarpet\",\"marker\":{\"colorbar\":{\"outlinewidth\":0,\"ticks\":\"\"}}}],\"carpet\":[{\"aaxis\":{\"endlinecolor\":\"#2a3f5f\",\"gridcolor\":\"white\",\"linecolor\":\"white\",\"minorgridcolor\":\"white\",\"startlinecolor\":\"#2a3f5f\"},\"baxis\":{\"endlinecolor\":\"#2a3f5f\",\"gridcolor\":\"white\",\"linecolor\":\"white\",\"minorgridcolor\":\"white\",\"startlinecolor\":\"#2a3f5f\"},\"type\":\"carpet\"}],\"table\":[{\"cells\":{\"fill\":{\"color\":\"#EBF0F8\"},\"line\":{\"color\":\"white\"}},\"header\":{\"fill\":{\"color\":\"#C8D4E3\"},\"line\":{\"color\":\"white\"}},\"type\":\"table\"}],\"barpolar\":[{\"marker\":{\"line\":{\"color\":\"#E5ECF6\",\"width\":0.5},\"pattern\":{\"fillmode\":\"overlay\",\"size\":10,\"solidity\":0.2}},\"type\":\"barpolar\"}],\"pie\":[{\"automargin\":true,\"type\":\"pie\"}]},\"layout\":{\"autotypenumbers\":\"strict\",\"colorway\":[\"#636efa\",\"#EF553B\",\"#00cc96\",\"#ab63fa\",\"#FFA15A\",\"#19d3f3\",\"#FF6692\",\"#B6E880\",\"#FF97FF\",\"#FECB52\"],\"font\":{\"color\":\"#2a3f5f\"},\"hovermode\":\"closest\",\"hoverlabel\":{\"align\":\"left\"},\"paper_bgcolor\":\"white\",\"plot_bgcolor\":\"#E5ECF6\",\"polar\":{\"bgcolor\":\"#E5ECF6\",\"angularaxis\":{\"gridcolor\":\"white\",\"linecolor\":\"white\",\"ticks\":\"\"},\"radialaxis\":{\"gridcolor\":\"white\",\"linecolor\":\"white\",\"ticks\":\"\"}},\"ternary\":{\"bgcolor\":\"#E5ECF6\",\"aaxis\":{\"gridcolor\":\"white\",\"linecolor\":\"white\",\"ticks\":\"\"},\"baxis\":{\"gridcolor\":\"white\",\"linecolor\":\"white\",\"ticks\":\"\"},\"caxis\":{\"gridcolor\":\"white\",\"linecolor\":\"white\",\"ticks\":\"\"}},\"coloraxis\":{\"colorbar\":{\"outlinewidth\":0,\"ticks\":\"\"}},\"colorscale\":{\"sequential\":[[0.0,\"#0d0887\"],[0.1111111111111111,\"#46039f\"],[0.2222222222222222,\"#7201a8\"],[0.3333333333333333,\"#9c179e\"],[0.4444444444444444,\"#bd3786\"],[0.5555555555555556,\"#d8576b\"],[0.6666666666666666,\"#ed7953\"],[0.7777777777777778,\"#fb9f3a\"],[0.8888888888888888,\"#fdca26\"],[1.0,\"#f0f921\"]],\"sequentialminus\":[[0.0,\"#0d0887\"],[0.1111111111111111,\"#46039f\"],[0.2222222222222222,\"#7201a8\"],[0.3333333333333333,\"#9c179e\"],[0.4444444444444444,\"#bd3786\"],[0.5555555555555556,\"#d8576b\"],[0.6666666666666666,\"#ed7953\"],[0.7777777777777778,\"#fb9f3a\"],[0.8888888888888888,\"#fdca26\"],[1.0,\"#f0f921\"]],\"diverging\":[[0,\"#8e0152\"],[0.1,\"#c51b7d\"],[0.2,\"#de77ae\"],[0.3,\"#f1b6da\"],[0.4,\"#fde0ef\"],[0.5,\"#f7f7f7\"],[0.6,\"#e6f5d0\"],[0.7,\"#b8e186\"],[0.8,\"#7fbc41\"],[0.9,\"#4d9221\"],[1,\"#276419\"]]},\"xaxis\":{\"gridcolor\":\"white\",\"linecolor\":\"white\",\"ticks\":\"\",\"title\":{\"standoff\":15},\"zerolinecolor\":\"white\",\"automargin\":true,\"zerolinewidth\":2},\"yaxis\":{\"gridcolor\":\"white\",\"linecolor\":\"white\",\"ticks\":\"\",\"title\":{\"standoff\":15},\"zerolinecolor\":\"white\",\"automargin\":true,\"zerolinewidth\":2},\"scene\":{\"xaxis\":{\"backgroundcolor\":\"#E5ECF6\",\"gridcolor\":\"white\",\"linecolor\":\"white\",\"showbackground\":true,\"ticks\":\"\",\"zerolinecolor\":\"white\",\"gridwidth\":2},\"yaxis\":{\"backgroundcolor\":\"#E5ECF6\",\"gridcolor\":\"white\",\"linecolor\":\"white\",\"showbackground\":true,\"ticks\":\"\",\"zerolinecolor\":\"white\",\"gridwidth\":2},\"zaxis\":{\"backgroundcolor\":\"#E5ECF6\",\"gridcolor\":\"white\",\"linecolor\":\"white\",\"showbackground\":true,\"ticks\":\"\",\"zerolinecolor\":\"white\",\"gridwidth\":2}},\"shapedefaults\":{\"line\":{\"color\":\"#2a3f5f\"}},\"annotationdefaults\":{\"arrowcolor\":\"#2a3f5f\",\"arrowhead\":0,\"arrowwidth\":1},\"geo\":{\"bgcolor\":\"white\",\"landcolor\":\"#E5ECF6\",\"subunitcolor\":\"white\",\"showland\":true,\"showlakes\":true,\"lakecolor\":\"white\"},\"title\":{\"x\":0.05},\"mapbox\":{\"style\":\"light\"}}},\"barmode\":\"group\"},                        {\"responsive\": true}                    ).then(function(){\n",
       "                            \n",
       "var gd = document.getElementById('221faccf-a39f-4e10-9713-6de1b5cc0769');\n",
       "var x = new MutationObserver(function (mutations, observer) {{\n",
       "        var display = window.getComputedStyle(gd).display;\n",
       "        if (!display || display === 'none') {{\n",
       "            console.log([gd, 'removed!']);\n",
       "            Plotly.purge(gd);\n",
       "            observer.disconnect();\n",
       "        }}\n",
       "}});\n",
       "\n",
       "// Listen for the removal of the full notebook cells\n",
       "var notebookContainer = gd.closest('#notebook-container');\n",
       "if (notebookContainer) {{\n",
       "    x.observe(notebookContainer, {childList: true});\n",
       "}}\n",
       "\n",
       "// Listen for the clearing of the current output cell\n",
       "var outputEl = gd.closest('.output');\n",
       "if (outputEl) {{\n",
       "    x.observe(outputEl, {childList: true});\n",
       "}}\n",
       "\n",
       "                        })                };                });            </script>        </div>"
      ]
     },
     "metadata": {},
     "output_type": "display_data"
    }
   ],
   "source": [
    "import plotly.graph_objects as go\n",
    "\n",
    "fig = go.Figure(data=[\n",
    "    go.Bar(name='Baseline', x=metrics, y=results_df.loc['Baseline'].tolist()),\n",
    "    go.Bar(name='KNN', x=metrics, y=results_df.loc['KNN'].tolist()),\n",
    "    go.Bar(name='Logistic Regression', x=metrics, y=results_df.loc['Logistic Regression'].tolist()),\n",
    "    go.Bar(name='SVC', x=metrics, y=results_df.loc['SVC'].tolist()),\n",
    "    go.Bar(name='Decision Trees', x=metrics, y=results_df.loc['Decision Trees'].tolist()),\n",
    "    go.Bar(name='Improved Decision Trees', x=metrics, y=results_df.loc['Improved Decision Trees'].tolist()),\n",
    "    go.Bar(name='Improved KNN', x=metrics, y=results_df.loc['Improved KNN'].tolist()),\n",
    "    go.Bar(name='Improved SVC', x=metrics, y=results_df.loc['Improved SVC'].tolist()),\n",
    "    go.Bar(name='Improved Logistic Regression', x=metrics, y=results_df.loc['Improved Logistic Regression'].tolist())\n",
    "\n",
    "])\n",
    "# Change the bar mode\n",
    "fig.update_layout(barmode='group')\n",
    "fig.show()"
   ]
  },
  {
   "cell_type": "markdown",
   "metadata": {},
   "source": [
    "##### Next Steps and Recommendations"
   ]
  },
  {
   "cell_type": "markdown",
   "metadata": {},
   "source": [
    "Delineating loan status may provide better insights that may lead to better classification and predictions by the models.\n",
    "The basic Logistic Regression seems to be a good classifier to use for this problem."
   ]
  }
 ],
 "metadata": {
  "kernelspec": {
   "display_name": "Python 3 (ipykernel)",
   "language": "python",
   "name": "python3"
  },
  "language_info": {
   "codemirror_mode": {
    "name": "ipython",
    "version": 3
   },
   "file_extension": ".py",
   "mimetype": "text/x-python",
   "name": "python",
   "nbconvert_exporter": "python",
   "pygments_lexer": "ipython3",
   "version": "3.11.5"
  },
  "widgets": {
   "application/vnd.jupyter.widget-state+json": {
    "state": {},
    "version_major": 2,
    "version_minor": 0
   }
  }
 },
 "nbformat": 4,
 "nbformat_minor": 4
}
